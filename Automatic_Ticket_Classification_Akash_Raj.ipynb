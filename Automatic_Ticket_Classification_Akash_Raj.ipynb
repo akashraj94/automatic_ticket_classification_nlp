{
 "cells": [
  {
   "cell_type": "markdown",
   "metadata": {
    "id": "rhR-ZUkwJrFn"
   },
   "source": [
    "## Problem Statement \n",
    "\n",
    "You need to build a model that is able to classify customer complaints based on the products/services. By doing so, you can segregate these tickets into their relevant categories and, therefore, help in the quick resolution of the issue.\n",
    "\n",
    "You will be doing topic modelling on the <b>.json</b> data provided by the company. Since this data is not labelled, you need to apply NMF to analyse patterns and classify tickets into the following five clusters based on their products/services:\n",
    "\n",
    "* Credit card / Prepaid card\n",
    "\n",
    "* Bank account services\n",
    "\n",
    "* Theft/Dispute reporting\n",
    "\n",
    "* Mortgages/loans\n",
    "\n",
    "* Others \n",
    "\n",
    "\n",
    "With the help of topic modelling, you will be able to map each ticket onto its respective department/category. You can then use this data to train any supervised model such as logistic regression, decision tree or random forest. Using this trained model, you can classify any new customer complaint support ticket into its relevant department."
   ]
  },
  {
   "cell_type": "markdown",
   "metadata": {
    "id": "mcgXVNyaLUFS"
   },
   "source": [
    "## Pipelines that needs to be performed:\n",
    "\n",
    "You need to perform the following eight major tasks to complete the assignment:\n",
    "\n",
    "1.  Data loading\n",
    "\n",
    "2. Text preprocessing\n",
    "\n",
    "3. Exploratory data analysis (EDA)\n",
    "\n",
    "4. Feature extraction\n",
    "\n",
    "5. Topic modelling \n",
    "\n",
    "6. Model building using supervised learning\n",
    "\n",
    "7. Model training and evaluation\n",
    "\n",
    "8. Model inference"
   ]
  },
  {
   "cell_type": "markdown",
   "metadata": {
    "id": "JuLFIymAL58u"
   },
   "source": [
    "## Importing the necessary libraries"
   ]
  },
  {
   "cell_type": "code",
   "execution_count": 7,
   "metadata": {
    "colab": {
     "base_uri": "https://localhost:8080/"
    },
    "executionInfo": {
     "elapsed": 365,
     "status": "ok",
     "timestamp": 1648987124469,
     "user": {
      "displayName": "Jaya Srivastava",
      "userId": "07102034494739188338"
     },
     "user_tz": -330
    },
    "id": "aEQWAHpUCZNs",
    "outputId": "4591f86a-caee-4156-b162-de7f91a02842"
   },
   "outputs": [
    {
     "name": "stdout",
     "output_type": "stream",
     "text": [
      "ls: cannot access 'complaints.json': No such file or directory\n"
     ]
    }
   ],
   "source": [
    "!ls -l complaints.json"
   ]
  },
  {
   "cell_type": "code",
   "execution_count": 8,
   "metadata": {
    "colab": {
     "base_uri": "https://localhost:8080/"
    },
    "executionInfo": {
     "elapsed": 3708,
     "status": "ok",
     "timestamp": 1648987130420,
     "user": {
      "displayName": "Jaya Srivastava",
      "userId": "07102034494739188338"
     },
     "user_tz": -330
    },
    "id": "3Hreqb3pSWNB",
    "outputId": "3e4ab458-9278-4d3d-e598-635b22dcf4c9"
   },
   "outputs": [
    {
     "name": "stdout",
     "output_type": "stream",
     "text": [
      "Requirement already satisfied: swifter in /usr/local/lib/python3.7/dist-packages (1.1.2)\n",
      "Requirement already satisfied: pandas>=1.0.0 in /usr/local/lib/python3.7/dist-packages (from swifter) (1.3.5)\n",
      "Requirement already satisfied: psutil>=5.6.6 in /usr/local/lib/python3.7/dist-packages (from swifter) (5.9.0)\n",
      "Requirement already satisfied: ipywidgets>=7.0.0 in /usr/local/lib/python3.7/dist-packages (from swifter) (7.7.0)\n",
      "Requirement already satisfied: cloudpickle>=0.2.2 in /usr/local/lib/python3.7/dist-packages (from swifter) (1.3.0)\n",
      "Requirement already satisfied: tqdm>=4.33.0 in /usr/local/lib/python3.7/dist-packages (from swifter) (4.63.0)\n",
      "Requirement already satisfied: bleach>=3.1.1 in /usr/local/lib/python3.7/dist-packages (from swifter) (4.1.0)\n",
      "Requirement already satisfied: dask[dataframe]>=2.10.0 in /usr/local/lib/python3.7/dist-packages (from swifter) (2.12.0)\n",
      "Requirement already satisfied: parso>0.4.0 in /usr/local/lib/python3.7/dist-packages (from swifter) (0.8.3)\n",
      "Requirement already satisfied: six>=1.9.0 in /usr/local/lib/python3.7/dist-packages (from bleach>=3.1.1->swifter) (1.15.0)\n",
      "Requirement already satisfied: webencodings in /usr/local/lib/python3.7/dist-packages (from bleach>=3.1.1->swifter) (0.5.1)\n",
      "Requirement already satisfied: packaging in /usr/local/lib/python3.7/dist-packages (from bleach>=3.1.1->swifter) (21.3)\n",
      "Requirement already satisfied: partd>=0.3.10 in /usr/local/lib/python3.7/dist-packages (from dask[dataframe]>=2.10.0->swifter) (1.2.0)\n",
      "Requirement already satisfied: fsspec>=0.6.0 in /usr/local/lib/python3.7/dist-packages (from dask[dataframe]>=2.10.0->swifter) (2022.3.0)\n",
      "Requirement already satisfied: toolz>=0.7.3 in /usr/local/lib/python3.7/dist-packages (from dask[dataframe]>=2.10.0->swifter) (0.11.2)\n",
      "Requirement already satisfied: numpy>=1.13.0 in /usr/local/lib/python3.7/dist-packages (from dask[dataframe]>=2.10.0->swifter) (1.21.5)\n",
      "Requirement already satisfied: ipython-genutils~=0.2.0 in /usr/local/lib/python3.7/dist-packages (from ipywidgets>=7.0.0->swifter) (0.2.0)\n",
      "Requirement already satisfied: ipython>=4.0.0 in /usr/local/lib/python3.7/dist-packages (from ipywidgets>=7.0.0->swifter) (5.5.0)\n",
      "Requirement already satisfied: jupyterlab-widgets>=1.0.0 in /usr/local/lib/python3.7/dist-packages (from ipywidgets>=7.0.0->swifter) (1.1.0)\n",
      "Requirement already satisfied: traitlets>=4.3.1 in /usr/local/lib/python3.7/dist-packages (from ipywidgets>=7.0.0->swifter) (5.1.1)\n",
      "Requirement already satisfied: ipykernel>=4.5.1 in /usr/local/lib/python3.7/dist-packages (from ipywidgets>=7.0.0->swifter) (4.10.1)\n",
      "Requirement already satisfied: nbformat>=4.2.0 in /usr/local/lib/python3.7/dist-packages (from ipywidgets>=7.0.0->swifter) (5.2.0)\n",
      "Requirement already satisfied: widgetsnbextension~=3.6.0 in /usr/local/lib/python3.7/dist-packages (from ipywidgets>=7.0.0->swifter) (3.6.0)\n",
      "Requirement already satisfied: jupyter-client in /usr/local/lib/python3.7/dist-packages (from ipykernel>=4.5.1->ipywidgets>=7.0.0->swifter) (5.3.5)\n",
      "Requirement already satisfied: tornado>=4.0 in /usr/local/lib/python3.7/dist-packages (from ipykernel>=4.5.1->ipywidgets>=7.0.0->swifter) (5.1.1)\n",
      "Requirement already satisfied: decorator in /usr/local/lib/python3.7/dist-packages (from ipython>=4.0.0->ipywidgets>=7.0.0->swifter) (4.4.2)\n",
      "Requirement already satisfied: pygments in /usr/local/lib/python3.7/dist-packages (from ipython>=4.0.0->ipywidgets>=7.0.0->swifter) (2.6.1)\n",
      "Requirement already satisfied: simplegeneric>0.8 in /usr/local/lib/python3.7/dist-packages (from ipython>=4.0.0->ipywidgets>=7.0.0->swifter) (0.8.1)\n",
      "Requirement already satisfied: pexpect in /usr/local/lib/python3.7/dist-packages (from ipython>=4.0.0->ipywidgets>=7.0.0->swifter) (4.8.0)\n",
      "Requirement already satisfied: pickleshare in /usr/local/lib/python3.7/dist-packages (from ipython>=4.0.0->ipywidgets>=7.0.0->swifter) (0.7.5)\n",
      "Requirement already satisfied: setuptools>=18.5 in /usr/local/lib/python3.7/dist-packages (from ipython>=4.0.0->ipywidgets>=7.0.0->swifter) (57.4.0)\n",
      "Requirement already satisfied: prompt-toolkit<2.0.0,>=1.0.4 in /usr/local/lib/python3.7/dist-packages (from ipython>=4.0.0->ipywidgets>=7.0.0->swifter) (1.0.18)\n",
      "Requirement already satisfied: jsonschema!=2.5.0,>=2.4 in /usr/local/lib/python3.7/dist-packages (from nbformat>=4.2.0->ipywidgets>=7.0.0->swifter) (4.3.3)\n",
      "Requirement already satisfied: jupyter-core in /usr/local/lib/python3.7/dist-packages (from nbformat>=4.2.0->ipywidgets>=7.0.0->swifter) (4.9.2)\n",
      "Requirement already satisfied: importlib-metadata in /usr/local/lib/python3.7/dist-packages (from jsonschema!=2.5.0,>=2.4->nbformat>=4.2.0->ipywidgets>=7.0.0->swifter) (4.11.3)\n",
      "Requirement already satisfied: pyrsistent!=0.17.0,!=0.17.1,!=0.17.2,>=0.14.0 in /usr/local/lib/python3.7/dist-packages (from jsonschema!=2.5.0,>=2.4->nbformat>=4.2.0->ipywidgets>=7.0.0->swifter) (0.18.1)\n",
      "Requirement already satisfied: importlib-resources>=1.4.0 in /usr/local/lib/python3.7/dist-packages (from jsonschema!=2.5.0,>=2.4->nbformat>=4.2.0->ipywidgets>=7.0.0->swifter) (5.4.0)\n",
      "Requirement already satisfied: typing-extensions in /usr/local/lib/python3.7/dist-packages (from jsonschema!=2.5.0,>=2.4->nbformat>=4.2.0->ipywidgets>=7.0.0->swifter) (3.10.0.2)\n",
      "Requirement already satisfied: attrs>=17.4.0 in /usr/local/lib/python3.7/dist-packages (from jsonschema!=2.5.0,>=2.4->nbformat>=4.2.0->ipywidgets>=7.0.0->swifter) (21.4.0)\n",
      "Requirement already satisfied: zipp>=3.1.0 in /usr/local/lib/python3.7/dist-packages (from importlib-resources>=1.4.0->jsonschema!=2.5.0,>=2.4->nbformat>=4.2.0->ipywidgets>=7.0.0->swifter) (3.7.0)\n",
      "Requirement already satisfied: pytz>=2017.3 in /usr/local/lib/python3.7/dist-packages (from pandas>=1.0.0->swifter) (2018.9)\n",
      "Requirement already satisfied: python-dateutil>=2.7.3 in /usr/local/lib/python3.7/dist-packages (from pandas>=1.0.0->swifter) (2.8.2)\n",
      "Requirement already satisfied: locket in /usr/local/lib/python3.7/dist-packages (from partd>=0.3.10->dask[dataframe]>=2.10.0->swifter) (0.2.1)\n",
      "Requirement already satisfied: wcwidth in /usr/local/lib/python3.7/dist-packages (from prompt-toolkit<2.0.0,>=1.0.4->ipython>=4.0.0->ipywidgets>=7.0.0->swifter) (0.2.5)\n",
      "Requirement already satisfied: notebook>=4.4.1 in /usr/local/lib/python3.7/dist-packages (from widgetsnbextension~=3.6.0->ipywidgets>=7.0.0->swifter) (5.3.1)\n",
      "Requirement already satisfied: jinja2 in /usr/local/lib/python3.7/dist-packages (from notebook>=4.4.1->widgetsnbextension~=3.6.0->ipywidgets>=7.0.0->swifter) (2.11.3)\n",
      "Requirement already satisfied: Send2Trash in /usr/local/lib/python3.7/dist-packages (from notebook>=4.4.1->widgetsnbextension~=3.6.0->ipywidgets>=7.0.0->swifter) (1.8.0)\n",
      "Requirement already satisfied: terminado>=0.8.1 in /usr/local/lib/python3.7/dist-packages (from notebook>=4.4.1->widgetsnbextension~=3.6.0->ipywidgets>=7.0.0->swifter) (0.13.3)\n",
      "Requirement already satisfied: nbconvert in /usr/local/lib/python3.7/dist-packages (from notebook>=4.4.1->widgetsnbextension~=3.6.0->ipywidgets>=7.0.0->swifter) (5.6.1)\n",
      "Requirement already satisfied: pyzmq>=13 in /usr/local/lib/python3.7/dist-packages (from jupyter-client->ipykernel>=4.5.1->ipywidgets>=7.0.0->swifter) (22.3.0)\n",
      "Requirement already satisfied: ptyprocess in /usr/local/lib/python3.7/dist-packages (from terminado>=0.8.1->notebook>=4.4.1->widgetsnbextension~=3.6.0->ipywidgets>=7.0.0->swifter) (0.7.0)\n",
      "Requirement already satisfied: MarkupSafe>=0.23 in /usr/local/lib/python3.7/dist-packages (from jinja2->notebook>=4.4.1->widgetsnbextension~=3.6.0->ipywidgets>=7.0.0->swifter) (2.0.1)\n",
      "Requirement already satisfied: pandocfilters>=1.4.1 in /usr/local/lib/python3.7/dist-packages (from nbconvert->notebook>=4.4.1->widgetsnbextension~=3.6.0->ipywidgets>=7.0.0->swifter) (1.5.0)\n",
      "Requirement already satisfied: defusedxml in /usr/local/lib/python3.7/dist-packages (from nbconvert->notebook>=4.4.1->widgetsnbextension~=3.6.0->ipywidgets>=7.0.0->swifter) (0.7.1)\n",
      "Requirement already satisfied: testpath in /usr/local/lib/python3.7/dist-packages (from nbconvert->notebook>=4.4.1->widgetsnbextension~=3.6.0->ipywidgets>=7.0.0->swifter) (0.6.0)\n",
      "Requirement already satisfied: entrypoints>=0.2.2 in /usr/local/lib/python3.7/dist-packages (from nbconvert->notebook>=4.4.1->widgetsnbextension~=3.6.0->ipywidgets>=7.0.0->swifter) (0.4)\n",
      "Requirement already satisfied: mistune<2,>=0.8.1 in /usr/local/lib/python3.7/dist-packages (from nbconvert->notebook>=4.4.1->widgetsnbextension~=3.6.0->ipywidgets>=7.0.0->swifter) (0.8.4)\n",
      "Requirement already satisfied: pyparsing!=3.0.5,>=2.0.2 in /usr/local/lib/python3.7/dist-packages (from packaging->bleach>=3.1.1->swifter) (3.0.7)\n"
     ]
    }
   ],
   "source": [
    "pip install swifter"
   ]
  },
  {
   "cell_type": "code",
   "execution_count": 9,
   "metadata": {
    "colab": {
     "base_uri": "https://localhost:8080/"
    },
    "executionInfo": {
     "elapsed": 1761,
     "status": "ok",
     "timestamp": 1648987142982,
     "user": {
      "displayName": "Jaya Srivastava",
      "userId": "07102034494739188338"
     },
     "user_tz": -330
    },
    "id": "O-Q9pqrcJrFr",
    "outputId": "d4b1fa6a-f6f1-4ec7-afc0-2dec9034a5c8"
   },
   "outputs": [
    {
     "name": "stdout",
     "output_type": "stream",
     "text": [
      "[nltk_data] Downloading package wordnet to /root/nltk_data...\n",
      "[nltk_data]   Package wordnet is already up-to-date!\n",
      "[nltk_data] Downloading package stopwords to /root/nltk_data...\n",
      "[nltk_data]   Package stopwords is already up-to-date!\n",
      "[nltk_data] Downloading package punkt to /root/nltk_data...\n",
      "[nltk_data]   Package punkt is already up-to-date!\n",
      "[nltk_data] Downloading package stopwords to /root/nltk_data...\n",
      "[nltk_data]   Package stopwords is already up-to-date!\n",
      "[nltk_data] Downloading package averaged_perceptron_tagger to\n",
      "[nltk_data]     /root/nltk_data...\n",
      "[nltk_data]   Package averaged_perceptron_tagger is already up-to-\n",
      "[nltk_data]       date!\n"
     ]
    }
   ],
   "source": [
    "import json \n",
    "import numpy as np\n",
    "import pandas as pd\n",
    "import re, nltk, spacy, string\n",
    "import en_core_web_sm\n",
    "nlp = en_core_web_sm.load(disable=['parser', 'ner'])\n",
    "import seaborn as sns\n",
    "import matplotlib.pyplot as plt\n",
    "%matplotlib inline\n",
    "\n",
    "from plotly.offline import plot\n",
    "import plotly.graph_objects as go\n",
    "import plotly.express as px\n",
    "\n",
    "from sklearn.feature_extraction.text import CountVectorizer, TfidfVectorizer\n",
    "from pprint import pprint\n",
    "\n",
    "import swifter\n",
    "from nltk.corpus import stopwords\n",
    "from nltk.tokenize import word_tokenize\n",
    "from nltk.stem import WordNetLemmatizer\n",
    "from nltk import pos_tag\n",
    "nltk.download('wordnet')\n",
    "nltk.download('stopwords')\n",
    "nltk.download('punkt')\n",
    "nltk.download('stopwords')\n",
    "nltk.download('averaged_perceptron_tagger')\n",
    "\n",
    "stopwords = set(stopwords.words('english'))\n",
    "wordnet_lemmatizer = WordNetLemmatizer()\n",
    "\n",
    "from wordcloud import WordCloud\n",
    "from sklearn.decomposition import NMF\n",
    "from sklearn.feature_extraction.text import TfidfTransformer\n",
    "from sklearn.model_selection import train_test_split\n",
    "from sklearn.metrics import classification_report, accuracy_score, roc_auc_score\n",
    "from sklearn.linear_model import LogisticRegression\n",
    "from sklearn.tree import DecisionTreeClassifier, plot_tree\n",
    "from sklearn.ensemble import RandomForestClassifier\n",
    "from sklearn.model_selection import GridSearchCV\n",
    "from sklearn.naive_bayes import MultinomialNB\n",
    "from sklearn import metrics\n",
    "plt.rcParams['figure.figsize']=(10,10) "
   ]
  },
  {
   "cell_type": "markdown",
   "metadata": {
    "id": "KtRLCsNVJrFt"
   },
   "source": [
    "## Loading the data\n",
    "\n",
    "The data is in JSON format and we need to convert it to a dataframe."
   ]
  },
  {
   "cell_type": "code",
   "execution_count": 12,
   "metadata": {
    "colab": {
     "base_uri": "https://localhost:8080/"
    },
    "executionInfo": {
     "elapsed": 19281,
     "status": "ok",
     "timestamp": 1648987934730,
     "user": {
      "displayName": "Jaya Srivastava",
      "userId": "07102034494739188338"
     },
     "user_tz": -330
    },
    "id": "1rBQ3NmpVrJI",
    "outputId": "cfa1079e-b74e-4c46-e005-20b52b05fb0b"
   },
   "outputs": [
    {
     "name": "stdout",
     "output_type": "stream",
     "text": [
      "Mounted at /content/drive/\n"
     ]
    }
   ],
   "source": [
    "from google.colab import drive\n",
    "drive.mount('/content/drive/')"
   ]
  },
  {
   "cell_type": "code",
   "execution_count": 13,
   "metadata": {
    "executionInfo": {
     "elapsed": 4776,
     "status": "ok",
     "timestamp": 1648987943134,
     "user": {
      "displayName": "Jaya Srivastava",
      "userId": "07102034494739188338"
     },
     "user_tz": -330
    },
    "id": "puVzIf_iJrFt"
   },
   "outputs": [],
   "source": [
    "# Opening JSON file \n",
    "f = open('/content/drive/My Drive/app/NLP Assignment/complaints.json')# Write the path to your data file and load it \n",
    "  \n",
    "# returns JSON object as  \n",
    "# a dictionary \n",
    "data = json.load(f)\n",
    "df=pd.json_normalize(data)"
   ]
  },
  {
   "cell_type": "markdown",
   "metadata": {
    "id": "_xYpH-sAJrFu"
   },
   "source": [
    "## Data preparation"
   ]
  },
  {
   "cell_type": "code",
   "execution_count": 14,
   "metadata": {
    "colab": {
     "base_uri": "https://localhost:8080/"
    },
    "executionInfo": {
     "elapsed": 371,
     "status": "ok",
     "timestamp": 1648987948071,
     "user": {
      "displayName": "Jaya Srivastava",
      "userId": "07102034494739188338"
     },
     "user_tz": -330
    },
    "id": "ZSkeh7AVCuu5",
    "outputId": "c9a77312-0a79-432e-9132-518de6e7d121"
   },
   "outputs": [
    {
     "data": {
      "text/plain": [
       "(78313, 22)"
      ]
     },
     "execution_count": 14,
     "metadata": {},
     "output_type": "execute_result"
    }
   ],
   "source": [
    "df.shape"
   ]
  },
  {
   "cell_type": "code",
   "execution_count": 15,
   "metadata": {
    "colab": {
     "base_uri": "https://localhost:8080/"
    },
    "executionInfo": {
     "elapsed": 355,
     "status": "ok",
     "timestamp": 1648987987838,
     "user": {
      "displayName": "Jaya Srivastava",
      "userId": "07102034494739188338"
     },
     "user_tz": -330
    },
    "id": "Lf8ufHH5JrFu",
    "outputId": "4bc55f3b-ae32-42bf-f92e-16b58e960591"
   },
   "outputs": [
    {
     "name": "stdout",
     "output_type": "stream",
     "text": [
      "<class 'pandas.core.frame.DataFrame'>\n",
      "RangeIndex: 78313 entries, 0 to 78312\n",
      "Data columns (total 22 columns):\n",
      " #   Column                             Non-Null Count  Dtype  \n",
      "---  ------                             --------------  -----  \n",
      " 0   _index                             78313 non-null  object \n",
      " 1   _type                              78313 non-null  object \n",
      " 2   _id                                78313 non-null  object \n",
      " 3   _score                             78313 non-null  float64\n",
      " 4   _source.tags                       10900 non-null  object \n",
      " 5   _source.zip_code                   71556 non-null  object \n",
      " 6   _source.complaint_id               78313 non-null  object \n",
      " 7   _source.issue                      78313 non-null  object \n",
      " 8   _source.date_received              78313 non-null  object \n",
      " 9   _source.state                      76322 non-null  object \n",
      " 10  _source.consumer_disputed          78313 non-null  object \n",
      " 11  _source.product                    78313 non-null  object \n",
      " 12  _source.company_response           78313 non-null  object \n",
      " 13  _source.company                    78313 non-null  object \n",
      " 14  _source.submitted_via              78313 non-null  object \n",
      " 15  _source.date_sent_to_company       78313 non-null  object \n",
      " 16  _source.company_public_response    4 non-null      object \n",
      " 17  _source.sub_product                67742 non-null  object \n",
      " 18  _source.timely                     78313 non-null  object \n",
      " 19  _source.complaint_what_happened    78313 non-null  object \n",
      " 20  _source.sub_issue                  32016 non-null  object \n",
      " 21  _source.consumer_consent_provided  77305 non-null  object \n",
      "dtypes: float64(1), object(21)\n",
      "memory usage: 13.1+ MB\n"
     ]
    }
   ],
   "source": [
    "# Inspect the dataframe to understand the given data.\n",
    "df.info()"
   ]
  },
  {
   "cell_type": "code",
   "execution_count": 16,
   "metadata": {
    "colab": {
     "base_uri": "https://localhost:8080/",
     "height": 438
    },
    "executionInfo": {
     "elapsed": 350,
     "status": "ok",
     "timestamp": 1648988001802,
     "user": {
      "displayName": "Jaya Srivastava",
      "userId": "07102034494739188338"
     },
     "user_tz": -330
    },
    "id": "SAcfOxmdCz4O",
    "outputId": "462976b8-5388-48d0-cf4d-8e987db4a189"
   },
   "outputs": [
    {
     "data": {
      "text/html": [
       "\n",
       "  <div id=\"df-b2b8182c-b703-444e-8613-38a9fa654089\">\n",
       "    <div class=\"colab-df-container\">\n",
       "      <div>\n",
       "<style scoped>\n",
       "    .dataframe tbody tr th:only-of-type {\n",
       "        vertical-align: middle;\n",
       "    }\n",
       "\n",
       "    .dataframe tbody tr th {\n",
       "        vertical-align: top;\n",
       "    }\n",
       "\n",
       "    .dataframe thead th {\n",
       "        text-align: right;\n",
       "    }\n",
       "</style>\n",
       "<table border=\"1\" class=\"dataframe\">\n",
       "  <thead>\n",
       "    <tr style=\"text-align: right;\">\n",
       "      <th></th>\n",
       "      <th>_index</th>\n",
       "      <th>_type</th>\n",
       "      <th>_id</th>\n",
       "      <th>_score</th>\n",
       "      <th>_source.tags</th>\n",
       "      <th>_source.zip_code</th>\n",
       "      <th>_source.complaint_id</th>\n",
       "      <th>_source.issue</th>\n",
       "      <th>_source.date_received</th>\n",
       "      <th>_source.state</th>\n",
       "      <th>...</th>\n",
       "      <th>_source.company_response</th>\n",
       "      <th>_source.company</th>\n",
       "      <th>_source.submitted_via</th>\n",
       "      <th>_source.date_sent_to_company</th>\n",
       "      <th>_source.company_public_response</th>\n",
       "      <th>_source.sub_product</th>\n",
       "      <th>_source.timely</th>\n",
       "      <th>_source.complaint_what_happened</th>\n",
       "      <th>_source.sub_issue</th>\n",
       "      <th>_source.consumer_consent_provided</th>\n",
       "    </tr>\n",
       "  </thead>\n",
       "  <tbody>\n",
       "    <tr>\n",
       "      <th>0</th>\n",
       "      <td>complaint-public-v2</td>\n",
       "      <td>complaint</td>\n",
       "      <td>3211475</td>\n",
       "      <td>0.0</td>\n",
       "      <td>None</td>\n",
       "      <td>90301</td>\n",
       "      <td>3211475</td>\n",
       "      <td>Attempts to collect debt not owed</td>\n",
       "      <td>2019-04-13T12:00:00-05:00</td>\n",
       "      <td>CA</td>\n",
       "      <td>...</td>\n",
       "      <td>Closed with explanation</td>\n",
       "      <td>JPMORGAN CHASE &amp; CO.</td>\n",
       "      <td>Web</td>\n",
       "      <td>2019-04-13T12:00:00-05:00</td>\n",
       "      <td>None</td>\n",
       "      <td>Credit card debt</td>\n",
       "      <td>Yes</td>\n",
       "      <td></td>\n",
       "      <td>Debt is not yours</td>\n",
       "      <td>Consent not provided</td>\n",
       "    </tr>\n",
       "    <tr>\n",
       "      <th>1</th>\n",
       "      <td>complaint-public-v2</td>\n",
       "      <td>complaint</td>\n",
       "      <td>3229299</td>\n",
       "      <td>0.0</td>\n",
       "      <td>Servicemember</td>\n",
       "      <td>319XX</td>\n",
       "      <td>3229299</td>\n",
       "      <td>Written notification about debt</td>\n",
       "      <td>2019-05-01T12:00:00-05:00</td>\n",
       "      <td>GA</td>\n",
       "      <td>...</td>\n",
       "      <td>Closed with explanation</td>\n",
       "      <td>JPMORGAN CHASE &amp; CO.</td>\n",
       "      <td>Web</td>\n",
       "      <td>2019-05-01T12:00:00-05:00</td>\n",
       "      <td>None</td>\n",
       "      <td>Credit card debt</td>\n",
       "      <td>Yes</td>\n",
       "      <td>Good morning my name is XXXX XXXX and I apprec...</td>\n",
       "      <td>Didn't receive enough information to verify debt</td>\n",
       "      <td>Consent provided</td>\n",
       "    </tr>\n",
       "    <tr>\n",
       "      <th>2</th>\n",
       "      <td>complaint-public-v2</td>\n",
       "      <td>complaint</td>\n",
       "      <td>3199379</td>\n",
       "      <td>0.0</td>\n",
       "      <td>None</td>\n",
       "      <td>77069</td>\n",
       "      <td>3199379</td>\n",
       "      <td>Other features, terms, or problems</td>\n",
       "      <td>2019-04-02T12:00:00-05:00</td>\n",
       "      <td>TX</td>\n",
       "      <td>...</td>\n",
       "      <td>Closed with explanation</td>\n",
       "      <td>JPMORGAN CHASE &amp; CO.</td>\n",
       "      <td>Web</td>\n",
       "      <td>2019-04-02T12:00:00-05:00</td>\n",
       "      <td>None</td>\n",
       "      <td>General-purpose credit card or charge card</td>\n",
       "      <td>Yes</td>\n",
       "      <td>I upgraded my XXXX XXXX card in XX/XX/2018 and...</td>\n",
       "      <td>Problem with rewards from credit card</td>\n",
       "      <td>Consent provided</td>\n",
       "    </tr>\n",
       "    <tr>\n",
       "      <th>3</th>\n",
       "      <td>complaint-public-v2</td>\n",
       "      <td>complaint</td>\n",
       "      <td>2673060</td>\n",
       "      <td>0.0</td>\n",
       "      <td>None</td>\n",
       "      <td>48066</td>\n",
       "      <td>2673060</td>\n",
       "      <td>Trouble during payment process</td>\n",
       "      <td>2017-09-13T12:00:00-05:00</td>\n",
       "      <td>MI</td>\n",
       "      <td>...</td>\n",
       "      <td>Closed with explanation</td>\n",
       "      <td>JPMORGAN CHASE &amp; CO.</td>\n",
       "      <td>Web</td>\n",
       "      <td>2017-09-14T12:00:00-05:00</td>\n",
       "      <td>None</td>\n",
       "      <td>Conventional home mortgage</td>\n",
       "      <td>Yes</td>\n",
       "      <td></td>\n",
       "      <td>None</td>\n",
       "      <td>Consent not provided</td>\n",
       "    </tr>\n",
       "    <tr>\n",
       "      <th>4</th>\n",
       "      <td>complaint-public-v2</td>\n",
       "      <td>complaint</td>\n",
       "      <td>3203545</td>\n",
       "      <td>0.0</td>\n",
       "      <td>None</td>\n",
       "      <td>10473</td>\n",
       "      <td>3203545</td>\n",
       "      <td>Fees or interest</td>\n",
       "      <td>2019-04-05T12:00:00-05:00</td>\n",
       "      <td>NY</td>\n",
       "      <td>...</td>\n",
       "      <td>Closed with explanation</td>\n",
       "      <td>JPMORGAN CHASE &amp; CO.</td>\n",
       "      <td>Referral</td>\n",
       "      <td>2019-04-05T12:00:00-05:00</td>\n",
       "      <td>None</td>\n",
       "      <td>General-purpose credit card or charge card</td>\n",
       "      <td>Yes</td>\n",
       "      <td></td>\n",
       "      <td>Charged too much interest</td>\n",
       "      <td>N/A</td>\n",
       "    </tr>\n",
       "  </tbody>\n",
       "</table>\n",
       "<p>5 rows × 22 columns</p>\n",
       "</div>\n",
       "      <button class=\"colab-df-convert\" onclick=\"convertToInteractive('df-b2b8182c-b703-444e-8613-38a9fa654089')\"\n",
       "              title=\"Convert this dataframe to an interactive table.\"\n",
       "              style=\"display:none;\">\n",
       "        \n",
       "  <svg xmlns=\"http://www.w3.org/2000/svg\" height=\"24px\"viewBox=\"0 0 24 24\"\n",
       "       width=\"24px\">\n",
       "    <path d=\"M0 0h24v24H0V0z\" fill=\"none\"/>\n",
       "    <path d=\"M18.56 5.44l.94 2.06.94-2.06 2.06-.94-2.06-.94-.94-2.06-.94 2.06-2.06.94zm-11 1L8.5 8.5l.94-2.06 2.06-.94-2.06-.94L8.5 2.5l-.94 2.06-2.06.94zm10 10l.94 2.06.94-2.06 2.06-.94-2.06-.94-.94-2.06-.94 2.06-2.06.94z\"/><path d=\"M17.41 7.96l-1.37-1.37c-.4-.4-.92-.59-1.43-.59-.52 0-1.04.2-1.43.59L10.3 9.45l-7.72 7.72c-.78.78-.78 2.05 0 2.83L4 21.41c.39.39.9.59 1.41.59.51 0 1.02-.2 1.41-.59l7.78-7.78 2.81-2.81c.8-.78.8-2.07 0-2.86zM5.41 20L4 18.59l7.72-7.72 1.47 1.35L5.41 20z\"/>\n",
       "  </svg>\n",
       "      </button>\n",
       "      \n",
       "  <style>\n",
       "    .colab-df-container {\n",
       "      display:flex;\n",
       "      flex-wrap:wrap;\n",
       "      gap: 12px;\n",
       "    }\n",
       "\n",
       "    .colab-df-convert {\n",
       "      background-color: #E8F0FE;\n",
       "      border: none;\n",
       "      border-radius: 50%;\n",
       "      cursor: pointer;\n",
       "      display: none;\n",
       "      fill: #1967D2;\n",
       "      height: 32px;\n",
       "      padding: 0 0 0 0;\n",
       "      width: 32px;\n",
       "    }\n",
       "\n",
       "    .colab-df-convert:hover {\n",
       "      background-color: #E2EBFA;\n",
       "      box-shadow: 0px 1px 2px rgba(60, 64, 67, 0.3), 0px 1px 3px 1px rgba(60, 64, 67, 0.15);\n",
       "      fill: #174EA6;\n",
       "    }\n",
       "\n",
       "    [theme=dark] .colab-df-convert {\n",
       "      background-color: #3B4455;\n",
       "      fill: #D2E3FC;\n",
       "    }\n",
       "\n",
       "    [theme=dark] .colab-df-convert:hover {\n",
       "      background-color: #434B5C;\n",
       "      box-shadow: 0px 1px 3px 1px rgba(0, 0, 0, 0.15);\n",
       "      filter: drop-shadow(0px 1px 2px rgba(0, 0, 0, 0.3));\n",
       "      fill: #FFFFFF;\n",
       "    }\n",
       "  </style>\n",
       "\n",
       "      <script>\n",
       "        const buttonEl =\n",
       "          document.querySelector('#df-b2b8182c-b703-444e-8613-38a9fa654089 button.colab-df-convert');\n",
       "        buttonEl.style.display =\n",
       "          google.colab.kernel.accessAllowed ? 'block' : 'none';\n",
       "\n",
       "        async function convertToInteractive(key) {\n",
       "          const element = document.querySelector('#df-b2b8182c-b703-444e-8613-38a9fa654089');\n",
       "          const dataTable =\n",
       "            await google.colab.kernel.invokeFunction('convertToInteractive',\n",
       "                                                     [key], {});\n",
       "          if (!dataTable) return;\n",
       "\n",
       "          const docLinkHtml = 'Like what you see? Visit the ' +\n",
       "            '<a target=\"_blank\" href=https://colab.research.google.com/notebooks/data_table.ipynb>data table notebook</a>'\n",
       "            + ' to learn more about interactive tables.';\n",
       "          element.innerHTML = '';\n",
       "          dataTable['output_type'] = 'display_data';\n",
       "          await google.colab.output.renderOutput(dataTable, element);\n",
       "          const docLink = document.createElement('div');\n",
       "          docLink.innerHTML = docLinkHtml;\n",
       "          element.appendChild(docLink);\n",
       "        }\n",
       "      </script>\n",
       "    </div>\n",
       "  </div>\n",
       "  "
      ],
      "text/plain": [
       "                _index      _type      _id  _score   _source.tags  \\\n",
       "0  complaint-public-v2  complaint  3211475     0.0           None   \n",
       "1  complaint-public-v2  complaint  3229299     0.0  Servicemember   \n",
       "2  complaint-public-v2  complaint  3199379     0.0           None   \n",
       "3  complaint-public-v2  complaint  2673060     0.0           None   \n",
       "4  complaint-public-v2  complaint  3203545     0.0           None   \n",
       "\n",
       "  _source.zip_code _source.complaint_id                       _source.issue  \\\n",
       "0            90301              3211475   Attempts to collect debt not owed   \n",
       "1            319XX              3229299     Written notification about debt   \n",
       "2            77069              3199379  Other features, terms, or problems   \n",
       "3            48066              2673060      Trouble during payment process   \n",
       "4            10473              3203545                    Fees or interest   \n",
       "\n",
       "       _source.date_received _source.state  ... _source.company_response  \\\n",
       "0  2019-04-13T12:00:00-05:00            CA  ...  Closed with explanation   \n",
       "1  2019-05-01T12:00:00-05:00            GA  ...  Closed with explanation   \n",
       "2  2019-04-02T12:00:00-05:00            TX  ...  Closed with explanation   \n",
       "3  2017-09-13T12:00:00-05:00            MI  ...  Closed with explanation   \n",
       "4  2019-04-05T12:00:00-05:00            NY  ...  Closed with explanation   \n",
       "\n",
       "        _source.company _source.submitted_via _source.date_sent_to_company  \\\n",
       "0  JPMORGAN CHASE & CO.                   Web    2019-04-13T12:00:00-05:00   \n",
       "1  JPMORGAN CHASE & CO.                   Web    2019-05-01T12:00:00-05:00   \n",
       "2  JPMORGAN CHASE & CO.                   Web    2019-04-02T12:00:00-05:00   \n",
       "3  JPMORGAN CHASE & CO.                   Web    2017-09-14T12:00:00-05:00   \n",
       "4  JPMORGAN CHASE & CO.              Referral    2019-04-05T12:00:00-05:00   \n",
       "\n",
       "  _source.company_public_response                         _source.sub_product  \\\n",
       "0                            None                            Credit card debt   \n",
       "1                            None                            Credit card debt   \n",
       "2                            None  General-purpose credit card or charge card   \n",
       "3                            None                  Conventional home mortgage   \n",
       "4                            None  General-purpose credit card or charge card   \n",
       "\n",
       "  _source.timely                    _source.complaint_what_happened  \\\n",
       "0            Yes                                                      \n",
       "1            Yes  Good morning my name is XXXX XXXX and I apprec...   \n",
       "2            Yes  I upgraded my XXXX XXXX card in XX/XX/2018 and...   \n",
       "3            Yes                                                      \n",
       "4            Yes                                                      \n",
       "\n",
       "                                  _source.sub_issue  \\\n",
       "0                                 Debt is not yours   \n",
       "1  Didn't receive enough information to verify debt   \n",
       "2             Problem with rewards from credit card   \n",
       "3                                              None   \n",
       "4                         Charged too much interest   \n",
       "\n",
       "  _source.consumer_consent_provided  \n",
       "0              Consent not provided  \n",
       "1                  Consent provided  \n",
       "2                  Consent provided  \n",
       "3              Consent not provided  \n",
       "4                               N/A  \n",
       "\n",
       "[5 rows x 22 columns]"
      ]
     },
     "execution_count": 16,
     "metadata": {},
     "output_type": "execute_result"
    }
   ],
   "source": [
    "df.head(5)"
   ]
  },
  {
   "cell_type": "code",
   "execution_count": 17,
   "metadata": {
    "colab": {
     "base_uri": "https://localhost:8080/"
    },
    "executionInfo": {
     "elapsed": 381,
     "status": "ok",
     "timestamp": 1648988009498,
     "user": {
      "displayName": "Jaya Srivastava",
      "userId": "07102034494739188338"
     },
     "user_tz": -330
    },
    "id": "Dwcty-wmJrFw",
    "outputId": "8533191c-c911-46a7-f01f-6394df15a81c"
   },
   "outputs": [
    {
     "data": {
      "text/plain": [
       "Index(['_index', '_type', '_id', '_score', '_source.tags', '_source.zip_code',\n",
       "       '_source.complaint_id', '_source.issue', '_source.date_received',\n",
       "       '_source.state', '_source.consumer_disputed', '_source.product',\n",
       "       '_source.company_response', '_source.company', '_source.submitted_via',\n",
       "       '_source.date_sent_to_company', '_source.company_public_response',\n",
       "       '_source.sub_product', '_source.timely',\n",
       "       '_source.complaint_what_happened', '_source.sub_issue',\n",
       "       '_source.consumer_consent_provided'],\n",
       "      dtype='object')"
      ]
     },
     "execution_count": 17,
     "metadata": {},
     "output_type": "execute_result"
    }
   ],
   "source": [
    "#print the column names\n",
    "df.columns"
   ]
  },
  {
   "cell_type": "code",
   "execution_count": 18,
   "metadata": {
    "colab": {
     "base_uri": "https://localhost:8080/"
    },
    "executionInfo": {
     "elapsed": 386,
     "status": "ok",
     "timestamp": 1648988016490,
     "user": {
      "displayName": "Jaya Srivastava",
      "userId": "07102034494739188338"
     },
     "user_tz": -330
    },
    "id": "FYCtKXD1JrFw",
    "outputId": "0090f192-c206-4860-af79-092cb8a1899f"
   },
   "outputs": [
    {
     "data": {
      "text/plain": [
       "Index(['index', 'type', 'id', 'score', 'tags', 'zip_code', 'complaint_id',\n",
       "       'issue', 'date_received', 'state', 'consumer_disputed', 'product',\n",
       "       'company_response', 'company', 'submitted_via', 'date_sent_to_company',\n",
       "       'company_public_response', 'sub_product', 'timely',\n",
       "       'complaint_what_happened', 'sub_issue', 'consumer_consent_provided'],\n",
       "      dtype='object')"
      ]
     },
     "execution_count": 18,
     "metadata": {},
     "output_type": "execute_result"
    }
   ],
   "source": [
    "#Assign new column names\n",
    "df.rename(mapper=lambda x:x[1:] if '_source' not in x else x[8:], axis='columns', inplace=True)\n",
    "df.columns"
   ]
  },
  {
   "cell_type": "code",
   "execution_count": 19,
   "metadata": {
    "executionInfo": {
     "elapsed": 353,
     "status": "ok",
     "timestamp": 1648988022175,
     "user": {
      "displayName": "Jaya Srivastava",
      "userId": "07102034494739188338"
     },
     "user_tz": -330
    },
    "id": "grQUPFL5JrFx"
   },
   "outputs": [],
   "source": [
    "#Assign nan in place of blanks in the complaints column\n",
    "df.loc[df[df['complaint_what_happened'].str.strip()==''].index, 'complaint_what_happened'] = np.nan"
   ]
  },
  {
   "cell_type": "code",
   "execution_count": 20,
   "metadata": {
    "executionInfo": {
     "elapsed": 403,
     "status": "ok",
     "timestamp": 1648988026279,
     "user": {
      "displayName": "Jaya Srivastava",
      "userId": "07102034494739188338"
     },
     "user_tz": -330
    },
    "id": "Jfxd8VSmJrFy"
   },
   "outputs": [],
   "source": [
    "#Remove all rows where complaints column is nan\n",
    "df.dropna(subset=['complaint_what_happened'], inplace=True)"
   ]
  },
  {
   "cell_type": "code",
   "execution_count": 21,
   "metadata": {
    "executionInfo": {
     "elapsed": 2,
     "status": "ok",
     "timestamp": 1648988029236,
     "user": {
      "displayName": "Jaya Srivastava",
      "userId": "07102034494739188338"
     },
     "user_tz": -330
    },
    "id": "qf66qBvtC96K"
   },
   "outputs": [],
   "source": [
    "df.reset_index(inplace=True)"
   ]
  },
  {
   "cell_type": "code",
   "execution_count": 22,
   "metadata": {
    "colab": {
     "base_uri": "https://localhost:8080/"
    },
    "executionInfo": {
     "elapsed": 360,
     "status": "ok",
     "timestamp": 1648988033740,
     "user": {
      "displayName": "Jaya Srivastava",
      "userId": "07102034494739188338"
     },
     "user_tz": -330
    },
    "id": "fdQWx4h0C-YY",
    "outputId": "f7915cd0-1b7f-4400-a9c5-eec6e8a3f62c"
   },
   "outputs": [
    {
     "data": {
      "text/plain": [
       "(21072, 23)"
      ]
     },
     "execution_count": 22,
     "metadata": {},
     "output_type": "execute_result"
    }
   ],
   "source": [
    "df.shape"
   ]
  },
  {
   "cell_type": "markdown",
   "metadata": {
    "id": "L944HZpsJrFy"
   },
   "source": [
    "## Prepare the text for topic modeling\n",
    "\n",
    "Once you have removed all the blank complaints, you need to:\n",
    "\n",
    "* Make the text lowercase\n",
    "* Remove text in square brackets\n",
    "* Remove punctuation\n",
    "* Remove words containing numbers\n",
    "\n",
    "\n",
    "Once you have done these cleaning operations you need to perform the following:\n",
    "* Lemmatize the texts\n",
    "* Extract the POS tags of the lemmatized text and remove all the words which have tags other than NN[tag == \"NN\"].\n"
   ]
  },
  {
   "cell_type": "code",
   "execution_count": 23,
   "metadata": {
    "colab": {
     "base_uri": "https://localhost:8080/",
     "height": 71
    },
    "executionInfo": {
     "elapsed": 353,
     "status": "ok",
     "timestamp": 1648988039137,
     "user": {
      "displayName": "Jaya Srivastava",
      "userId": "07102034494739188338"
     },
     "user_tz": -330
    },
    "id": "vx4wAxSmDCe4",
    "outputId": "a42219a5-1c91-47cf-ee1d-55e7eed8a225"
   },
   "outputs": [
    {
     "data": {
      "application/vnd.google.colaboratory.intrinsic+json": {
       "type": "string"
      },
      "text/plain": [
       "'onXXXX XXXX odf XXXX Chase decided to tell the credit bureaus that my account was in a bankruptcy. This violates section 15 U.S.C. 2 1681 c [ a ] [ 1 ]. This can not be repoerted with any mention of a BK. They have also erased my pay history, even though i paid the for 13 years. This hurts my credit and it is violating the federal rules.The BK was filed over 10 years ago.'"
      ]
     },
     "execution_count": 23,
     "metadata": {},
     "output_type": "execute_result"
    }
   ],
   "source": [
    "sample_text = df.loc[463]['complaint_what_happened']\n",
    "sample_text"
   ]
  },
  {
   "cell_type": "code",
   "execution_count": 24,
   "metadata": {
    "colab": {
     "base_uri": "https://localhost:8080/",
     "height": 53
    },
    "executionInfo": {
     "elapsed": 543,
     "status": "ok",
     "timestamp": 1648988044612,
     "user": {
      "displayName": "Jaya Srivastava",
      "userId": "07102034494739188338"
     },
     "user_tz": -330
    },
    "id": "qm7SjjSkJrFz",
    "outputId": "78308c1a-d64c-48cf-ac7a-21eeb5da223f"
   },
   "outputs": [
    {
     "data": {
      "application/vnd.google.colaboratory.intrinsic+json": {
       "type": "string"
      },
      "text/plain": [
       "'onxxxx xxxx odf xxxx chase decided to tell the credit bureaus that my account was in a bankruptcy this violates sectionuscc  this can not be repoerted with any mention of a bk they have also erased my pay history even though i paid the foryears this hurts my credit and it is violating the federal rulesthe bk was filed overyears ago'"
      ]
     },
     "execution_count": 24,
     "metadata": {},
     "output_type": "execute_result"
    }
   ],
   "source": [
    "# Write your function here to clean the text and remove all the unnecessary elements.\n",
    "def clean_text(text):\n",
    "  #Make the text lowercase\n",
    "  text = text.lower()\n",
    "  #Remove text in square brackets\n",
    "  text = re.sub(r'\\[.*\\]', '', text)\n",
    "  #Remove punctuation\n",
    "  text = re.sub(r'[^\\w\\s]', '', text)\n",
    "  #Remove words containing numbers\n",
    "  text = re.sub(r'\\s?\\w*\\d+\\w*\\s?', '', text)\n",
    "  return text\n",
    "\n",
    "clean_text(sample_text)"
   ]
  },
  {
   "cell_type": "code",
   "execution_count": 25,
   "metadata": {
    "colab": {
     "base_uri": "https://localhost:8080/",
     "height": 53
    },
    "executionInfo": {
     "elapsed": 1996,
     "status": "ok",
     "timestamp": 1648988054054,
     "user": {
      "displayName": "Jaya Srivastava",
      "userId": "07102034494739188338"
     },
     "user_tz": -330
    },
    "id": "zgOu8t8HJrFz",
    "outputId": "2792e429-f8af-44d0-b9c6-80ae1100a3b5"
   },
   "outputs": [
    {
     "data": {
      "application/vnd.google.colaboratory.intrinsic+json": {
       "type": "string"
      },
      "text/plain": [
       "'onxxxx xxxx odf xxxx chase decided tell credit bureau account bankruptcy violates sectionuscc repoerted mention bk also erased pay history even though paid foryears hurt credit violating federal rulesthe bk filed overyears ago'"
      ]
     },
     "execution_count": 25,
     "metadata": {},
     "output_type": "execute_result"
    }
   ],
   "source": [
    "#Write your function to Lemmatize the texts\n",
    "def lemmatize_text(text):\n",
    "  #Lemmatize the texts\n",
    "\n",
    "  # doc = nlp(text)\n",
    "  # return ' '.join(token.lemma_ for token in doc if token not in stopwords)\n",
    "  \n",
    "  sent = [wordnet_lemmatizer.lemmatize(word) for word in word_tokenize(text) if not word in stopwords]\n",
    "  return ' '.join(sent)\n",
    "\n",
    "lemmatize_text(clean_text(sample_text))"
   ]
  },
  {
   "cell_type": "code",
   "execution_count": 26,
   "metadata": {
    "colab": {
     "base_uri": "https://localhost:8080/",
     "height": 49,
     "referenced_widgets": [
      "38845c97260447e5aaa3c9373cd1ba90",
      "5c10c0053f79469d81754d77a06674be",
      "e1486f84a8814b9e8a5afb6e99b3a126",
      "9e43488709b941508204dcf8c25265bd",
      "04516e62ae0343bea394c900959b0d7d",
      "2912d0163a0346beabbb6f4984f02c08",
      "6946c2515b0e43c6ab903427d16e34d4",
      "f5edaac2c4324673b5552e8316ae6716",
      "ca154139b4774c90b1a5e9062df8ca09",
      "3291ac7c0d984b2d8a9aba095fe0968c",
      "55320cce741d46adae93e2adef67b4ba"
     ]
    },
    "executionInfo": {
     "elapsed": 9029,
     "status": "ok",
     "timestamp": 1648988070940,
     "user": {
      "displayName": "Jaya Srivastava",
      "userId": "07102034494739188338"
     },
     "user_tz": -330
    },
    "id": "6BKJTgvZDJuL",
    "outputId": "fded1b87-3d62-43e1-9c07-923c9c843f75"
   },
   "outputs": [
    {
     "data": {
      "application/vnd.jupyter.widget-view+json": {
       "model_id": "38845c97260447e5aaa3c9373cd1ba90",
       "version_major": 2,
       "version_minor": 0
      },
      "text/plain": [
       "Pandas Apply:   0%|          | 0/21072 [00:00<?, ?it/s]"
      ]
     },
     "metadata": {},
     "output_type": "display_data"
    }
   ],
   "source": [
    "df['complaint_text_clean'] = df['complaint_what_happened'].swifter.apply(clean_text)"
   ]
  },
  {
   "cell_type": "code",
   "execution_count": 27,
   "metadata": {
    "colab": {
     "base_uri": "https://localhost:8080/",
     "height": 49,
     "referenced_widgets": [
      "c629667ec09e425b9152dfd3afcaaa72",
      "0843581df6334320ba57c99c3576b8ff",
      "f7ac165df969419b8e4b19e625a5523d",
      "000c40fdfd174fc192ec8b9ecb8bb6f9",
      "7ce704da10854481b5db21536566270e",
      "2d4e4e09ddaf4633ac631e329e98c740",
      "4f75aa1ce5cd44248b204fdf5132847c",
      "0c28e4f540284003bbe826ee2f354223",
      "abdbbc28910940d1ac77e9f357d25900",
      "55893de5836e4f6393de3e0ef062027a",
      "4da02588daa846599d17ca94ac29a562"
     ]
    },
    "executionInfo": {
     "elapsed": 39358,
     "status": "ok",
     "timestamp": 1648988114528,
     "user": {
      "displayName": "Jaya Srivastava",
      "userId": "07102034494739188338"
     },
     "user_tz": -330
    },
    "id": "3SbRA-FfDKdU",
    "outputId": "b3b574a6-9b57-46fc-a8f9-bce66ef4b6aa"
   },
   "outputs": [
    {
     "data": {
      "application/vnd.jupyter.widget-view+json": {
       "model_id": "c629667ec09e425b9152dfd3afcaaa72",
       "version_major": 2,
       "version_minor": 0
      },
      "text/plain": [
       "Pandas Apply:   0%|          | 0/21072 [00:00<?, ?it/s]"
      ]
     },
     "metadata": {},
     "output_type": "display_data"
    }
   ],
   "source": [
    "df['complaint_text_lemmatized'] = df['complaint_text_clean'].swifter.apply(lemmatize_text)"
   ]
  },
  {
   "cell_type": "code",
   "execution_count": null,
   "metadata": {
    "id": "uXnN7aa_JrF0"
   },
   "outputs": [],
   "source": [
    "#Create a dataframe('df_clean') that will have only the complaints and the lemmatized complaints \n"
   ]
  },
  {
   "cell_type": "code",
   "execution_count": 28,
   "metadata": {
    "colab": {
     "base_uri": "https://localhost:8080/",
     "height": 206
    },
    "executionInfo": {
     "elapsed": 340,
     "status": "ok",
     "timestamp": 1648988127312,
     "user": {
      "displayName": "Jaya Srivastava",
      "userId": "07102034494739188338"
     },
     "user_tz": -330
    },
    "id": "nOiDVvEIJrF0",
    "outputId": "87cbdc6d-1519-4b4e-8cfe-ee3a31ac6b63"
   },
   "outputs": [
    {
     "data": {
      "text/html": [
       "\n",
       "  <div id=\"df-d4291e7d-5b7c-4119-90b6-c25dc8af4cc6\">\n",
       "    <div class=\"colab-df-container\">\n",
       "      <div>\n",
       "<style scoped>\n",
       "    .dataframe tbody tr th:only-of-type {\n",
       "        vertical-align: middle;\n",
       "    }\n",
       "\n",
       "    .dataframe tbody tr th {\n",
       "        vertical-align: top;\n",
       "    }\n",
       "\n",
       "    .dataframe thead th {\n",
       "        text-align: right;\n",
       "    }\n",
       "</style>\n",
       "<table border=\"1\" class=\"dataframe\">\n",
       "  <thead>\n",
       "    <tr style=\"text-align: right;\">\n",
       "      <th></th>\n",
       "      <th>complaint_text_clean</th>\n",
       "      <th>complaint_text_lemmatized</th>\n",
       "    </tr>\n",
       "  </thead>\n",
       "  <tbody>\n",
       "    <tr>\n",
       "      <th>0</th>\n",
       "      <td>good morning my name is xxxx xxxx and i apprec...</td>\n",
       "      <td>good morning name xxxx xxxx appreciate could h...</td>\n",
       "    </tr>\n",
       "    <tr>\n",
       "      <th>1</th>\n",
       "      <td>i upgraded my xxxx xxxx card inand was told by...</td>\n",
       "      <td>upgraded xxxx xxxx card inand told agent upgra...</td>\n",
       "    </tr>\n",
       "    <tr>\n",
       "      <th>2</th>\n",
       "      <td>chase card was reported onhowever fraudulent a...</td>\n",
       "      <td>chase card reported onhowever fraudulent appli...</td>\n",
       "    </tr>\n",
       "    <tr>\n",
       "      <th>3</th>\n",
       "      <td>onwhile trying to book a xxxx  xxxx  ticket i ...</td>\n",
       "      <td>onwhile trying book xxxx xxxx ticket came acro...</td>\n",
       "    </tr>\n",
       "    <tr>\n",
       "      <th>4</th>\n",
       "      <td>my grand son give me check fori deposit it int...</td>\n",
       "      <td>grand son give check fori deposit chase accoun...</td>\n",
       "    </tr>\n",
       "  </tbody>\n",
       "</table>\n",
       "</div>\n",
       "      <button class=\"colab-df-convert\" onclick=\"convertToInteractive('df-d4291e7d-5b7c-4119-90b6-c25dc8af4cc6')\"\n",
       "              title=\"Convert this dataframe to an interactive table.\"\n",
       "              style=\"display:none;\">\n",
       "        \n",
       "  <svg xmlns=\"http://www.w3.org/2000/svg\" height=\"24px\"viewBox=\"0 0 24 24\"\n",
       "       width=\"24px\">\n",
       "    <path d=\"M0 0h24v24H0V0z\" fill=\"none\"/>\n",
       "    <path d=\"M18.56 5.44l.94 2.06.94-2.06 2.06-.94-2.06-.94-.94-2.06-.94 2.06-2.06.94zm-11 1L8.5 8.5l.94-2.06 2.06-.94-2.06-.94L8.5 2.5l-.94 2.06-2.06.94zm10 10l.94 2.06.94-2.06 2.06-.94-2.06-.94-.94-2.06-.94 2.06-2.06.94z\"/><path d=\"M17.41 7.96l-1.37-1.37c-.4-.4-.92-.59-1.43-.59-.52 0-1.04.2-1.43.59L10.3 9.45l-7.72 7.72c-.78.78-.78 2.05 0 2.83L4 21.41c.39.39.9.59 1.41.59.51 0 1.02-.2 1.41-.59l7.78-7.78 2.81-2.81c.8-.78.8-2.07 0-2.86zM5.41 20L4 18.59l7.72-7.72 1.47 1.35L5.41 20z\"/>\n",
       "  </svg>\n",
       "      </button>\n",
       "      \n",
       "  <style>\n",
       "    .colab-df-container {\n",
       "      display:flex;\n",
       "      flex-wrap:wrap;\n",
       "      gap: 12px;\n",
       "    }\n",
       "\n",
       "    .colab-df-convert {\n",
       "      background-color: #E8F0FE;\n",
       "      border: none;\n",
       "      border-radius: 50%;\n",
       "      cursor: pointer;\n",
       "      display: none;\n",
       "      fill: #1967D2;\n",
       "      height: 32px;\n",
       "      padding: 0 0 0 0;\n",
       "      width: 32px;\n",
       "    }\n",
       "\n",
       "    .colab-df-convert:hover {\n",
       "      background-color: #E2EBFA;\n",
       "      box-shadow: 0px 1px 2px rgba(60, 64, 67, 0.3), 0px 1px 3px 1px rgba(60, 64, 67, 0.15);\n",
       "      fill: #174EA6;\n",
       "    }\n",
       "\n",
       "    [theme=dark] .colab-df-convert {\n",
       "      background-color: #3B4455;\n",
       "      fill: #D2E3FC;\n",
       "    }\n",
       "\n",
       "    [theme=dark] .colab-df-convert:hover {\n",
       "      background-color: #434B5C;\n",
       "      box-shadow: 0px 1px 3px 1px rgba(0, 0, 0, 0.15);\n",
       "      filter: drop-shadow(0px 1px 2px rgba(0, 0, 0, 0.3));\n",
       "      fill: #FFFFFF;\n",
       "    }\n",
       "  </style>\n",
       "\n",
       "      <script>\n",
       "        const buttonEl =\n",
       "          document.querySelector('#df-d4291e7d-5b7c-4119-90b6-c25dc8af4cc6 button.colab-df-convert');\n",
       "        buttonEl.style.display =\n",
       "          google.colab.kernel.accessAllowed ? 'block' : 'none';\n",
       "\n",
       "        async function convertToInteractive(key) {\n",
       "          const element = document.querySelector('#df-d4291e7d-5b7c-4119-90b6-c25dc8af4cc6');\n",
       "          const dataTable =\n",
       "            await google.colab.kernel.invokeFunction('convertToInteractive',\n",
       "                                                     [key], {});\n",
       "          if (!dataTable) return;\n",
       "\n",
       "          const docLinkHtml = 'Like what you see? Visit the ' +\n",
       "            '<a target=\"_blank\" href=https://colab.research.google.com/notebooks/data_table.ipynb>data table notebook</a>'\n",
       "            + ' to learn more about interactive tables.';\n",
       "          element.innerHTML = '';\n",
       "          dataTable['output_type'] = 'display_data';\n",
       "          await google.colab.output.renderOutput(dataTable, element);\n",
       "          const docLink = document.createElement('div');\n",
       "          docLink.innerHTML = docLinkHtml;\n",
       "          element.appendChild(docLink);\n",
       "        }\n",
       "      </script>\n",
       "    </div>\n",
       "  </div>\n",
       "  "
      ],
      "text/plain": [
       "                                complaint_text_clean  \\\n",
       "0  good morning my name is xxxx xxxx and i apprec...   \n",
       "1  i upgraded my xxxx xxxx card inand was told by...   \n",
       "2  chase card was reported onhowever fraudulent a...   \n",
       "3  onwhile trying to book a xxxx  xxxx  ticket i ...   \n",
       "4  my grand son give me check fori deposit it int...   \n",
       "\n",
       "                           complaint_text_lemmatized  \n",
       "0  good morning name xxxx xxxx appreciate could h...  \n",
       "1  upgraded xxxx xxxx card inand told agent upgra...  \n",
       "2  chase card reported onhowever fraudulent appli...  \n",
       "3  onwhile trying book xxxx xxxx ticket came acro...  \n",
       "4  grand son give check fori deposit chase accoun...  "
      ]
     },
     "execution_count": 28,
     "metadata": {},
     "output_type": "execute_result"
    }
   ],
   "source": [
    "df_clean = df[['complaint_text_clean', 'complaint_text_lemmatized']]\n",
    "df_clean.head()"
   ]
  },
  {
   "cell_type": "code",
   "execution_count": 29,
   "metadata": {
    "colab": {
     "base_uri": "https://localhost:8080/"
    },
    "executionInfo": {
     "elapsed": 342,
     "status": "ok",
     "timestamp": 1648988136861,
     "user": {
      "displayName": "Jaya Srivastava",
      "userId": "07102034494739188338"
     },
     "user_tz": -330
    },
    "id": "M_c88Y_RDSMp",
    "outputId": "eafe7bf6-eada-4830-c45c-2f2225bdd13b"
   },
   "outputs": [
    {
     "data": {
      "text/plain": [
       "[('onxxxx', 'JJ'),\n",
       " ('xxxx', 'NNP'),\n",
       " ('odf', 'MD'),\n",
       " ('xxxx', 'VB'),\n",
       " ('chase', 'NN'),\n",
       " ('decided', 'VBD'),\n",
       " ('tell', 'NN'),\n",
       " ('credit', 'NN'),\n",
       " ('bureau', 'NN'),\n",
       " ('account', 'NN'),\n",
       " ('bankruptcy', 'NN'),\n",
       " ('violates', 'VBZ'),\n",
       " ('sectionuscc', 'RB'),\n",
       " ('repoerted', 'VBN'),\n",
       " ('mention', 'NN'),\n",
       " ('bk', 'NN'),\n",
       " ('also', 'RB'),\n",
       " ('erased', 'VBD'),\n",
       " ('pay', 'NN'),\n",
       " ('history', 'NN'),\n",
       " ('even', 'RB'),\n",
       " ('though', 'IN'),\n",
       " ('paid', 'VBN'),\n",
       " ('foryears', 'NNS'),\n",
       " ('hurt', 'VBN'),\n",
       " ('credit', 'NN'),\n",
       " ('violating', 'VBG'),\n",
       " ('federal', 'JJ'),\n",
       " ('rulesthe', 'NN'),\n",
       " ('bk', 'NN'),\n",
       " ('filed', 'VBD'),\n",
       " ('overyears', 'NNS'),\n",
       " ('ago', 'RB')]"
      ]
     },
     "execution_count": 29,
     "metadata": {},
     "output_type": "execute_result"
    }
   ],
   "source": [
    "pos_tag(word_tokenize(lemmatize_text(clean_text(sample_text))))"
   ]
  },
  {
   "cell_type": "code",
   "execution_count": 30,
   "metadata": {
    "colab": {
     "base_uri": "https://localhost:8080/",
     "height": 35
    },
    "executionInfo": {
     "elapsed": 358,
     "status": "ok",
     "timestamp": 1648988141270,
     "user": {
      "displayName": "Jaya Srivastava",
      "userId": "07102034494739188338"
     },
     "user_tz": -330
    },
    "id": "Kk7fc4DuJrF1",
    "outputId": "19867f26-8e9b-40de-9de2-371f14ad274c"
   },
   "outputs": [
    {
     "data": {
      "application/vnd.google.colaboratory.intrinsic+json": {
       "type": "string"
      },
      "text/plain": [
       "'chase tell credit bureau account bankruptcy mention bk pay history credit rulesthe bk'"
      ]
     },
     "execution_count": 30,
     "metadata": {},
     "output_type": "execute_result"
    }
   ],
   "source": [
    "#Write your function to extract the POS tags \n",
    "\n",
    "def postag(text):\n",
    "  # write your code here\n",
    "\n",
    "  # doc = nlp(text)\n",
    "  # return ' '.join([token.text for token in doc if token.tag_ == 'NN'])\n",
    "\n",
    "  tags = pos_tag(word_tokenize(text))\n",
    "  nn_tags = [tag[0] for tag in tags if tag[1]=='NN']\n",
    "  return ' '.join(nn_tags)\n",
    "\n",
    "postag(lemmatize_text(clean_text(sample_text)))"
   ]
  },
  {
   "cell_type": "code",
   "execution_count": 31,
   "metadata": {
    "colab": {
     "base_uri": "https://localhost:8080/",
     "height": 192,
     "referenced_widgets": [
      "8066cf14057e4bda8a308c316a9ee7d2",
      "5f813fdaaec441119f2c5782ae0085b5",
      "941e15aaa55c4a0e9110b40e2397d2a2",
      "6021e035d42d48dbbb60effec825764f",
      "73b493a658a74272a603f95b4b622cf9",
      "e53da70adf504210887dad0dc3a645c5",
      "745b60382e384bea91c34f074d739b23",
      "bb494dd82185486389ccecf6ae9c8d88",
      "40f880d8bd414917b81cd76850952ced",
      "525f2fc5bdfb4521b735605e36ad7d07",
      "bf832728174c4caa87d4fd877d559b9f"
     ]
    },
    "executionInfo": {
     "elapsed": 221807,
     "status": "ok",
     "timestamp": 1648988375402,
     "user": {
      "displayName": "Jaya Srivastava",
      "userId": "07102034494739188338"
     },
     "user_tz": -330
    },
    "id": "AjxfchvFJrF2",
    "outputId": "6bfd3a7e-e776-4f98-830a-09686c5338de"
   },
   "outputs": [
    {
     "data": {
      "application/vnd.jupyter.widget-view+json": {
       "model_id": "8066cf14057e4bda8a308c316a9ee7d2",
       "version_major": 2,
       "version_minor": 0
      },
      "text/plain": [
       "Pandas Apply:   0%|          | 0/21072 [00:00<?, ?it/s]"
      ]
     },
     "metadata": {},
     "output_type": "display_data"
    },
    {
     "name": "stderr",
     "output_type": "stream",
     "text": [
      "/usr/local/lib/python3.7/dist-packages/ipykernel_launcher.py:2: SettingWithCopyWarning:\n",
      "\n",
      "\n",
      "A value is trying to be set on a copy of a slice from a DataFrame.\n",
      "Try using .loc[row_indexer,col_indexer] = value instead\n",
      "\n",
      "See the caveats in the documentation: https://pandas.pydata.org/pandas-docs/stable/user_guide/indexing.html#returning-a-view-versus-a-copy\n",
      "\n"
     ]
    }
   ],
   "source": [
    "#The clean dataframe should now contain the raw complaint, lemmatized complaint and the complaint after removing POS tags.\n",
    "df_clean[\"complaint_POS_removed\"] =  df_clean['complaint_text_lemmatized'].swifter.apply(postag)"
   ]
  },
  {
   "cell_type": "code",
   "execution_count": 32,
   "metadata": {
    "colab": {
     "base_uri": "https://localhost:8080/",
     "height": 423
    },
    "executionInfo": {
     "elapsed": 368,
     "status": "ok",
     "timestamp": 1648988393160,
     "user": {
      "displayName": "Jaya Srivastava",
      "userId": "07102034494739188338"
     },
     "user_tz": -330
    },
    "id": "HfLPhjYlEUJl",
    "outputId": "4fb75c29-1bec-41a1-ef1a-e1659d8e472c"
   },
   "outputs": [
    {
     "data": {
      "text/html": [
       "\n",
       "  <div id=\"df-c1b523fb-3541-4cd2-9c4f-527ff21d8300\">\n",
       "    <div class=\"colab-df-container\">\n",
       "      <div>\n",
       "<style scoped>\n",
       "    .dataframe tbody tr th:only-of-type {\n",
       "        vertical-align: middle;\n",
       "    }\n",
       "\n",
       "    .dataframe tbody tr th {\n",
       "        vertical-align: top;\n",
       "    }\n",
       "\n",
       "    .dataframe thead th {\n",
       "        text-align: right;\n",
       "    }\n",
       "</style>\n",
       "<table border=\"1\" class=\"dataframe\">\n",
       "  <thead>\n",
       "    <tr style=\"text-align: right;\">\n",
       "      <th></th>\n",
       "      <th>complaint_text_clean</th>\n",
       "      <th>complaint_text_lemmatized</th>\n",
       "      <th>complaint_POS_removed</th>\n",
       "    </tr>\n",
       "  </thead>\n",
       "  <tbody>\n",
       "    <tr>\n",
       "      <th>0</th>\n",
       "      <td>good morning my name is xxxx xxxx and i apprec...</td>\n",
       "      <td>good morning name xxxx xxxx appreciate could h...</td>\n",
       "      <td>morning name appreciate chase bank service ini...</td>\n",
       "    </tr>\n",
       "    <tr>\n",
       "      <th>1</th>\n",
       "      <td>i upgraded my xxxx xxxx card inand was told by...</td>\n",
       "      <td>upgraded xxxx xxxx card inand told agent upgra...</td>\n",
       "      <td>xxxx card inand agent date agent information o...</td>\n",
       "    </tr>\n",
       "    <tr>\n",
       "      <th>2</th>\n",
       "      <td>chase card was reported onhowever fraudulent a...</td>\n",
       "      <td>chase card reported onhowever fraudulent appli...</td>\n",
       "      <td>chase card application identity consent servic...</td>\n",
       "    </tr>\n",
       "    <tr>\n",
       "      <th>3</th>\n",
       "      <td>onwhile trying to book a xxxx  xxxx  ticket i ...</td>\n",
       "      <td>onwhile trying book xxxx xxxx ticket came acro...</td>\n",
       "      <td>book ticket offer forto ticket card informatio...</td>\n",
       "    </tr>\n",
       "    <tr>\n",
       "      <th>4</th>\n",
       "      <td>my grand son give me check fori deposit it int...</td>\n",
       "      <td>grand son give check fori deposit chase accoun...</td>\n",
       "      <td>son check deposit chase account fund chase ban...</td>\n",
       "    </tr>\n",
       "    <tr>\n",
       "      <th>...</th>\n",
       "      <td>...</td>\n",
       "      <td>...</td>\n",
       "      <td>...</td>\n",
       "    </tr>\n",
       "    <tr>\n",
       "      <th>21067</th>\n",
       "      <td>after being a chase card customer for well ove...</td>\n",
       "      <td>chase card customer well decade offered multip...</td>\n",
       "      <td>chase card customer decade solicitation credit...</td>\n",
       "    </tr>\n",
       "    <tr>\n",
       "      <th>21068</th>\n",
       "      <td>on wednesday xxxxxxxx i called chas my xxxx xx...</td>\n",
       "      <td>wednesday xxxxxxxx called chas xxxx xxxx visa ...</td>\n",
       "      <td>wednesday chas xxxx credit card provider claim...</td>\n",
       "    </tr>\n",
       "    <tr>\n",
       "      <th>21069</th>\n",
       "      <td>i am not familiar with xxxx pay and did not un...</td>\n",
       "      <td>familiar xxxx pay understand great risk provid...</td>\n",
       "      <td>pay risk consumer chase bank chase banking dea...</td>\n",
       "    </tr>\n",
       "    <tr>\n",
       "      <th>21070</th>\n",
       "      <td>i have had flawless credit foryrs ive had chas...</td>\n",
       "      <td>flawless credit foryrs ive chase credit card c...</td>\n",
       "      <td>flawless credit chase credit card chase freedo...</td>\n",
       "    </tr>\n",
       "    <tr>\n",
       "      <th>21071</th>\n",
       "      <td>roughlyyears ago i closed out my accounts with...</td>\n",
       "      <td>roughlyyears ago closed account jp morgan chas...</td>\n",
       "      <td>account jp bank order line credit pay account ...</td>\n",
       "    </tr>\n",
       "  </tbody>\n",
       "</table>\n",
       "<p>21072 rows × 3 columns</p>\n",
       "</div>\n",
       "      <button class=\"colab-df-convert\" onclick=\"convertToInteractive('df-c1b523fb-3541-4cd2-9c4f-527ff21d8300')\"\n",
       "              title=\"Convert this dataframe to an interactive table.\"\n",
       "              style=\"display:none;\">\n",
       "        \n",
       "  <svg xmlns=\"http://www.w3.org/2000/svg\" height=\"24px\"viewBox=\"0 0 24 24\"\n",
       "       width=\"24px\">\n",
       "    <path d=\"M0 0h24v24H0V0z\" fill=\"none\"/>\n",
       "    <path d=\"M18.56 5.44l.94 2.06.94-2.06 2.06-.94-2.06-.94-.94-2.06-.94 2.06-2.06.94zm-11 1L8.5 8.5l.94-2.06 2.06-.94-2.06-.94L8.5 2.5l-.94 2.06-2.06.94zm10 10l.94 2.06.94-2.06 2.06-.94-2.06-.94-.94-2.06-.94 2.06-2.06.94z\"/><path d=\"M17.41 7.96l-1.37-1.37c-.4-.4-.92-.59-1.43-.59-.52 0-1.04.2-1.43.59L10.3 9.45l-7.72 7.72c-.78.78-.78 2.05 0 2.83L4 21.41c.39.39.9.59 1.41.59.51 0 1.02-.2 1.41-.59l7.78-7.78 2.81-2.81c.8-.78.8-2.07 0-2.86zM5.41 20L4 18.59l7.72-7.72 1.47 1.35L5.41 20z\"/>\n",
       "  </svg>\n",
       "      </button>\n",
       "      \n",
       "  <style>\n",
       "    .colab-df-container {\n",
       "      display:flex;\n",
       "      flex-wrap:wrap;\n",
       "      gap: 12px;\n",
       "    }\n",
       "\n",
       "    .colab-df-convert {\n",
       "      background-color: #E8F0FE;\n",
       "      border: none;\n",
       "      border-radius: 50%;\n",
       "      cursor: pointer;\n",
       "      display: none;\n",
       "      fill: #1967D2;\n",
       "      height: 32px;\n",
       "      padding: 0 0 0 0;\n",
       "      width: 32px;\n",
       "    }\n",
       "\n",
       "    .colab-df-convert:hover {\n",
       "      background-color: #E2EBFA;\n",
       "      box-shadow: 0px 1px 2px rgba(60, 64, 67, 0.3), 0px 1px 3px 1px rgba(60, 64, 67, 0.15);\n",
       "      fill: #174EA6;\n",
       "    }\n",
       "\n",
       "    [theme=dark] .colab-df-convert {\n",
       "      background-color: #3B4455;\n",
       "      fill: #D2E3FC;\n",
       "    }\n",
       "\n",
       "    [theme=dark] .colab-df-convert:hover {\n",
       "      background-color: #434B5C;\n",
       "      box-shadow: 0px 1px 3px 1px rgba(0, 0, 0, 0.15);\n",
       "      filter: drop-shadow(0px 1px 2px rgba(0, 0, 0, 0.3));\n",
       "      fill: #FFFFFF;\n",
       "    }\n",
       "  </style>\n",
       "\n",
       "      <script>\n",
       "        const buttonEl =\n",
       "          document.querySelector('#df-c1b523fb-3541-4cd2-9c4f-527ff21d8300 button.colab-df-convert');\n",
       "        buttonEl.style.display =\n",
       "          google.colab.kernel.accessAllowed ? 'block' : 'none';\n",
       "\n",
       "        async function convertToInteractive(key) {\n",
       "          const element = document.querySelector('#df-c1b523fb-3541-4cd2-9c4f-527ff21d8300');\n",
       "          const dataTable =\n",
       "            await google.colab.kernel.invokeFunction('convertToInteractive',\n",
       "                                                     [key], {});\n",
       "          if (!dataTable) return;\n",
       "\n",
       "          const docLinkHtml = 'Like what you see? Visit the ' +\n",
       "            '<a target=\"_blank\" href=https://colab.research.google.com/notebooks/data_table.ipynb>data table notebook</a>'\n",
       "            + ' to learn more about interactive tables.';\n",
       "          element.innerHTML = '';\n",
       "          dataTable['output_type'] = 'display_data';\n",
       "          await google.colab.output.renderOutput(dataTable, element);\n",
       "          const docLink = document.createElement('div');\n",
       "          docLink.innerHTML = docLinkHtml;\n",
       "          element.appendChild(docLink);\n",
       "        }\n",
       "      </script>\n",
       "    </div>\n",
       "  </div>\n",
       "  "
      ],
      "text/plain": [
       "                                    complaint_text_clean  \\\n",
       "0      good morning my name is xxxx xxxx and i apprec...   \n",
       "1      i upgraded my xxxx xxxx card inand was told by...   \n",
       "2      chase card was reported onhowever fraudulent a...   \n",
       "3      onwhile trying to book a xxxx  xxxx  ticket i ...   \n",
       "4      my grand son give me check fori deposit it int...   \n",
       "...                                                  ...   \n",
       "21067  after being a chase card customer for well ove...   \n",
       "21068  on wednesday xxxxxxxx i called chas my xxxx xx...   \n",
       "21069  i am not familiar with xxxx pay and did not un...   \n",
       "21070  i have had flawless credit foryrs ive had chas...   \n",
       "21071  roughlyyears ago i closed out my accounts with...   \n",
       "\n",
       "                               complaint_text_lemmatized  \\\n",
       "0      good morning name xxxx xxxx appreciate could h...   \n",
       "1      upgraded xxxx xxxx card inand told agent upgra...   \n",
       "2      chase card reported onhowever fraudulent appli...   \n",
       "3      onwhile trying book xxxx xxxx ticket came acro...   \n",
       "4      grand son give check fori deposit chase accoun...   \n",
       "...                                                  ...   \n",
       "21067  chase card customer well decade offered multip...   \n",
       "21068  wednesday xxxxxxxx called chas xxxx xxxx visa ...   \n",
       "21069  familiar xxxx pay understand great risk provid...   \n",
       "21070  flawless credit foryrs ive chase credit card c...   \n",
       "21071  roughlyyears ago closed account jp morgan chas...   \n",
       "\n",
       "                                   complaint_POS_removed  \n",
       "0      morning name appreciate chase bank service ini...  \n",
       "1      xxxx card inand agent date agent information o...  \n",
       "2      chase card application identity consent servic...  \n",
       "3      book ticket offer forto ticket card informatio...  \n",
       "4      son check deposit chase account fund chase ban...  \n",
       "...                                                  ...  \n",
       "21067  chase card customer decade solicitation credit...  \n",
       "21068  wednesday chas xxxx credit card provider claim...  \n",
       "21069  pay risk consumer chase bank chase banking dea...  \n",
       "21070  flawless credit chase credit card chase freedo...  \n",
       "21071  account jp bank order line credit pay account ...  \n",
       "\n",
       "[21072 rows x 3 columns]"
      ]
     },
     "execution_count": 32,
     "metadata": {},
     "output_type": "execute_result"
    }
   ],
   "source": [
    "df_clean"
   ]
  },
  {
   "cell_type": "markdown",
   "metadata": {
    "id": "_7Un1AElJrF2"
   },
   "source": [
    "## Exploratory data analysis to get familiar with the data.\n",
    "\n",
    "Write the code in this task to perform the following:\n",
    "\n",
    "*   Visualise the data according to the 'Complaint' character length\n",
    "*   Using a word cloud find the top 40 words by frequency among all the articles after processing the text\n",
    "*   Find the top unigrams,bigrams and trigrams by frequency among all the complaints after processing the text. ‘\n",
    "\n",
    "\n"
   ]
  },
  {
   "cell_type": "code",
   "execution_count": 33,
   "metadata": {
    "colab": {
     "base_uri": "https://localhost:8080/",
     "height": 624
    },
    "executionInfo": {
     "elapsed": 1219,
     "status": "ok",
     "timestamp": 1648988415270,
     "user": {
      "displayName": "Jaya Srivastava",
      "userId": "07102034494739188338"
     },
     "user_tz": -330
    },
    "id": "q-zaqJF6JrF2",
    "outputId": "c0814dd4-7c03-4d54-a72a-d011010b6ff0"
   },
   "outputs": [
    {
     "data": {
      "text/plain": [
       "<matplotlib.axes._subplots.AxesSubplot at 0x7ff8272be290>"
      ]
     },
     "execution_count": 33,
     "metadata": {},
     "output_type": "execute_result"
    },
    {
     "data": {
      "image/png": "[encoded data removed]",
      "text/plain": [
       "<Figure size 720x720 with 1 Axes>"
      ]
     },
     "metadata": {
      "needs_background": "light"
     },
     "output_type": "display_data"
    }
   ],
   "source": [
    "# Write your code here to visualise the data according to the 'Complaint' character length\n",
    "sns.distplot(df_clean['complaint_text_clean'].apply(lambda x:len(x)))"
   ]
  },
  {
   "cell_type": "markdown",
   "metadata": {
    "id": "T9jD_6SeJrF3"
   },
   "source": [
    "#### Find the top 40 words by frequency among all the articles after processing the text."
   ]
  },
  {
   "cell_type": "code",
   "execution_count": 34,
   "metadata": {
    "colab": {
     "base_uri": "https://localhost:8080/",
     "height": 348
    },
    "executionInfo": {
     "elapsed": 1644,
     "status": "ok",
     "timestamp": 1648988424840,
     "user": {
      "displayName": "Jaya Srivastava",
      "userId": "07102034494739188338"
     },
     "user_tz": -330
    },
    "id": "QcfdvtfZJrF3",
    "outputId": "94641435-8a2d-4529-df8d-33a59f630616"
   },
   "outputs": [
    {
     "data": {
      "text/plain": [
       "<matplotlib.image.AxesImage at 0x7ff8241fe510>"
      ]
     },
     "execution_count": 34,
     "metadata": {},
     "output_type": "execute_result"
    },
    {
     "data": {
      "image/png": "[encoded data removed]",
      "text/plain": [
       "<Figure size 720x720 with 1 Axes>"
      ]
     },
     "metadata": {
      "needs_background": "light"
     },
     "output_type": "display_data"
    }
   ],
   "source": [
    "#Using a word cloud find the top 40 words by frequency among all the articles after processing the text\n",
    "wordcloud = WordCloud(max_words=40, stopwords=stopwords, background_color='white', max_font_size=40).generate(str(df_clean['complaint_POS_removed']))\n",
    "plt.imshow(wordcloud)"
   ]
  },
  {
   "cell_type": "code",
   "execution_count": 35,
   "metadata": {
    "colab": {
     "base_uri": "https://localhost:8080/"
    },
    "executionInfo": {
     "elapsed": 356,
     "status": "ok",
     "timestamp": 1648988432805,
     "user": {
      "displayName": "Jaya Srivastava",
      "userId": "07102034494739188338"
     },
     "user_tz": -330
    },
    "id": "OkSmc3UaJrF4",
    "outputId": "e1ed9228-d09c-4474-bd58-40e78b9668ac"
   },
   "outputs": [
    {
     "name": "stderr",
     "output_type": "stream",
     "text": [
      "/usr/local/lib/python3.7/dist-packages/ipykernel_launcher.py:2: SettingWithCopyWarning:\n",
      "\n",
      "\n",
      "A value is trying to be set on a copy of a slice from a DataFrame.\n",
      "Try using .loc[row_indexer,col_indexer] = value instead\n",
      "\n",
      "See the caveats in the documentation: https://pandas.pydata.org/pandas-docs/stable/user_guide/indexing.html#returning-a-view-versus-a-copy\n",
      "\n"
     ]
    }
   ],
   "source": [
    "#Removing -PRON- from the text corpus\n",
    "df_clean['Complaint_clean'] = df_clean['complaint_POS_removed'].str.replace('-PRON-', '')"
   ]
  },
  {
   "cell_type": "markdown",
   "metadata": {
    "id": "5DfCSbbmJrF4"
   },
   "source": [
    "#### Find the top unigrams,bigrams and trigrams by frequency among all the complaints after processing the text."
   ]
  },
  {
   "cell_type": "code",
   "execution_count": 36,
   "metadata": {
    "executionInfo": {
     "elapsed": 356,
     "status": "ok",
     "timestamp": 1648988440794,
     "user": {
      "displayName": "Jaya Srivastava",
      "userId": "07102034494739188338"
     },
     "user_tz": -330
    },
    "id": "J2xt8CqC_MKy"
   },
   "outputs": [],
   "source": [
    "def get_n_gram_freq(corpus, n_gram_size=1):\n",
    "  vec = CountVectorizer(ngram_range=(n_gram_size, n_gram_size), stop_words='english').fit(corpus)\n",
    "  bag_of_words = vec.transform(corpus)\n",
    "  sum_words = bag_of_words.sum(axis=0) \n",
    "  words_freq = [(word, sum_words[0, idx]) for word, idx in vec.vocabulary_.items()]\n",
    "  words_freq =sorted(words_freq, key = lambda x: x[1], reverse=True)\n",
    "  return words_freq"
   ]
  },
  {
   "cell_type": "code",
   "execution_count": 37,
   "metadata": {
    "executionInfo": {
     "elapsed": 6870,
     "status": "ok",
     "timestamp": 1648988451171,
     "user": {
      "displayName": "Jaya Srivastava",
      "userId": "07102034494739188338"
     },
     "user_tz": -330
    },
    "id": "iVm74eWgQ3Mp"
   },
   "outputs": [],
   "source": [
    "#Write your code here to find the top 30 unigram frequency among the complaints in the cleaned datafram(df_clean). \n",
    "unigrams = get_n_gram_freq(df_clean['complaint_text_clean'], n_gram_size=1)"
   ]
  },
  {
   "cell_type": "code",
   "execution_count": 38,
   "metadata": {
    "colab": {
     "base_uri": "https://localhost:8080/",
     "height": 363
    },
    "executionInfo": {
     "elapsed": 397,
     "status": "ok",
     "timestamp": 1648988460589,
     "user": {
      "displayName": "Jaya Srivastava",
      "userId": "07102034494739188338"
     },
     "user_tz": -330
    },
    "id": "jIll4ZlEQ4E7",
    "outputId": "7e0a006f-0136-4a18-ee50-32c5be6694c8"
   },
   "outputs": [
    {
     "data": {
      "text/html": [
       "\n",
       "  <div id=\"df-c2865cbe-63b7-40d2-9f73-d0d5b5ef86a1\">\n",
       "    <div class=\"colab-df-container\">\n",
       "      <div>\n",
       "<style scoped>\n",
       "    .dataframe tbody tr th:only-of-type {\n",
       "        vertical-align: middle;\n",
       "    }\n",
       "\n",
       "    .dataframe tbody tr th {\n",
       "        vertical-align: top;\n",
       "    }\n",
       "\n",
       "    .dataframe thead th {\n",
       "        text-align: right;\n",
       "    }\n",
       "</style>\n",
       "<table border=\"1\" class=\"dataframe\">\n",
       "  <thead>\n",
       "    <tr style=\"text-align: right;\">\n",
       "      <th></th>\n",
       "      <th>unigram</th>\n",
       "      <th>count</th>\n",
       "    </tr>\n",
       "  </thead>\n",
       "  <tbody>\n",
       "    <tr>\n",
       "      <th>0</th>\n",
       "      <td>xxxx</td>\n",
       "      <td>187840</td>\n",
       "    </tr>\n",
       "    <tr>\n",
       "      <th>1</th>\n",
       "      <td>chase</td>\n",
       "      <td>78838</td>\n",
       "    </tr>\n",
       "    <tr>\n",
       "      <th>2</th>\n",
       "      <td>account</td>\n",
       "      <td>42317</td>\n",
       "    </tr>\n",
       "    <tr>\n",
       "      <th>3</th>\n",
       "      <td>credit</td>\n",
       "      <td>32087</td>\n",
       "    </tr>\n",
       "    <tr>\n",
       "      <th>4</th>\n",
       "      <td>xxxxxxxx</td>\n",
       "      <td>27446</td>\n",
       "    </tr>\n",
       "    <tr>\n",
       "      <th>5</th>\n",
       "      <td>card</td>\n",
       "      <td>26691</td>\n",
       "    </tr>\n",
       "    <tr>\n",
       "      <th>6</th>\n",
       "      <td>bank</td>\n",
       "      <td>26498</td>\n",
       "    </tr>\n",
       "    <tr>\n",
       "      <th>7</th>\n",
       "      <td>told</td>\n",
       "      <td>16326</td>\n",
       "    </tr>\n",
       "    <tr>\n",
       "      <th>8</th>\n",
       "      <td>did</td>\n",
       "      <td>15941</td>\n",
       "    </tr>\n",
       "    <tr>\n",
       "      <th>9</th>\n",
       "      <td>payment</td>\n",
       "      <td>13600</td>\n",
       "    </tr>\n",
       "  </tbody>\n",
       "</table>\n",
       "</div>\n",
       "      <button class=\"colab-df-convert\" onclick=\"convertToInteractive('df-c2865cbe-63b7-40d2-9f73-d0d5b5ef86a1')\"\n",
       "              title=\"Convert this dataframe to an interactive table.\"\n",
       "              style=\"display:none;\">\n",
       "        \n",
       "  <svg xmlns=\"http://www.w3.org/2000/svg\" height=\"24px\"viewBox=\"0 0 24 24\"\n",
       "       width=\"24px\">\n",
       "    <path d=\"M0 0h24v24H0V0z\" fill=\"none\"/>\n",
       "    <path d=\"M18.56 5.44l.94 2.06.94-2.06 2.06-.94-2.06-.94-.94-2.06-.94 2.06-2.06.94zm-11 1L8.5 8.5l.94-2.06 2.06-.94-2.06-.94L8.5 2.5l-.94 2.06-2.06.94zm10 10l.94 2.06.94-2.06 2.06-.94-2.06-.94-.94-2.06-.94 2.06-2.06.94z\"/><path d=\"M17.41 7.96l-1.37-1.37c-.4-.4-.92-.59-1.43-.59-.52 0-1.04.2-1.43.59L10.3 9.45l-7.72 7.72c-.78.78-.78 2.05 0 2.83L4 21.41c.39.39.9.59 1.41.59.51 0 1.02-.2 1.41-.59l7.78-7.78 2.81-2.81c.8-.78.8-2.07 0-2.86zM5.41 20L4 18.59l7.72-7.72 1.47 1.35L5.41 20z\"/>\n",
       "  </svg>\n",
       "      </button>\n",
       "      \n",
       "  <style>\n",
       "    .colab-df-container {\n",
       "      display:flex;\n",
       "      flex-wrap:wrap;\n",
       "      gap: 12px;\n",
       "    }\n",
       "\n",
       "    .colab-df-convert {\n",
       "      background-color: #E8F0FE;\n",
       "      border: none;\n",
       "      border-radius: 50%;\n",
       "      cursor: pointer;\n",
       "      display: none;\n",
       "      fill: #1967D2;\n",
       "      height: 32px;\n",
       "      padding: 0 0 0 0;\n",
       "      width: 32px;\n",
       "    }\n",
       "\n",
       "    .colab-df-convert:hover {\n",
       "      background-color: #E2EBFA;\n",
       "      box-shadow: 0px 1px 2px rgba(60, 64, 67, 0.3), 0px 1px 3px 1px rgba(60, 64, 67, 0.15);\n",
       "      fill: #174EA6;\n",
       "    }\n",
       "\n",
       "    [theme=dark] .colab-df-convert {\n",
       "      background-color: #3B4455;\n",
       "      fill: #D2E3FC;\n",
       "    }\n",
       "\n",
       "    [theme=dark] .colab-df-convert:hover {\n",
       "      background-color: #434B5C;\n",
       "      box-shadow: 0px 1px 3px 1px rgba(0, 0, 0, 0.15);\n",
       "      filter: drop-shadow(0px 1px 2px rgba(0, 0, 0, 0.3));\n",
       "      fill: #FFFFFF;\n",
       "    }\n",
       "  </style>\n",
       "\n",
       "      <script>\n",
       "        const buttonEl =\n",
       "          document.querySelector('#df-c2865cbe-63b7-40d2-9f73-d0d5b5ef86a1 button.colab-df-convert');\n",
       "        buttonEl.style.display =\n",
       "          google.colab.kernel.accessAllowed ? 'block' : 'none';\n",
       "\n",
       "        async function convertToInteractive(key) {\n",
       "          const element = document.querySelector('#df-c2865cbe-63b7-40d2-9f73-d0d5b5ef86a1');\n",
       "          const dataTable =\n",
       "            await google.colab.kernel.invokeFunction('convertToInteractive',\n",
       "                                                     [key], {});\n",
       "          if (!dataTable) return;\n",
       "\n",
       "          const docLinkHtml = 'Like what you see? Visit the ' +\n",
       "            '<a target=\"_blank\" href=https://colab.research.google.com/notebooks/data_table.ipynb>data table notebook</a>'\n",
       "            + ' to learn more about interactive tables.';\n",
       "          element.innerHTML = '';\n",
       "          dataTable['output_type'] = 'display_data';\n",
       "          await google.colab.output.renderOutput(dataTable, element);\n",
       "          const docLink = document.createElement('div');\n",
       "          docLink.innerHTML = docLinkHtml;\n",
       "          element.appendChild(docLink);\n",
       "        }\n",
       "      </script>\n",
       "    </div>\n",
       "  </div>\n",
       "  "
      ],
      "text/plain": [
       "    unigram   count\n",
       "0      xxxx  187840\n",
       "1     chase   78838\n",
       "2   account   42317\n",
       "3    credit   32087\n",
       "4  xxxxxxxx   27446\n",
       "5      card   26691\n",
       "6      bank   26498\n",
       "7      told   16326\n",
       "8       did   15941\n",
       "9   payment   13600"
      ]
     },
     "execution_count": 38,
     "metadata": {},
     "output_type": "execute_result"
    }
   ],
   "source": [
    "#Print the top 10 words in the unigram frequency\n",
    "pd.DataFrame(unigrams[:10], columns=['unigram', 'count'])"
   ]
  },
  {
   "cell_type": "code",
   "execution_count": 39,
   "metadata": {
    "executionInfo": {
     "elapsed": 16246,
     "status": "ok",
     "timestamp": 1648988562657,
     "user": {
      "displayName": "Jaya Srivastava",
      "userId": "07102034494739188338"
     },
     "user_tz": -330
    },
    "id": "PmTBoeuIQ4-N"
   },
   "outputs": [],
   "source": [
    "#Write your code here to find the top 30 bigram frequency among the complaints in the cleaned datafram(df_clean). \n",
    "bigrams = get_n_gram_freq(df_clean['complaint_text_clean'], n_gram_size=2)"
   ]
  },
  {
   "cell_type": "code",
   "execution_count": 40,
   "metadata": {
    "colab": {
     "base_uri": "https://localhost:8080/",
     "height": 363
    },
    "executionInfo": {
     "elapsed": 357,
     "status": "ok",
     "timestamp": 1648988567857,
     "user": {
      "displayName": "Jaya Srivastava",
      "userId": "07102034494739188338"
     },
     "user_tz": -330
    },
    "id": "qHHQlI5_Q56U",
    "outputId": "83754446-1cec-4782-a133-2c900e42fbab"
   },
   "outputs": [
    {
     "data": {
      "text/html": [
       "\n",
       "  <div id=\"df-1c2d684a-e1ff-459b-8f6d-8fbecf349cb8\">\n",
       "    <div class=\"colab-df-container\">\n",
       "      <div>\n",
       "<style scoped>\n",
       "    .dataframe tbody tr th:only-of-type {\n",
       "        vertical-align: middle;\n",
       "    }\n",
       "\n",
       "    .dataframe tbody tr th {\n",
       "        vertical-align: top;\n",
       "    }\n",
       "\n",
       "    .dataframe thead th {\n",
       "        text-align: right;\n",
       "    }\n",
       "</style>\n",
       "<table border=\"1\" class=\"dataframe\">\n",
       "  <thead>\n",
       "    <tr style=\"text-align: right;\">\n",
       "      <th></th>\n",
       "      <th>bigram</th>\n",
       "      <th>count</th>\n",
       "    </tr>\n",
       "  </thead>\n",
       "  <tbody>\n",
       "    <tr>\n",
       "      <th>0</th>\n",
       "      <td>xxxx xxxx</td>\n",
       "      <td>79466</td>\n",
       "    </tr>\n",
       "    <tr>\n",
       "      <th>1</th>\n",
       "      <td>chase bank</td>\n",
       "      <td>12399</td>\n",
       "    </tr>\n",
       "    <tr>\n",
       "      <th>2</th>\n",
       "      <td>credit card</td>\n",
       "      <td>10822</td>\n",
       "    </tr>\n",
       "    <tr>\n",
       "      <th>3</th>\n",
       "      <td>xxxx chase</td>\n",
       "      <td>3688</td>\n",
       "    </tr>\n",
       "    <tr>\n",
       "      <th>4</th>\n",
       "      <td>called chase</td>\n",
       "      <td>3659</td>\n",
       "    </tr>\n",
       "    <tr>\n",
       "      <th>5</th>\n",
       "      <td>checking account</td>\n",
       "      <td>3526</td>\n",
       "    </tr>\n",
       "    <tr>\n",
       "      <th>6</th>\n",
       "      <td>credit report</td>\n",
       "      <td>3225</td>\n",
       "    </tr>\n",
       "    <tr>\n",
       "      <th>7</th>\n",
       "      <td>xxxxxxxx xxxx</td>\n",
       "      <td>3163</td>\n",
       "    </tr>\n",
       "    <tr>\n",
       "      <th>8</th>\n",
       "      <td>customer service</td>\n",
       "      <td>2996</td>\n",
       "    </tr>\n",
       "    <tr>\n",
       "      <th>9</th>\n",
       "      <td>xxxx xxxxxxxx</td>\n",
       "      <td>2931</td>\n",
       "    </tr>\n",
       "  </tbody>\n",
       "</table>\n",
       "</div>\n",
       "      <button class=\"colab-df-convert\" onclick=\"convertToInteractive('df-1c2d684a-e1ff-459b-8f6d-8fbecf349cb8')\"\n",
       "              title=\"Convert this dataframe to an interactive table.\"\n",
       "              style=\"display:none;\">\n",
       "        \n",
       "  <svg xmlns=\"http://www.w3.org/2000/svg\" height=\"24px\"viewBox=\"0 0 24 24\"\n",
       "       width=\"24px\">\n",
       "    <path d=\"M0 0h24v24H0V0z\" fill=\"none\"/>\n",
       "    <path d=\"M18.56 5.44l.94 2.06.94-2.06 2.06-.94-2.06-.94-.94-2.06-.94 2.06-2.06.94zm-11 1L8.5 8.5l.94-2.06 2.06-.94-2.06-.94L8.5 2.5l-.94 2.06-2.06.94zm10 10l.94 2.06.94-2.06 2.06-.94-2.06-.94-.94-2.06-.94 2.06-2.06.94z\"/><path d=\"M17.41 7.96l-1.37-1.37c-.4-.4-.92-.59-1.43-.59-.52 0-1.04.2-1.43.59L10.3 9.45l-7.72 7.72c-.78.78-.78 2.05 0 2.83L4 21.41c.39.39.9.59 1.41.59.51 0 1.02-.2 1.41-.59l7.78-7.78 2.81-2.81c.8-.78.8-2.07 0-2.86zM5.41 20L4 18.59l7.72-7.72 1.47 1.35L5.41 20z\"/>\n",
       "  </svg>\n",
       "      </button>\n",
       "      \n",
       "  <style>\n",
       "    .colab-df-container {\n",
       "      display:flex;\n",
       "      flex-wrap:wrap;\n",
       "      gap: 12px;\n",
       "    }\n",
       "\n",
       "    .colab-df-convert {\n",
       "      background-color: #E8F0FE;\n",
       "      border: none;\n",
       "      border-radius: 50%;\n",
       "      cursor: pointer;\n",
       "      display: none;\n",
       "      fill: #1967D2;\n",
       "      height: 32px;\n",
       "      padding: 0 0 0 0;\n",
       "      width: 32px;\n",
       "    }\n",
       "\n",
       "    .colab-df-convert:hover {\n",
       "      background-color: #E2EBFA;\n",
       "      box-shadow: 0px 1px 2px rgba(60, 64, 67, 0.3), 0px 1px 3px 1px rgba(60, 64, 67, 0.15);\n",
       "      fill: #174EA6;\n",
       "    }\n",
       "\n",
       "    [theme=dark] .colab-df-convert {\n",
       "      background-color: #3B4455;\n",
       "      fill: #D2E3FC;\n",
       "    }\n",
       "\n",
       "    [theme=dark] .colab-df-convert:hover {\n",
       "      background-color: #434B5C;\n",
       "      box-shadow: 0px 1px 3px 1px rgba(0, 0, 0, 0.15);\n",
       "      filter: drop-shadow(0px 1px 2px rgba(0, 0, 0, 0.3));\n",
       "      fill: #FFFFFF;\n",
       "    }\n",
       "  </style>\n",
       "\n",
       "      <script>\n",
       "        const buttonEl =\n",
       "          document.querySelector('#df-1c2d684a-e1ff-459b-8f6d-8fbecf349cb8 button.colab-df-convert');\n",
       "        buttonEl.style.display =\n",
       "          google.colab.kernel.accessAllowed ? 'block' : 'none';\n",
       "\n",
       "        async function convertToInteractive(key) {\n",
       "          const element = document.querySelector('#df-1c2d684a-e1ff-459b-8f6d-8fbecf349cb8');\n",
       "          const dataTable =\n",
       "            await google.colab.kernel.invokeFunction('convertToInteractive',\n",
       "                                                     [key], {});\n",
       "          if (!dataTable) return;\n",
       "\n",
       "          const docLinkHtml = 'Like what you see? Visit the ' +\n",
       "            '<a target=\"_blank\" href=https://colab.research.google.com/notebooks/data_table.ipynb>data table notebook</a>'\n",
       "            + ' to learn more about interactive tables.';\n",
       "          element.innerHTML = '';\n",
       "          dataTable['output_type'] = 'display_data';\n",
       "          await google.colab.output.renderOutput(dataTable, element);\n",
       "          const docLink = document.createElement('div');\n",
       "          docLink.innerHTML = docLinkHtml;\n",
       "          element.appendChild(docLink);\n",
       "        }\n",
       "      </script>\n",
       "    </div>\n",
       "  </div>\n",
       "  "
      ],
      "text/plain": [
       "             bigram  count\n",
       "0         xxxx xxxx  79466\n",
       "1        chase bank  12399\n",
       "2       credit card  10822\n",
       "3        xxxx chase   3688\n",
       "4      called chase   3659\n",
       "5  checking account   3526\n",
       "6     credit report   3225\n",
       "7     xxxxxxxx xxxx   3163\n",
       "8  customer service   2996\n",
       "9     xxxx xxxxxxxx   2931"
      ]
     },
     "execution_count": 40,
     "metadata": {},
     "output_type": "execute_result"
    }
   ],
   "source": [
    "#Print the top 10 words in the bigram frequency\n",
    "pd.DataFrame(bigrams[:10], columns=['bigram', 'count'])"
   ]
  },
  {
   "cell_type": "code",
   "execution_count": 41,
   "metadata": {
    "executionInfo": {
     "elapsed": 23552,
     "status": "ok",
     "timestamp": 1648988662994,
     "user": {
      "displayName": "Jaya Srivastava",
      "userId": "07102034494739188338"
     },
     "user_tz": -330
    },
    "id": "FNyMR7CPQ7Ed"
   },
   "outputs": [],
   "source": [
    "#Write your code here to find the top 30 trigram frequency among the complaints in the cleaned datafram(df_clean). \n",
    "trigrams = get_n_gram_freq(df_clean['complaint_text_clean'], n_gram_size=3)"
   ]
  },
  {
   "cell_type": "code",
   "execution_count": 42,
   "metadata": {
    "colab": {
     "base_uri": "https://localhost:8080/",
     "height": 363
    },
    "executionInfo": {
     "elapsed": 383,
     "status": "ok",
     "timestamp": 1648988667193,
     "user": {
      "displayName": "Jaya Srivastava",
      "userId": "07102034494739188338"
     },
     "user_tz": -330
    },
    "id": "LvwJevgMQ8Am",
    "outputId": "2147cf6b-b4fb-4a95-8459-96b96832af7b"
   },
   "outputs": [
    {
     "data": {
      "text/html": [
       "\n",
       "  <div id=\"df-c9033e8b-b431-4302-8f57-0ffbbf6d01ff\">\n",
       "    <div class=\"colab-df-container\">\n",
       "      <div>\n",
       "<style scoped>\n",
       "    .dataframe tbody tr th:only-of-type {\n",
       "        vertical-align: middle;\n",
       "    }\n",
       "\n",
       "    .dataframe tbody tr th {\n",
       "        vertical-align: top;\n",
       "    }\n",
       "\n",
       "    .dataframe thead th {\n",
       "        text-align: right;\n",
       "    }\n",
       "</style>\n",
       "<table border=\"1\" class=\"dataframe\">\n",
       "  <thead>\n",
       "    <tr style=\"text-align: right;\">\n",
       "      <th></th>\n",
       "      <th>trigram</th>\n",
       "      <th>count</th>\n",
       "    </tr>\n",
       "  </thead>\n",
       "  <tbody>\n",
       "    <tr>\n",
       "      <th>0</th>\n",
       "      <td>xxxx xxxx xxxx</td>\n",
       "      <td>37342</td>\n",
       "    </tr>\n",
       "    <tr>\n",
       "      <th>1</th>\n",
       "      <td>jp morgan chase</td>\n",
       "      <td>2302</td>\n",
       "    </tr>\n",
       "    <tr>\n",
       "      <th>2</th>\n",
       "      <td>chase credit card</td>\n",
       "      <td>1784</td>\n",
       "    </tr>\n",
       "    <tr>\n",
       "      <th>3</th>\n",
       "      <td>xxxxxxxx xxxx xxxx</td>\n",
       "      <td>1583</td>\n",
       "    </tr>\n",
       "    <tr>\n",
       "      <th>4</th>\n",
       "      <td>xxxx xxxx chase</td>\n",
       "      <td>1495</td>\n",
       "    </tr>\n",
       "    <tr>\n",
       "      <th>5</th>\n",
       "      <td>xxxx xxxx xxxxxxxx</td>\n",
       "      <td>1271</td>\n",
       "    </tr>\n",
       "    <tr>\n",
       "      <th>6</th>\n",
       "      <td>chase xxxx xxxx</td>\n",
       "      <td>1098</td>\n",
       "    </tr>\n",
       "    <tr>\n",
       "      <th>7</th>\n",
       "      <td>xxxx xxxxxxxx xxxx</td>\n",
       "      <td>985</td>\n",
       "    </tr>\n",
       "    <tr>\n",
       "      <th>8</th>\n",
       "      <td>chase bank xxxx</td>\n",
       "      <td>949</td>\n",
       "    </tr>\n",
       "    <tr>\n",
       "      <th>9</th>\n",
       "      <td>account xxxx xxxx</td>\n",
       "      <td>843</td>\n",
       "    </tr>\n",
       "  </tbody>\n",
       "</table>\n",
       "</div>\n",
       "      <button class=\"colab-df-convert\" onclick=\"convertToInteractive('df-c9033e8b-b431-4302-8f57-0ffbbf6d01ff')\"\n",
       "              title=\"Convert this dataframe to an interactive table.\"\n",
       "              style=\"display:none;\">\n",
       "        \n",
       "  <svg xmlns=\"http://www.w3.org/2000/svg\" height=\"24px\"viewBox=\"0 0 24 24\"\n",
       "       width=\"24px\">\n",
       "    <path d=\"M0 0h24v24H0V0z\" fill=\"none\"/>\n",
       "    <path d=\"M18.56 5.44l.94 2.06.94-2.06 2.06-.94-2.06-.94-.94-2.06-.94 2.06-2.06.94zm-11 1L8.5 8.5l.94-2.06 2.06-.94-2.06-.94L8.5 2.5l-.94 2.06-2.06.94zm10 10l.94 2.06.94-2.06 2.06-.94-2.06-.94-.94-2.06-.94 2.06-2.06.94z\"/><path d=\"M17.41 7.96l-1.37-1.37c-.4-.4-.92-.59-1.43-.59-.52 0-1.04.2-1.43.59L10.3 9.45l-7.72 7.72c-.78.78-.78 2.05 0 2.83L4 21.41c.39.39.9.59 1.41.59.51 0 1.02-.2 1.41-.59l7.78-7.78 2.81-2.81c.8-.78.8-2.07 0-2.86zM5.41 20L4 18.59l7.72-7.72 1.47 1.35L5.41 20z\"/>\n",
       "  </svg>\n",
       "      </button>\n",
       "      \n",
       "  <style>\n",
       "    .colab-df-container {\n",
       "      display:flex;\n",
       "      flex-wrap:wrap;\n",
       "      gap: 12px;\n",
       "    }\n",
       "\n",
       "    .colab-df-convert {\n",
       "      background-color: #E8F0FE;\n",
       "      border: none;\n",
       "      border-radius: 50%;\n",
       "      cursor: pointer;\n",
       "      display: none;\n",
       "      fill: #1967D2;\n",
       "      height: 32px;\n",
       "      padding: 0 0 0 0;\n",
       "      width: 32px;\n",
       "    }\n",
       "\n",
       "    .colab-df-convert:hover {\n",
       "      background-color: #E2EBFA;\n",
       "      box-shadow: 0px 1px 2px rgba(60, 64, 67, 0.3), 0px 1px 3px 1px rgba(60, 64, 67, 0.15);\n",
       "      fill: #174EA6;\n",
       "    }\n",
       "\n",
       "    [theme=dark] .colab-df-convert {\n",
       "      background-color: #3B4455;\n",
       "      fill: #D2E3FC;\n",
       "    }\n",
       "\n",
       "    [theme=dark] .colab-df-convert:hover {\n",
       "      background-color: #434B5C;\n",
       "      box-shadow: 0px 1px 3px 1px rgba(0, 0, 0, 0.15);\n",
       "      filter: drop-shadow(0px 1px 2px rgba(0, 0, 0, 0.3));\n",
       "      fill: #FFFFFF;\n",
       "    }\n",
       "  </style>\n",
       "\n",
       "      <script>\n",
       "        const buttonEl =\n",
       "          document.querySelector('#df-c9033e8b-b431-4302-8f57-0ffbbf6d01ff button.colab-df-convert');\n",
       "        buttonEl.style.display =\n",
       "          google.colab.kernel.accessAllowed ? 'block' : 'none';\n",
       "\n",
       "        async function convertToInteractive(key) {\n",
       "          const element = document.querySelector('#df-c9033e8b-b431-4302-8f57-0ffbbf6d01ff');\n",
       "          const dataTable =\n",
       "            await google.colab.kernel.invokeFunction('convertToInteractive',\n",
       "                                                     [key], {});\n",
       "          if (!dataTable) return;\n",
       "\n",
       "          const docLinkHtml = 'Like what you see? Visit the ' +\n",
       "            '<a target=\"_blank\" href=https://colab.research.google.com/notebooks/data_table.ipynb>data table notebook</a>'\n",
       "            + ' to learn more about interactive tables.';\n",
       "          element.innerHTML = '';\n",
       "          dataTable['output_type'] = 'display_data';\n",
       "          await google.colab.output.renderOutput(dataTable, element);\n",
       "          const docLink = document.createElement('div');\n",
       "          docLink.innerHTML = docLinkHtml;\n",
       "          element.appendChild(docLink);\n",
       "        }\n",
       "      </script>\n",
       "    </div>\n",
       "  </div>\n",
       "  "
      ],
      "text/plain": [
       "              trigram  count\n",
       "0      xxxx xxxx xxxx  37342\n",
       "1     jp morgan chase   2302\n",
       "2   chase credit card   1784\n",
       "3  xxxxxxxx xxxx xxxx   1583\n",
       "4     xxxx xxxx chase   1495\n",
       "5  xxxx xxxx xxxxxxxx   1271\n",
       "6     chase xxxx xxxx   1098\n",
       "7  xxxx xxxxxxxx xxxx    985\n",
       "8     chase bank xxxx    949\n",
       "9   account xxxx xxxx    843"
      ]
     },
     "execution_count": 42,
     "metadata": {},
     "output_type": "execute_result"
    }
   ],
   "source": [
    "#Print the top 10 words in the trigram frequency\n",
    "pd.DataFrame(trigrams[:10], columns=['trigram', 'count'])"
   ]
  },
  {
   "cell_type": "markdown",
   "metadata": {
    "id": "yUXzFji0JrF_"
   },
   "source": [
    "## The personal details of customer has been masked in the dataset with xxxx. Let's remove the masked text as this will be of no use for our analysis"
   ]
  },
  {
   "cell_type": "code",
   "execution_count": 43,
   "metadata": {
    "colab": {
     "base_uri": "https://localhost:8080/"
    },
    "executionInfo": {
     "elapsed": 354,
     "status": "ok",
     "timestamp": 1648988703885,
     "user": {
      "displayName": "Jaya Srivastava",
      "userId": "07102034494739188338"
     },
     "user_tz": -330
    },
    "id": "wKda-a_IJrF_",
    "outputId": "90524084-fa58-4fc4-8671-d748e2c9f807"
   },
   "outputs": [
    {
     "name": "stderr",
     "output_type": "stream",
     "text": [
      "/usr/local/lib/python3.7/dist-packages/ipykernel_launcher.py:1: SettingWithCopyWarning:\n",
      "\n",
      "\n",
      "A value is trying to be set on a copy of a slice from a DataFrame.\n",
      "Try using .loc[row_indexer,col_indexer] = value instead\n",
      "\n",
      "See the caveats in the documentation: https://pandas.pydata.org/pandas-docs/stable/user_guide/indexing.html#returning-a-view-versus-a-copy\n",
      "\n"
     ]
    }
   ],
   "source": [
    "df_clean['complaint_text_clean'] = df_clean['complaint_text_clean'].str.replace('xx+','')"
   ]
  },
  {
   "cell_type": "code",
   "execution_count": 44,
   "metadata": {
    "colab": {
     "base_uri": "https://localhost:8080/",
     "height": 423
    },
    "executionInfo": {
     "elapsed": 683,
     "status": "ok",
     "timestamp": 1648988710189,
     "user": {
      "displayName": "Jaya Srivastava",
      "userId": "07102034494739188338"
     },
     "user_tz": -330
    },
    "id": "9UIFk8fQJrF_",
    "outputId": "63293fdd-65ba-41f9-fcc7-4ce5458a09d4"
   },
   "outputs": [
    {
     "data": {
      "text/html": [
       "\n",
       "  <div id=\"df-ef514c6a-52c8-47b4-91ad-1147610f9371\">\n",
       "    <div class=\"colab-df-container\">\n",
       "      <div>\n",
       "<style scoped>\n",
       "    .dataframe tbody tr th:only-of-type {\n",
       "        vertical-align: middle;\n",
       "    }\n",
       "\n",
       "    .dataframe tbody tr th {\n",
       "        vertical-align: top;\n",
       "    }\n",
       "\n",
       "    .dataframe thead th {\n",
       "        text-align: right;\n",
       "    }\n",
       "</style>\n",
       "<table border=\"1\" class=\"dataframe\">\n",
       "  <thead>\n",
       "    <tr style=\"text-align: right;\">\n",
       "      <th></th>\n",
       "      <th>complaint_text_clean</th>\n",
       "      <th>complaint_text_lemmatized</th>\n",
       "      <th>complaint_POS_removed</th>\n",
       "      <th>Complaint_clean</th>\n",
       "    </tr>\n",
       "  </thead>\n",
       "  <tbody>\n",
       "    <tr>\n",
       "      <th>0</th>\n",
       "      <td>good morning my name is   and i appreciate it ...</td>\n",
       "      <td>good morning name xxxx xxxx appreciate could h...</td>\n",
       "      <td>morning name appreciate chase bank service ini...</td>\n",
       "      <td>morning name appreciate chase bank service ini...</td>\n",
       "    </tr>\n",
       "    <tr>\n",
       "      <th>1</th>\n",
       "      <td>i upgraded my   card inand was told by the age...</td>\n",
       "      <td>upgraded xxxx xxxx card inand told agent upgra...</td>\n",
       "      <td>xxxx card inand agent date agent information o...</td>\n",
       "      <td>xxxx card inand agent date agent information o...</td>\n",
       "    </tr>\n",
       "    <tr>\n",
       "      <th>2</th>\n",
       "      <td>chase card was reported onhowever fraudulent a...</td>\n",
       "      <td>chase card reported onhowever fraudulent appli...</td>\n",
       "      <td>chase card application identity consent servic...</td>\n",
       "      <td>chase card application identity consent servic...</td>\n",
       "    </tr>\n",
       "    <tr>\n",
       "      <th>3</th>\n",
       "      <td>onwhile trying to book a     ticket i came acr...</td>\n",
       "      <td>onwhile trying book xxxx xxxx ticket came acro...</td>\n",
       "      <td>book ticket offer forto ticket card informatio...</td>\n",
       "      <td>book ticket offer forto ticket card informatio...</td>\n",
       "    </tr>\n",
       "    <tr>\n",
       "      <th>4</th>\n",
       "      <td>my grand son give me check fori deposit it int...</td>\n",
       "      <td>grand son give check fori deposit chase accoun...</td>\n",
       "      <td>son check deposit chase account fund chase ban...</td>\n",
       "      <td>son check deposit chase account fund chase ban...</td>\n",
       "    </tr>\n",
       "    <tr>\n",
       "      <th>...</th>\n",
       "      <td>...</td>\n",
       "      <td>...</td>\n",
       "      <td>...</td>\n",
       "      <td>...</td>\n",
       "    </tr>\n",
       "    <tr>\n",
       "      <th>21067</th>\n",
       "      <td>after being a chase card customer for well ove...</td>\n",
       "      <td>chase card customer well decade offered multip...</td>\n",
       "      <td>chase card customer decade solicitation credit...</td>\n",
       "      <td>chase card customer decade solicitation credit...</td>\n",
       "    </tr>\n",
       "    <tr>\n",
       "      <th>21068</th>\n",
       "      <td>on wednesday  i called chas my   visa credit c...</td>\n",
       "      <td>wednesday xxxxxxxx called chas xxxx xxxx visa ...</td>\n",
       "      <td>wednesday chas xxxx credit card provider claim...</td>\n",
       "      <td>wednesday chas xxxx credit card provider claim...</td>\n",
       "    </tr>\n",
       "    <tr>\n",
       "      <th>21069</th>\n",
       "      <td>i am not familiar with  pay and did not unders...</td>\n",
       "      <td>familiar xxxx pay understand great risk provid...</td>\n",
       "      <td>pay risk consumer chase bank chase banking dea...</td>\n",
       "      <td>pay risk consumer chase bank chase banking dea...</td>\n",
       "    </tr>\n",
       "    <tr>\n",
       "      <th>21070</th>\n",
       "      <td>i have had flawless credit foryrs ive had chas...</td>\n",
       "      <td>flawless credit foryrs ive chase credit card c...</td>\n",
       "      <td>flawless credit chase credit card chase freedo...</td>\n",
       "      <td>flawless credit chase credit card chase freedo...</td>\n",
       "    </tr>\n",
       "    <tr>\n",
       "      <th>21071</th>\n",
       "      <td>roughlyyears ago i closed out my accounts with...</td>\n",
       "      <td>roughlyyears ago closed account jp morgan chas...</td>\n",
       "      <td>account jp bank order line credit pay account ...</td>\n",
       "      <td>account jp bank order line credit pay account ...</td>\n",
       "    </tr>\n",
       "  </tbody>\n",
       "</table>\n",
       "<p>21072 rows × 4 columns</p>\n",
       "</div>\n",
       "      <button class=\"colab-df-convert\" onclick=\"convertToInteractive('df-ef514c6a-52c8-47b4-91ad-1147610f9371')\"\n",
       "              title=\"Convert this dataframe to an interactive table.\"\n",
       "              style=\"display:none;\">\n",
       "        \n",
       "  <svg xmlns=\"http://www.w3.org/2000/svg\" height=\"24px\"viewBox=\"0 0 24 24\"\n",
       "       width=\"24px\">\n",
       "    <path d=\"M0 0h24v24H0V0z\" fill=\"none\"/>\n",
       "    <path d=\"M18.56 5.44l.94 2.06.94-2.06 2.06-.94-2.06-.94-.94-2.06-.94 2.06-2.06.94zm-11 1L8.5 8.5l.94-2.06 2.06-.94-2.06-.94L8.5 2.5l-.94 2.06-2.06.94zm10 10l.94 2.06.94-2.06 2.06-.94-2.06-.94-.94-2.06-.94 2.06-2.06.94z\"/><path d=\"M17.41 7.96l-1.37-1.37c-.4-.4-.92-.59-1.43-.59-.52 0-1.04.2-1.43.59L10.3 9.45l-7.72 7.72c-.78.78-.78 2.05 0 2.83L4 21.41c.39.39.9.59 1.41.59.51 0 1.02-.2 1.41-.59l7.78-7.78 2.81-2.81c.8-.78.8-2.07 0-2.86zM5.41 20L4 18.59l7.72-7.72 1.47 1.35L5.41 20z\"/>\n",
       "  </svg>\n",
       "      </button>\n",
       "      \n",
       "  <style>\n",
       "    .colab-df-container {\n",
       "      display:flex;\n",
       "      flex-wrap:wrap;\n",
       "      gap: 12px;\n",
       "    }\n",
       "\n",
       "    .colab-df-convert {\n",
       "      background-color: #E8F0FE;\n",
       "      border: none;\n",
       "      border-radius: 50%;\n",
       "      cursor: pointer;\n",
       "      display: none;\n",
       "      fill: #1967D2;\n",
       "      height: 32px;\n",
       "      padding: 0 0 0 0;\n",
       "      width: 32px;\n",
       "    }\n",
       "\n",
       "    .colab-df-convert:hover {\n",
       "      background-color: #E2EBFA;\n",
       "      box-shadow: 0px 1px 2px rgba(60, 64, 67, 0.3), 0px 1px 3px 1px rgba(60, 64, 67, 0.15);\n",
       "      fill: #174EA6;\n",
       "    }\n",
       "\n",
       "    [theme=dark] .colab-df-convert {\n",
       "      background-color: #3B4455;\n",
       "      fill: #D2E3FC;\n",
       "    }\n",
       "\n",
       "    [theme=dark] .colab-df-convert:hover {\n",
       "      background-color: #434B5C;\n",
       "      box-shadow: 0px 1px 3px 1px rgba(0, 0, 0, 0.15);\n",
       "      filter: drop-shadow(0px 1px 2px rgba(0, 0, 0, 0.3));\n",
       "      fill: #FFFFFF;\n",
       "    }\n",
       "  </style>\n",
       "\n",
       "      <script>\n",
       "        const buttonEl =\n",
       "          document.querySelector('#df-ef514c6a-52c8-47b4-91ad-1147610f9371 button.colab-df-convert');\n",
       "        buttonEl.style.display =\n",
       "          google.colab.kernel.accessAllowed ? 'block' : 'none';\n",
       "\n",
       "        async function convertToInteractive(key) {\n",
       "          const element = document.querySelector('#df-ef514c6a-52c8-47b4-91ad-1147610f9371');\n",
       "          const dataTable =\n",
       "            await google.colab.kernel.invokeFunction('convertToInteractive',\n",
       "                                                     [key], {});\n",
       "          if (!dataTable) return;\n",
       "\n",
       "          const docLinkHtml = 'Like what you see? Visit the ' +\n",
       "            '<a target=\"_blank\" href=https://colab.research.google.com/notebooks/data_table.ipynb>data table notebook</a>'\n",
       "            + ' to learn more about interactive tables.';\n",
       "          element.innerHTML = '';\n",
       "          dataTable['output_type'] = 'display_data';\n",
       "          await google.colab.output.renderOutput(dataTable, element);\n",
       "          const docLink = document.createElement('div');\n",
       "          docLink.innerHTML = docLinkHtml;\n",
       "          element.appendChild(docLink);\n",
       "        }\n",
       "      </script>\n",
       "    </div>\n",
       "  </div>\n",
       "  "
      ],
      "text/plain": [
       "                                    complaint_text_clean  \\\n",
       "0      good morning my name is   and i appreciate it ...   \n",
       "1      i upgraded my   card inand was told by the age...   \n",
       "2      chase card was reported onhowever fraudulent a...   \n",
       "3      onwhile trying to book a     ticket i came acr...   \n",
       "4      my grand son give me check fori deposit it int...   \n",
       "...                                                  ...   \n",
       "21067  after being a chase card customer for well ove...   \n",
       "21068  on wednesday  i called chas my   visa credit c...   \n",
       "21069  i am not familiar with  pay and did not unders...   \n",
       "21070  i have had flawless credit foryrs ive had chas...   \n",
       "21071  roughlyyears ago i closed out my accounts with...   \n",
       "\n",
       "                               complaint_text_lemmatized  \\\n",
       "0      good morning name xxxx xxxx appreciate could h...   \n",
       "1      upgraded xxxx xxxx card inand told agent upgra...   \n",
       "2      chase card reported onhowever fraudulent appli...   \n",
       "3      onwhile trying book xxxx xxxx ticket came acro...   \n",
       "4      grand son give check fori deposit chase accoun...   \n",
       "...                                                  ...   \n",
       "21067  chase card customer well decade offered multip...   \n",
       "21068  wednesday xxxxxxxx called chas xxxx xxxx visa ...   \n",
       "21069  familiar xxxx pay understand great risk provid...   \n",
       "21070  flawless credit foryrs ive chase credit card c...   \n",
       "21071  roughlyyears ago closed account jp morgan chas...   \n",
       "\n",
       "                                   complaint_POS_removed  \\\n",
       "0      morning name appreciate chase bank service ini...   \n",
       "1      xxxx card inand agent date agent information o...   \n",
       "2      chase card application identity consent servic...   \n",
       "3      book ticket offer forto ticket card informatio...   \n",
       "4      son check deposit chase account fund chase ban...   \n",
       "...                                                  ...   \n",
       "21067  chase card customer decade solicitation credit...   \n",
       "21068  wednesday chas xxxx credit card provider claim...   \n",
       "21069  pay risk consumer chase bank chase banking dea...   \n",
       "21070  flawless credit chase credit card chase freedo...   \n",
       "21071  account jp bank order line credit pay account ...   \n",
       "\n",
       "                                         Complaint_clean  \n",
       "0      morning name appreciate chase bank service ini...  \n",
       "1      xxxx card inand agent date agent information o...  \n",
       "2      chase card application identity consent servic...  \n",
       "3      book ticket offer forto ticket card informatio...  \n",
       "4      son check deposit chase account fund chase ban...  \n",
       "...                                                  ...  \n",
       "21067  chase card customer decade solicitation credit...  \n",
       "21068  wednesday chas xxxx credit card provider claim...  \n",
       "21069  pay risk consumer chase bank chase banking dea...  \n",
       "21070  flawless credit chase credit card chase freedo...  \n",
       "21071  account jp bank order line credit pay account ...  \n",
       "\n",
       "[21072 rows x 4 columns]"
      ]
     },
     "execution_count": 44,
     "metadata": {},
     "output_type": "execute_result"
    }
   ],
   "source": [
    "#All masked texts has been removed\n",
    "df_clean"
   ]
  },
  {
   "cell_type": "markdown",
   "metadata": {
    "id": "k-I0k0QtJrGA"
   },
   "source": [
    "## Feature Extraction\n",
    "Convert the raw texts to a matrix of TF-IDF features\n",
    "\n",
    "**max_df** is used for removing terms that appear too frequently, also known as \"corpus-specific stop words\"\n",
    "max_df = 0.95 means \"ignore terms that appear in more than 95% of the complaints\"\n",
    "\n",
    "**min_df** is used for removing terms that appear too infrequently\n",
    "min_df = 2 means \"ignore terms that appear in less than 2 complaints\""
   ]
  },
  {
   "cell_type": "code",
   "execution_count": 45,
   "metadata": {
    "executionInfo": {
     "elapsed": 366,
     "status": "ok",
     "timestamp": 1648988714970,
     "user": {
      "displayName": "Jaya Srivastava",
      "userId": "07102034494739188338"
     },
     "user_tz": -330
    },
    "id": "Y8fGwaCPJrGA"
   },
   "outputs": [],
   "source": [
    "#Write your code here to initialise the TfidfVectorizer \n",
    "\n",
    "tfidf_vectorizer = TfidfVectorizer(min_df=2, max_df=0.95, stop_words='english')"
   ]
  },
  {
   "cell_type": "markdown",
   "metadata": {
    "id": "yYzD85nTJrGA"
   },
   "source": [
    "#### Create a document term matrix using fit_transform\n",
    "\n",
    "The contents of a document term matrix are tuples of (complaint_id,token_id) tf-idf score:\n",
    "The tuples that are not there have a tf-idf score of 0"
   ]
  },
  {
   "cell_type": "code",
   "execution_count": 46,
   "metadata": {
    "executionInfo": {
     "elapsed": 3248,
     "status": "ok",
     "timestamp": 1648988723840,
     "user": {
      "displayName": "Jaya Srivastava",
      "userId": "07102034494739188338"
     },
     "user_tz": -330
    },
    "id": "ffzdDpp_JrGB"
   },
   "outputs": [],
   "source": [
    "#Write your code here to create the Document Term Matrix by transforming the complaints column present in df_clean.\n",
    "doc_term_mat = tfidf_vectorizer.fit_transform(df_clean['complaint_text_clean'])"
   ]
  },
  {
   "cell_type": "markdown",
   "metadata": {
    "id": "7Q9lwvNEJrGB"
   },
   "source": [
    "## Topic Modelling using NMF\n",
    "\n",
    "Non-Negative Matrix Factorization (NMF) is an unsupervised technique so there are no labeling of topics that the model will be trained on. The way it works is that, NMF decomposes (or factorizes) high-dimensional vectors into a lower-dimensional representation. These lower-dimensional vectors are non-negative which also means their coefficients are non-negative.\n",
    "\n",
    "In this task you have to perform the following:\n",
    "\n",
    "* Find the best number of clusters \n",
    "* Apply the best number to create word clusters\n",
    "* Inspect & validate the correction of each cluster wrt the complaints \n",
    "* Correct the labels if needed \n",
    "* Map the clusters to topics/cluster names"
   ]
  },
  {
   "cell_type": "markdown",
   "metadata": {
    "id": "0wYR1xUTJrGD"
   },
   "source": [
    "## Manual Topic Modeling\n",
    "You need to do take the trial & error approach to find the best num of topics for your NMF model.\n",
    "\n",
    "The only parameter that is required is the number of components i.e. the number of topics we want. This is the most crucial step in the whole topic modeling process and will greatly affect how good your final topics are."
   ]
  },
  {
   "cell_type": "code",
   "execution_count": 47,
   "metadata": {
    "executionInfo": {
     "elapsed": 368,
     "status": "ok",
     "timestamp": 1648988728739,
     "user": {
      "displayName": "Jaya Srivastava",
      "userId": "07102034494739188338"
     },
     "user_tz": -330
    },
    "id": "sgd2A6bhJrGD"
   },
   "outputs": [],
   "source": [
    "#Load your nmf_model with the n_components i.e 5\n",
    "num_topics = 5 #write the value you want to test out\n",
    "\n",
    "#keep the random_state =40\n",
    "nmf_model = NMF(n_components=num_topics, random_state=40) #write your code here"
   ]
  },
  {
   "cell_type": "code",
   "execution_count": 48,
   "metadata": {
    "executionInfo": {
     "elapsed": 4661,
     "status": "ok",
     "timestamp": 1648988736686,
     "user": {
      "displayName": "Jaya Srivastava",
      "userId": "07102034494739188338"
     },
     "user_tz": -330
    },
    "id": "KtjsT0XFRIvH"
   },
   "outputs": [],
   "source": [
    "doc_topic_mat = nmf_model.fit_transform(doc_term_mat)\n",
    "topic_term_mat = nmf_model.components_"
   ]
  },
  {
   "cell_type": "code",
   "execution_count": 49,
   "metadata": {
    "executionInfo": {
     "elapsed": 12,
     "status": "ok",
     "timestamp": 1648988736686,
     "user": {
      "displayName": "Jaya Srivastava",
      "userId": "07102034494739188338"
     },
     "user_tz": -330
    },
    "id": "9SbF7MTCCQgo"
   },
   "outputs": [],
   "source": [
    "features = np.array(tfidf_vectorizer.get_feature_names())"
   ]
  },
  {
   "cell_type": "code",
   "execution_count": 50,
   "metadata": {
    "colab": {
     "base_uri": "https://localhost:8080/",
     "height": 206
    },
    "executionInfo": {
     "elapsed": 4,
     "status": "ok",
     "timestamp": 1648988740081,
     "user": {
      "displayName": "Jaya Srivastava",
      "userId": "07102034494739188338"
     },
     "user_tz": -330
    },
    "id": "r4kOGczARJmA",
    "outputId": "05e35957-7b52-4e02-927b-fa015b794f9f"
   },
   "outputs": [
    {
     "data": {
      "text/html": [
       "\n",
       "  <div id=\"df-fc270265-582a-479f-b02a-e766e3f707b8\">\n",
       "    <div class=\"colab-df-container\">\n",
       "      <div>\n",
       "<style scoped>\n",
       "    .dataframe tbody tr th:only-of-type {\n",
       "        vertical-align: middle;\n",
       "    }\n",
       "\n",
       "    .dataframe tbody tr th {\n",
       "        vertical-align: top;\n",
       "    }\n",
       "\n",
       "    .dataframe thead th {\n",
       "        text-align: right;\n",
       "    }\n",
       "</style>\n",
       "<table border=\"1\" class=\"dataframe\">\n",
       "  <thead>\n",
       "    <tr style=\"text-align: right;\">\n",
       "      <th></th>\n",
       "      <th>Word #0</th>\n",
       "      <th>Word #1</th>\n",
       "      <th>Word #2</th>\n",
       "      <th>Word #3</th>\n",
       "      <th>Word #4</th>\n",
       "      <th>Word #5</th>\n",
       "      <th>Word #6</th>\n",
       "      <th>Word #7</th>\n",
       "      <th>Word #8</th>\n",
       "      <th>Word #9</th>\n",
       "      <th>Word #10</th>\n",
       "      <th>Word #11</th>\n",
       "      <th>Word #12</th>\n",
       "      <th>Word #13</th>\n",
       "      <th>Word #14</th>\n",
       "    </tr>\n",
       "  </thead>\n",
       "  <tbody>\n",
       "    <tr>\n",
       "      <th>Topic #0</th>\n",
       "      <td>card</td>\n",
       "      <td>chase</td>\n",
       "      <td>charges</td>\n",
       "      <td>charge</td>\n",
       "      <td>dispute</td>\n",
       "      <td>called</td>\n",
       "      <td>fraud</td>\n",
       "      <td>received</td>\n",
       "      <td>did</td>\n",
       "      <td>told</td>\n",
       "      <td>merchant</td>\n",
       "      <td>claim</td>\n",
       "      <td>transaction</td>\n",
       "      <td>said</td>\n",
       "      <td>refund</td>\n",
       "    </tr>\n",
       "    <tr>\n",
       "      <th>Topic #1</th>\n",
       "      <td>credit</td>\n",
       "      <td>card</td>\n",
       "      <td>report</td>\n",
       "      <td>inquiry</td>\n",
       "      <td>chase</td>\n",
       "      <td>inquiries</td>\n",
       "      <td>hard</td>\n",
       "      <td>cards</td>\n",
       "      <td>reporting</td>\n",
       "      <td>score</td>\n",
       "      <td>accounts</td>\n",
       "      <td>account</td>\n",
       "      <td>removed</td>\n",
       "      <td>debt</td>\n",
       "      <td>closed</td>\n",
       "    </tr>\n",
       "    <tr>\n",
       "      <th>Topic #2</th>\n",
       "      <td>loan</td>\n",
       "      <td>mortgage</td>\n",
       "      <td>chase</td>\n",
       "      <td>home</td>\n",
       "      <td>modification</td>\n",
       "      <td>property</td>\n",
       "      <td>foreclosure</td>\n",
       "      <td>payments</td>\n",
       "      <td>house</td>\n",
       "      <td>jp</td>\n",
       "      <td>morgan</td>\n",
       "      <td>sale</td>\n",
       "      <td>bank</td>\n",
       "      <td>rate</td>\n",
       "      <td>letter</td>\n",
       "    </tr>\n",
       "    <tr>\n",
       "      <th>Topic #3</th>\n",
       "      <td>account</td>\n",
       "      <td>bank</td>\n",
       "      <td>check</td>\n",
       "      <td>chase</td>\n",
       "      <td>money</td>\n",
       "      <td>funds</td>\n",
       "      <td>checking</td>\n",
       "      <td>closed</td>\n",
       "      <td>deposit</td>\n",
       "      <td>branch</td>\n",
       "      <td>told</td>\n",
       "      <td>accounts</td>\n",
       "      <td>deposited</td>\n",
       "      <td>said</td>\n",
       "      <td>called</td>\n",
       "    </tr>\n",
       "    <tr>\n",
       "      <th>Topic #4</th>\n",
       "      <td>payment</td>\n",
       "      <td>late</td>\n",
       "      <td>payments</td>\n",
       "      <td>balance</td>\n",
       "      <td>paid</td>\n",
       "      <td>pay</td>\n",
       "      <td>fees</td>\n",
       "      <td>month</td>\n",
       "      <td>fee</td>\n",
       "      <td>statement</td>\n",
       "      <td>make</td>\n",
       "      <td>chase</td>\n",
       "      <td>monthly</td>\n",
       "      <td>account</td>\n",
       "      <td>charged</td>\n",
       "    </tr>\n",
       "  </tbody>\n",
       "</table>\n",
       "</div>\n",
       "      <button class=\"colab-df-convert\" onclick=\"convertToInteractive('df-fc270265-582a-479f-b02a-e766e3f707b8')\"\n",
       "              title=\"Convert this dataframe to an interactive table.\"\n",
       "              style=\"display:none;\">\n",
       "        \n",
       "  <svg xmlns=\"http://www.w3.org/2000/svg\" height=\"24px\"viewBox=\"0 0 24 24\"\n",
       "       width=\"24px\">\n",
       "    <path d=\"M0 0h24v24H0V0z\" fill=\"none\"/>\n",
       "    <path d=\"M18.56 5.44l.94 2.06.94-2.06 2.06-.94-2.06-.94-.94-2.06-.94 2.06-2.06.94zm-11 1L8.5 8.5l.94-2.06 2.06-.94-2.06-.94L8.5 2.5l-.94 2.06-2.06.94zm10 10l.94 2.06.94-2.06 2.06-.94-2.06-.94-.94-2.06-.94 2.06-2.06.94z\"/><path d=\"M17.41 7.96l-1.37-1.37c-.4-.4-.92-.59-1.43-.59-.52 0-1.04.2-1.43.59L10.3 9.45l-7.72 7.72c-.78.78-.78 2.05 0 2.83L4 21.41c.39.39.9.59 1.41.59.51 0 1.02-.2 1.41-.59l7.78-7.78 2.81-2.81c.8-.78.8-2.07 0-2.86zM5.41 20L4 18.59l7.72-7.72 1.47 1.35L5.41 20z\"/>\n",
       "  </svg>\n",
       "      </button>\n",
       "      \n",
       "  <style>\n",
       "    .colab-df-container {\n",
       "      display:flex;\n",
       "      flex-wrap:wrap;\n",
       "      gap: 12px;\n",
       "    }\n",
       "\n",
       "    .colab-df-convert {\n",
       "      background-color: #E8F0FE;\n",
       "      border: none;\n",
       "      border-radius: 50%;\n",
       "      cursor: pointer;\n",
       "      display: none;\n",
       "      fill: #1967D2;\n",
       "      height: 32px;\n",
       "      padding: 0 0 0 0;\n",
       "      width: 32px;\n",
       "    }\n",
       "\n",
       "    .colab-df-convert:hover {\n",
       "      background-color: #E2EBFA;\n",
       "      box-shadow: 0px 1px 2px rgba(60, 64, 67, 0.3), 0px 1px 3px 1px rgba(60, 64, 67, 0.15);\n",
       "      fill: #174EA6;\n",
       "    }\n",
       "\n",
       "    [theme=dark] .colab-df-convert {\n",
       "      background-color: #3B4455;\n",
       "      fill: #D2E3FC;\n",
       "    }\n",
       "\n",
       "    [theme=dark] .colab-df-convert:hover {\n",
       "      background-color: #434B5C;\n",
       "      box-shadow: 0px 1px 3px 1px rgba(0, 0, 0, 0.15);\n",
       "      filter: drop-shadow(0px 1px 2px rgba(0, 0, 0, 0.3));\n",
       "      fill: #FFFFFF;\n",
       "    }\n",
       "  </style>\n",
       "\n",
       "      <script>\n",
       "        const buttonEl =\n",
       "          document.querySelector('#df-fc270265-582a-479f-b02a-e766e3f707b8 button.colab-df-convert');\n",
       "        buttonEl.style.display =\n",
       "          google.colab.kernel.accessAllowed ? 'block' : 'none';\n",
       "\n",
       "        async function convertToInteractive(key) {\n",
       "          const element = document.querySelector('#df-fc270265-582a-479f-b02a-e766e3f707b8');\n",
       "          const dataTable =\n",
       "            await google.colab.kernel.invokeFunction('convertToInteractive',\n",
       "                                                     [key], {});\n",
       "          if (!dataTable) return;\n",
       "\n",
       "          const docLinkHtml = 'Like what you see? Visit the ' +\n",
       "            '<a target=\"_blank\" href=https://colab.research.google.com/notebooks/data_table.ipynb>data table notebook</a>'\n",
       "            + ' to learn more about interactive tables.';\n",
       "          element.innerHTML = '';\n",
       "          dataTable['output_type'] = 'display_data';\n",
       "          await google.colab.output.renderOutput(dataTable, element);\n",
       "          const docLink = document.createElement('div');\n",
       "          docLink.innerHTML = docLinkHtml;\n",
       "          element.appendChild(docLink);\n",
       "        }\n",
       "      </script>\n",
       "    </div>\n",
       "  </div>\n",
       "  "
      ],
      "text/plain": [
       "          Word #0   Word #1   Word #2  Word #3       Word #4    Word #5  \\\n",
       "Topic #0     card     chase   charges   charge       dispute     called   \n",
       "Topic #1   credit      card    report  inquiry         chase  inquiries   \n",
       "Topic #2     loan  mortgage     chase     home  modification   property   \n",
       "Topic #3  account      bank     check    chase         money      funds   \n",
       "Topic #4  payment      late  payments  balance          paid        pay   \n",
       "\n",
       "              Word #6   Word #7    Word #8    Word #9  Word #10  Word #11  \\\n",
       "Topic #0        fraud  received        did       told  merchant     claim   \n",
       "Topic #1         hard     cards  reporting      score  accounts   account   \n",
       "Topic #2  foreclosure  payments      house         jp    morgan      sale   \n",
       "Topic #3     checking    closed    deposit     branch      told  accounts   \n",
       "Topic #4         fees     month        fee  statement      make     chase   \n",
       "\n",
       "             Word #12 Word #13 Word #14  \n",
       "Topic #0  transaction     said   refund  \n",
       "Topic #1      removed     debt   closed  \n",
       "Topic #2         bank     rate   letter  \n",
       "Topic #3    deposited     said   called  \n",
       "Topic #4      monthly  account  charged  "
      ]
     },
     "execution_count": 50,
     "metadata": {},
     "output_type": "execute_result"
    }
   ],
   "source": [
    "#Print the Top15 words for each of the topics\n",
    "topic_words = pd.DataFrame(np.zeros((num_topics, 15)), \n",
    "                           index=[f'Topic #{i}' for i in range(num_topics)],\n",
    "                           columns=[f'Word #{i}' for i in range(15)]).astype(str)\n",
    "for i in range(num_topics):\n",
    "    ix = topic_term_mat[i].argsort()[::-1][:15]\n",
    "    topic_words.iloc[i] = features[ix]\n",
    "\n",
    "topic_words"
   ]
  },
  {
   "cell_type": "code",
   "execution_count": 51,
   "metadata": {
    "colab": {
     "base_uri": "https://localhost:8080/",
     "height": 423
    },
    "executionInfo": {
     "elapsed": 366,
     "status": "ok",
     "timestamp": 1648988743849,
     "user": {
      "displayName": "Jaya Srivastava",
      "userId": "07102034494739188338"
     },
     "user_tz": -330
    },
    "id": "LABeoUq3RKpZ",
    "outputId": "12a6e5d3-74cd-42c1-ef3f-c1fae01eb14e"
   },
   "outputs": [
    {
     "data": {
      "text/html": [
       "\n",
       "  <div id=\"df-df3bdcc6-c046-488a-a765-4bf35a9d6dcf\">\n",
       "    <div class=\"colab-df-container\">\n",
       "      <div>\n",
       "<style scoped>\n",
       "    .dataframe tbody tr th:only-of-type {\n",
       "        vertical-align: middle;\n",
       "    }\n",
       "\n",
       "    .dataframe tbody tr th {\n",
       "        vertical-align: top;\n",
       "    }\n",
       "\n",
       "    .dataframe thead th {\n",
       "        text-align: right;\n",
       "    }\n",
       "</style>\n",
       "<table border=\"1\" class=\"dataframe\">\n",
       "  <thead>\n",
       "    <tr style=\"text-align: right;\">\n",
       "      <th></th>\n",
       "      <th>Topic #0</th>\n",
       "      <th>Topic #1</th>\n",
       "      <th>Topic #2</th>\n",
       "      <th>Topic #3</th>\n",
       "      <th>Topic #4</th>\n",
       "    </tr>\n",
       "  </thead>\n",
       "  <tbody>\n",
       "    <tr>\n",
       "      <th>Doc #0</th>\n",
       "      <td>0.008219</td>\n",
       "      <td>0.011507</td>\n",
       "      <td>0.026184</td>\n",
       "      <td>0.022119</td>\n",
       "      <td>0.006132</td>\n",
       "    </tr>\n",
       "    <tr>\n",
       "      <th>Doc #1</th>\n",
       "      <td>0.012503</td>\n",
       "      <td>0.004840</td>\n",
       "      <td>0.002031</td>\n",
       "      <td>0.005779</td>\n",
       "      <td>0.003308</td>\n",
       "    </tr>\n",
       "    <tr>\n",
       "      <th>Doc #2</th>\n",
       "      <td>0.010066</td>\n",
       "      <td>0.039680</td>\n",
       "      <td>0.000561</td>\n",
       "      <td>0.000000</td>\n",
       "      <td>0.000000</td>\n",
       "    </tr>\n",
       "    <tr>\n",
       "      <th>Doc #3</th>\n",
       "      <td>0.023340</td>\n",
       "      <td>0.045064</td>\n",
       "      <td>0.016761</td>\n",
       "      <td>0.017566</td>\n",
       "      <td>0.000000</td>\n",
       "    </tr>\n",
       "    <tr>\n",
       "      <th>Doc #4</th>\n",
       "      <td>0.003084</td>\n",
       "      <td>0.000000</td>\n",
       "      <td>0.002146</td>\n",
       "      <td>0.061016</td>\n",
       "      <td>0.001425</td>\n",
       "    </tr>\n",
       "    <tr>\n",
       "      <th>...</th>\n",
       "      <td>...</td>\n",
       "      <td>...</td>\n",
       "      <td>...</td>\n",
       "      <td>...</td>\n",
       "      <td>...</td>\n",
       "    </tr>\n",
       "    <tr>\n",
       "      <th>Doc #21067</th>\n",
       "      <td>0.020345</td>\n",
       "      <td>0.053581</td>\n",
       "      <td>0.000000</td>\n",
       "      <td>0.000000</td>\n",
       "      <td>0.021405</td>\n",
       "    </tr>\n",
       "    <tr>\n",
       "      <th>Doc #21068</th>\n",
       "      <td>0.044583</td>\n",
       "      <td>0.001543</td>\n",
       "      <td>0.003677</td>\n",
       "      <td>0.002498</td>\n",
       "      <td>0.000670</td>\n",
       "    </tr>\n",
       "    <tr>\n",
       "      <th>Doc #21069</th>\n",
       "      <td>0.024307</td>\n",
       "      <td>0.007219</td>\n",
       "      <td>0.005972</td>\n",
       "      <td>0.015861</td>\n",
       "      <td>0.000000</td>\n",
       "    </tr>\n",
       "    <tr>\n",
       "      <th>Doc #21070</th>\n",
       "      <td>0.022100</td>\n",
       "      <td>0.020156</td>\n",
       "      <td>0.002780</td>\n",
       "      <td>0.000000</td>\n",
       "      <td>0.089208</td>\n",
       "    </tr>\n",
       "    <tr>\n",
       "      <th>Doc #21071</th>\n",
       "      <td>0.001140</td>\n",
       "      <td>0.029896</td>\n",
       "      <td>0.004715</td>\n",
       "      <td>0.025445</td>\n",
       "      <td>0.075203</td>\n",
       "    </tr>\n",
       "  </tbody>\n",
       "</table>\n",
       "<p>21072 rows × 5 columns</p>\n",
       "</div>\n",
       "      <button class=\"colab-df-convert\" onclick=\"convertToInteractive('df-df3bdcc6-c046-488a-a765-4bf35a9d6dcf')\"\n",
       "              title=\"Convert this dataframe to an interactive table.\"\n",
       "              style=\"display:none;\">\n",
       "        \n",
       "  <svg xmlns=\"http://www.w3.org/2000/svg\" height=\"24px\"viewBox=\"0 0 24 24\"\n",
       "       width=\"24px\">\n",
       "    <path d=\"M0 0h24v24H0V0z\" fill=\"none\"/>\n",
       "    <path d=\"M18.56 5.44l.94 2.06.94-2.06 2.06-.94-2.06-.94-.94-2.06-.94 2.06-2.06.94zm-11 1L8.5 8.5l.94-2.06 2.06-.94-2.06-.94L8.5 2.5l-.94 2.06-2.06.94zm10 10l.94 2.06.94-2.06 2.06-.94-2.06-.94-.94-2.06-.94 2.06-2.06.94z\"/><path d=\"M17.41 7.96l-1.37-1.37c-.4-.4-.92-.59-1.43-.59-.52 0-1.04.2-1.43.59L10.3 9.45l-7.72 7.72c-.78.78-.78 2.05 0 2.83L4 21.41c.39.39.9.59 1.41.59.51 0 1.02-.2 1.41-.59l7.78-7.78 2.81-2.81c.8-.78.8-2.07 0-2.86zM5.41 20L4 18.59l7.72-7.72 1.47 1.35L5.41 20z\"/>\n",
       "  </svg>\n",
       "      </button>\n",
       "      \n",
       "  <style>\n",
       "    .colab-df-container {\n",
       "      display:flex;\n",
       "      flex-wrap:wrap;\n",
       "      gap: 12px;\n",
       "    }\n",
       "\n",
       "    .colab-df-convert {\n",
       "      background-color: #E8F0FE;\n",
       "      border: none;\n",
       "      border-radius: 50%;\n",
       "      cursor: pointer;\n",
       "      display: none;\n",
       "      fill: #1967D2;\n",
       "      height: 32px;\n",
       "      padding: 0 0 0 0;\n",
       "      width: 32px;\n",
       "    }\n",
       "\n",
       "    .colab-df-convert:hover {\n",
       "      background-color: #E2EBFA;\n",
       "      box-shadow: 0px 1px 2px rgba(60, 64, 67, 0.3), 0px 1px 3px 1px rgba(60, 64, 67, 0.15);\n",
       "      fill: #174EA6;\n",
       "    }\n",
       "\n",
       "    [theme=dark] .colab-df-convert {\n",
       "      background-color: #3B4455;\n",
       "      fill: #D2E3FC;\n",
       "    }\n",
       "\n",
       "    [theme=dark] .colab-df-convert:hover {\n",
       "      background-color: #434B5C;\n",
       "      box-shadow: 0px 1px 3px 1px rgba(0, 0, 0, 0.15);\n",
       "      filter: drop-shadow(0px 1px 2px rgba(0, 0, 0, 0.3));\n",
       "      fill: #FFFFFF;\n",
       "    }\n",
       "  </style>\n",
       "\n",
       "      <script>\n",
       "        const buttonEl =\n",
       "          document.querySelector('#df-df3bdcc6-c046-488a-a765-4bf35a9d6dcf button.colab-df-convert');\n",
       "        buttonEl.style.display =\n",
       "          google.colab.kernel.accessAllowed ? 'block' : 'none';\n",
       "\n",
       "        async function convertToInteractive(key) {\n",
       "          const element = document.querySelector('#df-df3bdcc6-c046-488a-a765-4bf35a9d6dcf');\n",
       "          const dataTable =\n",
       "            await google.colab.kernel.invokeFunction('convertToInteractive',\n",
       "                                                     [key], {});\n",
       "          if (!dataTable) return;\n",
       "\n",
       "          const docLinkHtml = 'Like what you see? Visit the ' +\n",
       "            '<a target=\"_blank\" href=https://colab.research.google.com/notebooks/data_table.ipynb>data table notebook</a>'\n",
       "            + ' to learn more about interactive tables.';\n",
       "          element.innerHTML = '';\n",
       "          dataTable['output_type'] = 'display_data';\n",
       "          await google.colab.output.renderOutput(dataTable, element);\n",
       "          const docLink = document.createElement('div');\n",
       "          docLink.innerHTML = docLinkHtml;\n",
       "          element.appendChild(docLink);\n",
       "        }\n",
       "      </script>\n",
       "    </div>\n",
       "  </div>\n",
       "  "
      ],
      "text/plain": [
       "            Topic #0  Topic #1  Topic #2  Topic #3  Topic #4\n",
       "Doc #0      0.008219  0.011507  0.026184  0.022119  0.006132\n",
       "Doc #1      0.012503  0.004840  0.002031  0.005779  0.003308\n",
       "Doc #2      0.010066  0.039680  0.000561  0.000000  0.000000\n",
       "Doc #3      0.023340  0.045064  0.016761  0.017566  0.000000\n",
       "Doc #4      0.003084  0.000000  0.002146  0.061016  0.001425\n",
       "...              ...       ...       ...       ...       ...\n",
       "Doc #21067  0.020345  0.053581  0.000000  0.000000  0.021405\n",
       "Doc #21068  0.044583  0.001543  0.003677  0.002498  0.000670\n",
       "Doc #21069  0.024307  0.007219  0.005972  0.015861  0.000000\n",
       "Doc #21070  0.022100  0.020156  0.002780  0.000000  0.089208\n",
       "Doc #21071  0.001140  0.029896  0.004715  0.025445  0.075203\n",
       "\n",
       "[21072 rows x 5 columns]"
      ]
     },
     "execution_count": 51,
     "metadata": {},
     "output_type": "execute_result"
    }
   ],
   "source": [
    "#Create the best topic for each complaint in terms of integer value 0,1,2,3 & 4\n",
    "pd.DataFrame(doc_topic_mat, \n",
    "             index=[f'Doc #{i}' for i in range(doc_topic_mat.shape[0])],\n",
    "             columns=[f'Topic #{i}' for i in range(num_topics)])"
   ]
  },
  {
   "cell_type": "code",
   "execution_count": 52,
   "metadata": {
    "colab": {
     "base_uri": "https://localhost:8080/"
    },
    "executionInfo": {
     "elapsed": 357,
     "status": "ok",
     "timestamp": 1648988747984,
     "user": {
      "displayName": "Jaya Srivastava",
      "userId": "07102034494739188338"
     },
     "user_tz": -330
    },
    "id": "YTV_RsmcRL9Y",
    "outputId": "ccc6f716-e11c-47ff-fcce-4156846cd9c5"
   },
   "outputs": [
    {
     "name": "stderr",
     "output_type": "stream",
     "text": [
      "/usr/local/lib/python3.7/dist-packages/ipykernel_launcher.py:4: SettingWithCopyWarning:\n",
      "\n",
      "\n",
      "A value is trying to be set on a copy of a slice from a DataFrame.\n",
      "Try using .loc[row_indexer,col_indexer] = value instead\n",
      "\n",
      "See the caveats in the documentation: https://pandas.pydata.org/pandas-docs/stable/user_guide/indexing.html#returning-a-view-versus-a-copy\n",
      "\n"
     ]
    }
   ],
   "source": [
    "#Assign the best topic to each of the cmplaints in Topic Column\n",
    "\n",
    "#write your code to assign topics to each rows.\n",
    "df_clean['Topic'] = doc_topic_mat.argmax(axis=1)"
   ]
  },
  {
   "cell_type": "code",
   "execution_count": 53,
   "metadata": {
    "colab": {
     "base_uri": "https://localhost:8080/",
     "height": 206
    },
    "executionInfo": {
     "elapsed": 413,
     "status": "ok",
     "timestamp": 1648988752237,
     "user": {
      "displayName": "Jaya Srivastava",
      "userId": "07102034494739188338"
     },
     "user_tz": -330
    },
    "id": "KZoUti9dRM_D",
    "outputId": "f3028bbc-84a7-45a3-d71c-c0c78e208e67"
   },
   "outputs": [
    {
     "data": {
      "text/html": [
       "\n",
       "  <div id=\"df-8bfea998-8b1d-4bf6-b9e0-b0200644199d\">\n",
       "    <div class=\"colab-df-container\">\n",
       "      <div>\n",
       "<style scoped>\n",
       "    .dataframe tbody tr th:only-of-type {\n",
       "        vertical-align: middle;\n",
       "    }\n",
       "\n",
       "    .dataframe tbody tr th {\n",
       "        vertical-align: top;\n",
       "    }\n",
       "\n",
       "    .dataframe thead th {\n",
       "        text-align: right;\n",
       "    }\n",
       "</style>\n",
       "<table border=\"1\" class=\"dataframe\">\n",
       "  <thead>\n",
       "    <tr style=\"text-align: right;\">\n",
       "      <th></th>\n",
       "      <th>complaint_text_clean</th>\n",
       "      <th>complaint_text_lemmatized</th>\n",
       "      <th>complaint_POS_removed</th>\n",
       "      <th>Complaint_clean</th>\n",
       "      <th>Topic</th>\n",
       "    </tr>\n",
       "  </thead>\n",
       "  <tbody>\n",
       "    <tr>\n",
       "      <th>0</th>\n",
       "      <td>good morning my name is   and i appreciate it ...</td>\n",
       "      <td>good morning name xxxx xxxx appreciate could h...</td>\n",
       "      <td>morning name appreciate chase bank service ini...</td>\n",
       "      <td>morning name appreciate chase bank service ini...</td>\n",
       "      <td>2</td>\n",
       "    </tr>\n",
       "    <tr>\n",
       "      <th>1</th>\n",
       "      <td>i upgraded my   card inand was told by the age...</td>\n",
       "      <td>upgraded xxxx xxxx card inand told agent upgra...</td>\n",
       "      <td>xxxx card inand agent date agent information o...</td>\n",
       "      <td>xxxx card inand agent date agent information o...</td>\n",
       "      <td>0</td>\n",
       "    </tr>\n",
       "    <tr>\n",
       "      <th>2</th>\n",
       "      <td>chase card was reported onhowever fraudulent a...</td>\n",
       "      <td>chase card reported onhowever fraudulent appli...</td>\n",
       "      <td>chase card application identity consent servic...</td>\n",
       "      <td>chase card application identity consent servic...</td>\n",
       "      <td>1</td>\n",
       "    </tr>\n",
       "    <tr>\n",
       "      <th>3</th>\n",
       "      <td>onwhile trying to book a     ticket i came acr...</td>\n",
       "      <td>onwhile trying book xxxx xxxx ticket came acro...</td>\n",
       "      <td>book ticket offer forto ticket card informatio...</td>\n",
       "      <td>book ticket offer forto ticket card informatio...</td>\n",
       "      <td>1</td>\n",
       "    </tr>\n",
       "    <tr>\n",
       "      <th>4</th>\n",
       "      <td>my grand son give me check fori deposit it int...</td>\n",
       "      <td>grand son give check fori deposit chase accoun...</td>\n",
       "      <td>son check deposit chase account fund chase ban...</td>\n",
       "      <td>son check deposit chase account fund chase ban...</td>\n",
       "      <td>3</td>\n",
       "    </tr>\n",
       "  </tbody>\n",
       "</table>\n",
       "</div>\n",
       "      <button class=\"colab-df-convert\" onclick=\"convertToInteractive('df-8bfea998-8b1d-4bf6-b9e0-b0200644199d')\"\n",
       "              title=\"Convert this dataframe to an interactive table.\"\n",
       "              style=\"display:none;\">\n",
       "        \n",
       "  <svg xmlns=\"http://www.w3.org/2000/svg\" height=\"24px\"viewBox=\"0 0 24 24\"\n",
       "       width=\"24px\">\n",
       "    <path d=\"M0 0h24v24H0V0z\" fill=\"none\"/>\n",
       "    <path d=\"M18.56 5.44l.94 2.06.94-2.06 2.06-.94-2.06-.94-.94-2.06-.94 2.06-2.06.94zm-11 1L8.5 8.5l.94-2.06 2.06-.94-2.06-.94L8.5 2.5l-.94 2.06-2.06.94zm10 10l.94 2.06.94-2.06 2.06-.94-2.06-.94-.94-2.06-.94 2.06-2.06.94z\"/><path d=\"M17.41 7.96l-1.37-1.37c-.4-.4-.92-.59-1.43-.59-.52 0-1.04.2-1.43.59L10.3 9.45l-7.72 7.72c-.78.78-.78 2.05 0 2.83L4 21.41c.39.39.9.59 1.41.59.51 0 1.02-.2 1.41-.59l7.78-7.78 2.81-2.81c.8-.78.8-2.07 0-2.86zM5.41 20L4 18.59l7.72-7.72 1.47 1.35L5.41 20z\"/>\n",
       "  </svg>\n",
       "      </button>\n",
       "      \n",
       "  <style>\n",
       "    .colab-df-container {\n",
       "      display:flex;\n",
       "      flex-wrap:wrap;\n",
       "      gap: 12px;\n",
       "    }\n",
       "\n",
       "    .colab-df-convert {\n",
       "      background-color: #E8F0FE;\n",
       "      border: none;\n",
       "      border-radius: 50%;\n",
       "      cursor: pointer;\n",
       "      display: none;\n",
       "      fill: #1967D2;\n",
       "      height: 32px;\n",
       "      padding: 0 0 0 0;\n",
       "      width: 32px;\n",
       "    }\n",
       "\n",
       "    .colab-df-convert:hover {\n",
       "      background-color: #E2EBFA;\n",
       "      box-shadow: 0px 1px 2px rgba(60, 64, 67, 0.3), 0px 1px 3px 1px rgba(60, 64, 67, 0.15);\n",
       "      fill: #174EA6;\n",
       "    }\n",
       "\n",
       "    [theme=dark] .colab-df-convert {\n",
       "      background-color: #3B4455;\n",
       "      fill: #D2E3FC;\n",
       "    }\n",
       "\n",
       "    [theme=dark] .colab-df-convert:hover {\n",
       "      background-color: #434B5C;\n",
       "      box-shadow: 0px 1px 3px 1px rgba(0, 0, 0, 0.15);\n",
       "      filter: drop-shadow(0px 1px 2px rgba(0, 0, 0, 0.3));\n",
       "      fill: #FFFFFF;\n",
       "    }\n",
       "  </style>\n",
       "\n",
       "      <script>\n",
       "        const buttonEl =\n",
       "          document.querySelector('#df-8bfea998-8b1d-4bf6-b9e0-b0200644199d button.colab-df-convert');\n",
       "        buttonEl.style.display =\n",
       "          google.colab.kernel.accessAllowed ? 'block' : 'none';\n",
       "\n",
       "        async function convertToInteractive(key) {\n",
       "          const element = document.querySelector('#df-8bfea998-8b1d-4bf6-b9e0-b0200644199d');\n",
       "          const dataTable =\n",
       "            await google.colab.kernel.invokeFunction('convertToInteractive',\n",
       "                                                     [key], {});\n",
       "          if (!dataTable) return;\n",
       "\n",
       "          const docLinkHtml = 'Like what you see? Visit the ' +\n",
       "            '<a target=\"_blank\" href=https://colab.research.google.com/notebooks/data_table.ipynb>data table notebook</a>'\n",
       "            + ' to learn more about interactive tables.';\n",
       "          element.innerHTML = '';\n",
       "          dataTable['output_type'] = 'display_data';\n",
       "          await google.colab.output.renderOutput(dataTable, element);\n",
       "          const docLink = document.createElement('div');\n",
       "          docLink.innerHTML = docLinkHtml;\n",
       "          element.appendChild(docLink);\n",
       "        }\n",
       "      </script>\n",
       "    </div>\n",
       "  </div>\n",
       "  "
      ],
      "text/plain": [
       "                                complaint_text_clean  \\\n",
       "0  good morning my name is   and i appreciate it ...   \n",
       "1  i upgraded my   card inand was told by the age...   \n",
       "2  chase card was reported onhowever fraudulent a...   \n",
       "3  onwhile trying to book a     ticket i came acr...   \n",
       "4  my grand son give me check fori deposit it int...   \n",
       "\n",
       "                           complaint_text_lemmatized  \\\n",
       "0  good morning name xxxx xxxx appreciate could h...   \n",
       "1  upgraded xxxx xxxx card inand told agent upgra...   \n",
       "2  chase card reported onhowever fraudulent appli...   \n",
       "3  onwhile trying book xxxx xxxx ticket came acro...   \n",
       "4  grand son give check fori deposit chase accoun...   \n",
       "\n",
       "                               complaint_POS_removed  \\\n",
       "0  morning name appreciate chase bank service ini...   \n",
       "1  xxxx card inand agent date agent information o...   \n",
       "2  chase card application identity consent servic...   \n",
       "3  book ticket offer forto ticket card informatio...   \n",
       "4  son check deposit chase account fund chase ban...   \n",
       "\n",
       "                                     Complaint_clean  Topic  \n",
       "0  morning name appreciate chase bank service ini...      2  \n",
       "1  xxxx card inand agent date agent information o...      0  \n",
       "2  chase card application identity consent servic...      1  \n",
       "3  book ticket offer forto ticket card informatio...      1  \n",
       "4  son check deposit chase account fund chase ban...      3  "
      ]
     },
     "execution_count": 53,
     "metadata": {},
     "output_type": "execute_result"
    }
   ],
   "source": [
    "df_clean.head()"
   ]
  },
  {
   "cell_type": "code",
   "execution_count": 54,
   "metadata": {
    "colab": {
     "base_uri": "https://localhost:8080/",
     "height": 833
    },
    "executionInfo": {
     "elapsed": 382,
     "status": "ok",
     "timestamp": 1648988756501,
     "user": {
      "displayName": "Jaya Srivastava",
      "userId": "07102034494739188338"
     },
     "user_tz": -330
    },
    "id": "xaCWDw7rRN2N",
    "outputId": "53e0bd5a-a106-40c8-e41e-a9c5122471e1"
   },
   "outputs": [
    {
     "data": {
      "text/html": [
       "\n",
       "  <div id=\"df-b7d128c9-5463-4676-940a-a36471830262\">\n",
       "    <div class=\"colab-df-container\">\n",
       "      <div>\n",
       "<style scoped>\n",
       "    .dataframe tbody tr th:only-of-type {\n",
       "        vertical-align: middle;\n",
       "    }\n",
       "\n",
       "    .dataframe tbody tr th {\n",
       "        vertical-align: top;\n",
       "    }\n",
       "\n",
       "    .dataframe thead th {\n",
       "        text-align: right;\n",
       "    }\n",
       "</style>\n",
       "<table border=\"1\" class=\"dataframe\">\n",
       "  <thead>\n",
       "    <tr style=\"text-align: right;\">\n",
       "      <th></th>\n",
       "      <th>complaint_text_clean</th>\n",
       "      <th>complaint_text_lemmatized</th>\n",
       "      <th>complaint_POS_removed</th>\n",
       "      <th>Complaint_clean</th>\n",
       "      <th>Topic</th>\n",
       "    </tr>\n",
       "  </thead>\n",
       "  <tbody>\n",
       "    <tr>\n",
       "      <th>1</th>\n",
       "      <td>i upgraded my   card inand was told by the age...</td>\n",
       "      <td>upgraded xxxx xxxx card inand told agent upgra...</td>\n",
       "      <td>xxxx card inand agent date agent information o...</td>\n",
       "      <td>xxxx card inand agent date agent information o...</td>\n",
       "      <td>0</td>\n",
       "    </tr>\n",
       "    <tr>\n",
       "      <th>8</th>\n",
       "      <td>on i made apayment to an online retailer using...</td>\n",
       "      <td>xxxxi made apayment online retailer using chas...</td>\n",
       "      <td>xxxxi retailer pay chase website confirmation ...</td>\n",
       "      <td>xxxxi retailer pay chase website confirmation ...</td>\n",
       "      <td>0</td>\n",
       "    </tr>\n",
       "    <tr>\n",
       "      <th>18</th>\n",
       "      <td>chase sent me an email today with the innocuou...</td>\n",
       "      <td>chase sent email today innocuous title importa...</td>\n",
       "      <td>chase email today title information change cha...</td>\n",
       "      <td>chase email today title information change cha...</td>\n",
       "      <td>0</td>\n",
       "    </tr>\n",
       "    <tr>\n",
       "      <th>16</th>\n",
       "      <td>a sofa love seat table and chairs and was ne...</td>\n",
       "      <td>xxxx xxxx sofa love seat table chair never del...</td>\n",
       "      <td>sofa love seat chair debit card claim furnitur...</td>\n",
       "      <td>sofa love seat chair debit card claim furnitur...</td>\n",
       "      <td>0</td>\n",
       "    </tr>\n",
       "    <tr>\n",
       "      <th>14</th>\n",
       "      <td>my chase amazon card was declined for a cateri...</td>\n",
       "      <td>chase amazon card declined catering order plac...</td>\n",
       "      <td>chase card order amount chase todayand account...</td>\n",
       "      <td>chase card order amount chase todayand account...</td>\n",
       "      <td>0</td>\n",
       "    </tr>\n",
       "    <tr>\n",
       "      <th>2</th>\n",
       "      <td>chase card was reported onhowever fraudulent a...</td>\n",
       "      <td>chase card reported onhowever fraudulent appli...</td>\n",
       "      <td>chase card application identity consent servic...</td>\n",
       "      <td>chase card application identity consent servic...</td>\n",
       "      <td>1</td>\n",
       "    </tr>\n",
       "    <tr>\n",
       "      <th>3</th>\n",
       "      <td>onwhile trying to book a     ticket i came acr...</td>\n",
       "      <td>onwhile trying book xxxx xxxx ticket came acro...</td>\n",
       "      <td>book ticket offer forto ticket card informatio...</td>\n",
       "      <td>book ticket offer forto ticket card informatio...</td>\n",
       "      <td>1</td>\n",
       "    </tr>\n",
       "    <tr>\n",
       "      <th>5</th>\n",
       "      <td>can you please remove inquiry</td>\n",
       "      <td>please remove inquiry</td>\n",
       "      <td>inquiry</td>\n",
       "      <td>inquiry</td>\n",
       "      <td>1</td>\n",
       "    </tr>\n",
       "    <tr>\n",
       "      <th>9</th>\n",
       "      <td>i have a chase credit card which is incorrectl...</td>\n",
       "      <td>chase credit card incorrectly reporting data c...</td>\n",
       "      <td>chase credit card credit report company issue</td>\n",
       "      <td>chase credit card credit report company issue</td>\n",
       "      <td>1</td>\n",
       "    </tr>\n",
       "    <tr>\n",
       "      <th>11</th>\n",
       "      <td>i have reached out to  several times in attemp...</td>\n",
       "      <td>reached xxxx several time attempt fraudulent i...</td>\n",
       "      <td>time inquiry need call contact creditor report...</td>\n",
       "      <td>time inquiry need call contact creditor report...</td>\n",
       "      <td>1</td>\n",
       "    </tr>\n",
       "    <tr>\n",
       "      <th>0</th>\n",
       "      <td>good morning my name is   and i appreciate it ...</td>\n",
       "      <td>good morning name xxxx xxxx appreciate could h...</td>\n",
       "      <td>morning name appreciate chase bank service ini...</td>\n",
       "      <td>morning name appreciate chase bank service ini...</td>\n",
       "      <td>2</td>\n",
       "    </tr>\n",
       "    <tr>\n",
       "      <th>32</th>\n",
       "      <td>i bought a new   on  from    in  \\ni paid the ...</td>\n",
       "      <td>bought new xxxx xxxx xxxxxxxx xxxx xxxx xxxx x...</td>\n",
       "      <td>loan release title time resolution time releas...</td>\n",
       "      <td>loan release title time resolution time releas...</td>\n",
       "      <td>2</td>\n",
       "    </tr>\n",
       "    <tr>\n",
       "      <th>30</th>\n",
       "      <td>i have wired through one of chase branches in ...</td>\n",
       "      <td>wired one chase branch xxxx xxxx exact reinsta...</td>\n",
       "      <td>chase branch reinstatement amount bank order f...</td>\n",
       "      <td>chase branch reinstatement amount bank order f...</td>\n",
       "      <td>2</td>\n",
       "    </tr>\n",
       "    <tr>\n",
       "      <th>23</th>\n",
       "      <td>i have been trying to do a loan modification w...</td>\n",
       "      <td>trying loan modification chase give runaround ...</td>\n",
       "      <td>loan modification chase runaround immo payment</td>\n",
       "      <td>loan modification chase runaround immo payment</td>\n",
       "      <td>2</td>\n",
       "    </tr>\n",
       "    <tr>\n",
       "      <th>41</th>\n",
       "      <td>my name is   i have missed a payment inand was...</td>\n",
       "      <td>name xxxx xxxx missed payment inand wasdays pa...</td>\n",
       "      <td>name payment inand time loan modification loss...</td>\n",
       "      <td>name payment inand time loan modification loss...</td>\n",
       "      <td>2</td>\n",
       "    </tr>\n",
       "    <tr>\n",
       "      <th>12</th>\n",
       "      <td>i opened an account with chase bank on  and us...</td>\n",
       "      <td>opened account chase bank xxxx used code xxxx ...</td>\n",
       "      <td>account bank code bonus xxxxxxxx term everythi...</td>\n",
       "      <td>account bank code bonus xxxxxxxx term everythi...</td>\n",
       "      <td>3</td>\n",
       "    </tr>\n",
       "    <tr>\n",
       "      <th>10</th>\n",
       "      <td>mishandling of this account by chase auto and</td>\n",
       "      <td>mishandling account chase auto xxxx</td>\n",
       "      <td>account auto xxxx</td>\n",
       "      <td>account auto xxxx</td>\n",
       "      <td>3</td>\n",
       "    </tr>\n",
       "    <tr>\n",
       "      <th>6</th>\n",
       "      <td>with out notice jp morgan chase restricted my ...</td>\n",
       "      <td>notice jp morgan chase restricted account debi...</td>\n",
       "      <td>jp chase account debit card tuesdayon thursday...</td>\n",
       "      <td>jp chase account debit card tuesdayon thursday...</td>\n",
       "      <td>3</td>\n",
       "    </tr>\n",
       "    <tr>\n",
       "      <th>4</th>\n",
       "      <td>my grand son give me check fori deposit it int...</td>\n",
       "      <td>grand son give check fori deposit chase accoun...</td>\n",
       "      <td>son check deposit chase account fund chase ban...</td>\n",
       "      <td>son check deposit chase account fund chase ban...</td>\n",
       "      <td>3</td>\n",
       "    </tr>\n",
       "    <tr>\n",
       "      <th>15</th>\n",
       "      <td>i opened the saving account for thebonus i was...</td>\n",
       "      <td>opened saving account thebonus supposed receiv...</td>\n",
       "      <td>account thebonus auto transfer notice transfer...</td>\n",
       "      <td>account thebonus auto transfer notice transfer...</td>\n",
       "      <td>3</td>\n",
       "    </tr>\n",
       "    <tr>\n",
       "      <th>13</th>\n",
       "      <td>to whom it may concern chase bank charged wron...</td>\n",
       "      <td>may concern chase bank charged wrongly overdra...</td>\n",
       "      <td>concern bank fee alert balance fee balance tra...</td>\n",
       "      <td>concern bank fee alert balance fee balance tra...</td>\n",
       "      <td>4</td>\n",
       "    </tr>\n",
       "    <tr>\n",
       "      <th>7</th>\n",
       "      <td>during the summer months i experience a declin...</td>\n",
       "      <td>summer month experience decline income due emp...</td>\n",
       "      <td>summer month experience income employment mont...</td>\n",
       "      <td>summer month experience income employment mont...</td>\n",
       "      <td>4</td>\n",
       "    </tr>\n",
       "    <tr>\n",
       "      <th>24</th>\n",
       "      <td>i made a purchase ofon  i made payments ofon  ...</td>\n",
       "      <td>made purchase ofon xxxxxxxx made payment ofon ...</td>\n",
       "      <td>purchase ofon payment ofon payment wasthe clos...</td>\n",
       "      <td>purchase ofon payment ofon payment wasthe clos...</td>\n",
       "      <td>4</td>\n",
       "    </tr>\n",
       "    <tr>\n",
       "      <th>33</th>\n",
       "      <td>i recently called to ask chase bank why they r...</td>\n",
       "      <td>recently called ask chase bank reported credit...</td>\n",
       "      <td>ask chase bank credit bureau payment ofi bill ...</td>\n",
       "      <td>ask chase bank credit bureau payment ofi bill ...</td>\n",
       "      <td>4</td>\n",
       "    </tr>\n",
       "    <tr>\n",
       "      <th>46</th>\n",
       "      <td>multiple times with the latest being  chase ha...</td>\n",
       "      <td>multiple time latest xxxxxxxx chase manipulate...</td>\n",
       "      <td>time chase order credit debit account collect ...</td>\n",
       "      <td>time chase order credit debit account collect ...</td>\n",
       "      <td>4</td>\n",
       "    </tr>\n",
       "  </tbody>\n",
       "</table>\n",
       "</div>\n",
       "      <button class=\"colab-df-convert\" onclick=\"convertToInteractive('df-b7d128c9-5463-4676-940a-a36471830262')\"\n",
       "              title=\"Convert this dataframe to an interactive table.\"\n",
       "              style=\"display:none;\">\n",
       "        \n",
       "  <svg xmlns=\"http://www.w3.org/2000/svg\" height=\"24px\"viewBox=\"0 0 24 24\"\n",
       "       width=\"24px\">\n",
       "    <path d=\"M0 0h24v24H0V0z\" fill=\"none\"/>\n",
       "    <path d=\"M18.56 5.44l.94 2.06.94-2.06 2.06-.94-2.06-.94-.94-2.06-.94 2.06-2.06.94zm-11 1L8.5 8.5l.94-2.06 2.06-.94-2.06-.94L8.5 2.5l-.94 2.06-2.06.94zm10 10l.94 2.06.94-2.06 2.06-.94-2.06-.94-.94-2.06-.94 2.06-2.06.94z\"/><path d=\"M17.41 7.96l-1.37-1.37c-.4-.4-.92-.59-1.43-.59-.52 0-1.04.2-1.43.59L10.3 9.45l-7.72 7.72c-.78.78-.78 2.05 0 2.83L4 21.41c.39.39.9.59 1.41.59.51 0 1.02-.2 1.41-.59l7.78-7.78 2.81-2.81c.8-.78.8-2.07 0-2.86zM5.41 20L4 18.59l7.72-7.72 1.47 1.35L5.41 20z\"/>\n",
       "  </svg>\n",
       "      </button>\n",
       "      \n",
       "  <style>\n",
       "    .colab-df-container {\n",
       "      display:flex;\n",
       "      flex-wrap:wrap;\n",
       "      gap: 12px;\n",
       "    }\n",
       "\n",
       "    .colab-df-convert {\n",
       "      background-color: #E8F0FE;\n",
       "      border: none;\n",
       "      border-radius: 50%;\n",
       "      cursor: pointer;\n",
       "      display: none;\n",
       "      fill: #1967D2;\n",
       "      height: 32px;\n",
       "      padding: 0 0 0 0;\n",
       "      width: 32px;\n",
       "    }\n",
       "\n",
       "    .colab-df-convert:hover {\n",
       "      background-color: #E2EBFA;\n",
       "      box-shadow: 0px 1px 2px rgba(60, 64, 67, 0.3), 0px 1px 3px 1px rgba(60, 64, 67, 0.15);\n",
       "      fill: #174EA6;\n",
       "    }\n",
       "\n",
       "    [theme=dark] .colab-df-convert {\n",
       "      background-color: #3B4455;\n",
       "      fill: #D2E3FC;\n",
       "    }\n",
       "\n",
       "    [theme=dark] .colab-df-convert:hover {\n",
       "      background-color: #434B5C;\n",
       "      box-shadow: 0px 1px 3px 1px rgba(0, 0, 0, 0.15);\n",
       "      filter: drop-shadow(0px 1px 2px rgba(0, 0, 0, 0.3));\n",
       "      fill: #FFFFFF;\n",
       "    }\n",
       "  </style>\n",
       "\n",
       "      <script>\n",
       "        const buttonEl =\n",
       "          document.querySelector('#df-b7d128c9-5463-4676-940a-a36471830262 button.colab-df-convert');\n",
       "        buttonEl.style.display =\n",
       "          google.colab.kernel.accessAllowed ? 'block' : 'none';\n",
       "\n",
       "        async function convertToInteractive(key) {\n",
       "          const element = document.querySelector('#df-b7d128c9-5463-4676-940a-a36471830262');\n",
       "          const dataTable =\n",
       "            await google.colab.kernel.invokeFunction('convertToInteractive',\n",
       "                                                     [key], {});\n",
       "          if (!dataTable) return;\n",
       "\n",
       "          const docLinkHtml = 'Like what you see? Visit the ' +\n",
       "            '<a target=\"_blank\" href=https://colab.research.google.com/notebooks/data_table.ipynb>data table notebook</a>'\n",
       "            + ' to learn more about interactive tables.';\n",
       "          element.innerHTML = '';\n",
       "          dataTable['output_type'] = 'display_data';\n",
       "          await google.colab.output.renderOutput(dataTable, element);\n",
       "          const docLink = document.createElement('div');\n",
       "          docLink.innerHTML = docLinkHtml;\n",
       "          element.appendChild(docLink);\n",
       "        }\n",
       "      </script>\n",
       "    </div>\n",
       "  </div>\n",
       "  "
      ],
      "text/plain": [
       "                                 complaint_text_clean  \\\n",
       "1   i upgraded my   card inand was told by the age...   \n",
       "8   on i made apayment to an online retailer using...   \n",
       "18  chase sent me an email today with the innocuou...   \n",
       "16    a sofa love seat table and chairs and was ne...   \n",
       "14  my chase amazon card was declined for a cateri...   \n",
       "2   chase card was reported onhowever fraudulent a...   \n",
       "3   onwhile trying to book a     ticket i came acr...   \n",
       "5                       can you please remove inquiry   \n",
       "9   i have a chase credit card which is incorrectl...   \n",
       "11  i have reached out to  several times in attemp...   \n",
       "0   good morning my name is   and i appreciate it ...   \n",
       "32  i bought a new   on  from    in  \\ni paid the ...   \n",
       "30  i have wired through one of chase branches in ...   \n",
       "23  i have been trying to do a loan modification w...   \n",
       "41  my name is   i have missed a payment inand was...   \n",
       "12  i opened an account with chase bank on  and us...   \n",
       "10     mishandling of this account by chase auto and    \n",
       "6   with out notice jp morgan chase restricted my ...   \n",
       "4   my grand son give me check fori deposit it int...   \n",
       "15  i opened the saving account for thebonus i was...   \n",
       "13  to whom it may concern chase bank charged wron...   \n",
       "7   during the summer months i experience a declin...   \n",
       "24  i made a purchase ofon  i made payments ofon  ...   \n",
       "33  i recently called to ask chase bank why they r...   \n",
       "46  multiple times with the latest being  chase ha...   \n",
       "\n",
       "                            complaint_text_lemmatized  \\\n",
       "1   upgraded xxxx xxxx card inand told agent upgra...   \n",
       "8   xxxxi made apayment online retailer using chas...   \n",
       "18  chase sent email today innocuous title importa...   \n",
       "16  xxxx xxxx sofa love seat table chair never del...   \n",
       "14  chase amazon card declined catering order plac...   \n",
       "2   chase card reported onhowever fraudulent appli...   \n",
       "3   onwhile trying book xxxx xxxx ticket came acro...   \n",
       "5                               please remove inquiry   \n",
       "9   chase credit card incorrectly reporting data c...   \n",
       "11  reached xxxx several time attempt fraudulent i...   \n",
       "0   good morning name xxxx xxxx appreciate could h...   \n",
       "32  bought new xxxx xxxx xxxxxxxx xxxx xxxx xxxx x...   \n",
       "30  wired one chase branch xxxx xxxx exact reinsta...   \n",
       "23  trying loan modification chase give runaround ...   \n",
       "41  name xxxx xxxx missed payment inand wasdays pa...   \n",
       "12  opened account chase bank xxxx used code xxxx ...   \n",
       "10                mishandling account chase auto xxxx   \n",
       "6   notice jp morgan chase restricted account debi...   \n",
       "4   grand son give check fori deposit chase accoun...   \n",
       "15  opened saving account thebonus supposed receiv...   \n",
       "13  may concern chase bank charged wrongly overdra...   \n",
       "7   summer month experience decline income due emp...   \n",
       "24  made purchase ofon xxxxxxxx made payment ofon ...   \n",
       "33  recently called ask chase bank reported credit...   \n",
       "46  multiple time latest xxxxxxxx chase manipulate...   \n",
       "\n",
       "                                complaint_POS_removed  \\\n",
       "1   xxxx card inand agent date agent information o...   \n",
       "8   xxxxi retailer pay chase website confirmation ...   \n",
       "18  chase email today title information change cha...   \n",
       "16  sofa love seat chair debit card claim furnitur...   \n",
       "14  chase card order amount chase todayand account...   \n",
       "2   chase card application identity consent servic...   \n",
       "3   book ticket offer forto ticket card informatio...   \n",
       "5                                             inquiry   \n",
       "9       chase credit card credit report company issue   \n",
       "11  time inquiry need call contact creditor report...   \n",
       "0   morning name appreciate chase bank service ini...   \n",
       "32  loan release title time resolution time releas...   \n",
       "30  chase branch reinstatement amount bank order f...   \n",
       "23     loan modification chase runaround immo payment   \n",
       "41  name payment inand time loan modification loss...   \n",
       "12  account bank code bonus xxxxxxxx term everythi...   \n",
       "10                                  account auto xxxx   \n",
       "6   jp chase account debit card tuesdayon thursday...   \n",
       "4   son check deposit chase account fund chase ban...   \n",
       "15  account thebonus auto transfer notice transfer...   \n",
       "13  concern bank fee alert balance fee balance tra...   \n",
       "7   summer month experience income employment mont...   \n",
       "24  purchase ofon payment ofon payment wasthe clos...   \n",
       "33  ask chase bank credit bureau payment ofi bill ...   \n",
       "46  time chase order credit debit account collect ...   \n",
       "\n",
       "                                      Complaint_clean  Topic  \n",
       "1   xxxx card inand agent date agent information o...      0  \n",
       "8   xxxxi retailer pay chase website confirmation ...      0  \n",
       "18  chase email today title information change cha...      0  \n",
       "16  sofa love seat chair debit card claim furnitur...      0  \n",
       "14  chase card order amount chase todayand account...      0  \n",
       "2   chase card application identity consent servic...      1  \n",
       "3   book ticket offer forto ticket card informatio...      1  \n",
       "5                                             inquiry      1  \n",
       "9       chase credit card credit report company issue      1  \n",
       "11  time inquiry need call contact creditor report...      1  \n",
       "0   morning name appreciate chase bank service ini...      2  \n",
       "32  loan release title time resolution time releas...      2  \n",
       "30  chase branch reinstatement amount bank order f...      2  \n",
       "23     loan modification chase runaround immo payment      2  \n",
       "41  name payment inand time loan modification loss...      2  \n",
       "12  account bank code bonus xxxxxxxx term everythi...      3  \n",
       "10                                  account auto xxxx      3  \n",
       "6   jp chase account debit card tuesdayon thursday...      3  \n",
       "4   son check deposit chase account fund chase ban...      3  \n",
       "15  account thebonus auto transfer notice transfer...      3  \n",
       "13  concern bank fee alert balance fee balance tra...      4  \n",
       "7   summer month experience income employment mont...      4  \n",
       "24  purchase ofon payment ofon payment wasthe clos...      4  \n",
       "33  ask chase bank credit bureau payment ofi bill ...      4  \n",
       "46  time chase order credit debit account collect ...      4  "
      ]
     },
     "execution_count": 54,
     "metadata": {},
     "output_type": "execute_result"
    }
   ],
   "source": [
    "#Print the first 5 Complaint for each of the Topics\n",
    "df_temp=df_clean.groupby('Topic').head(5)\n",
    "df_temp.sort_values('Topic')"
   ]
  },
  {
   "cell_type": "markdown",
   "metadata": {
    "id": "piyLxzj6v07j"
   },
   "source": [
    "#### After evaluating the mapping, if the topics assigned are correct then assign these names to the relevant topic:\n",
    "* Bank Account services\n",
    "* Credit card or prepaid card\n",
    "* Theft/Dispute Reporting\n",
    "* Mortgage/Loan\n",
    "* Others"
   ]
  },
  {
   "cell_type": "code",
   "execution_count": 55,
   "metadata": {
    "colab": {
     "base_uri": "https://localhost:8080/"
    },
    "executionInfo": {
     "elapsed": 345,
     "status": "ok",
     "timestamp": 1648988765576,
     "user": {
      "displayName": "Jaya Srivastava",
      "userId": "07102034494739188338"
     },
     "user_tz": -330
    },
    "id": "TWpwDG4RJrGG",
    "outputId": "576fd105-d3c4-4cc6-ecf2-ce508fabeac8"
   },
   "outputs": [
    {
     "name": "stderr",
     "output_type": "stream",
     "text": [
      "/usr/local/lib/python3.7/dist-packages/ipykernel_launcher.py:12: SettingWithCopyWarning:\n",
      "\n",
      "\n",
      "A value is trying to be set on a copy of a slice from a DataFrame.\n",
      "Try using .loc[row_indexer,col_indexer] = value instead\n",
      "\n",
      "See the caveats in the documentation: https://pandas.pydata.org/pandas-docs/stable/user_guide/indexing.html#returning-a-view-versus-a-copy\n",
      "\n"
     ]
    }
   ],
   "source": [
    "#Create the dictionary of Topic names and Topics\n",
    "\n",
    "#Create the dictionary of Topic names and Topics\n",
    "Topic_names = { \n",
    "                4 : 'Credit card / Prepaid card' ,\n",
    "                3 : 'Bank account services',\n",
    "                1 : 'Theft/Dispute reporting',\n",
    "                2 : 'Mortgages/loans' , \n",
    "                0 : 'Others'\n",
    "              }\n",
    "#Replace Topics with Topic Names\n",
    "df_clean['Topic'] = df_clean['Topic'].map(Topic_names)"
   ]
  },
  {
   "cell_type": "code",
   "execution_count": 56,
   "metadata": {
    "colab": {
     "base_uri": "https://localhost:8080/",
     "height": 554
    },
    "executionInfo": {
     "elapsed": 354,
     "status": "ok",
     "timestamp": 1648988784501,
     "user": {
      "displayName": "Jaya Srivastava",
      "userId": "07102034494739188338"
     },
     "user_tz": -330
    },
    "id": "-2ULY5K6JrGG",
    "outputId": "24e66e3f-fad1-4292-d339-792a4822cceb"
   },
   "outputs": [
    {
     "data": {
      "text/html": [
       "\n",
       "  <div id=\"df-e2a0fceb-f619-408e-b41f-a3831d82b174\">\n",
       "    <div class=\"colab-df-container\">\n",
       "      <div>\n",
       "<style scoped>\n",
       "    .dataframe tbody tr th:only-of-type {\n",
       "        vertical-align: middle;\n",
       "    }\n",
       "\n",
       "    .dataframe tbody tr th {\n",
       "        vertical-align: top;\n",
       "    }\n",
       "\n",
       "    .dataframe thead th {\n",
       "        text-align: right;\n",
       "    }\n",
       "</style>\n",
       "<table border=\"1\" class=\"dataframe\">\n",
       "  <thead>\n",
       "    <tr style=\"text-align: right;\">\n",
       "      <th></th>\n",
       "      <th>complaint_text_clean</th>\n",
       "      <th>complaint_text_lemmatized</th>\n",
       "      <th>complaint_POS_removed</th>\n",
       "      <th>Complaint_clean</th>\n",
       "      <th>Topic</th>\n",
       "    </tr>\n",
       "  </thead>\n",
       "  <tbody>\n",
       "    <tr>\n",
       "      <th>0</th>\n",
       "      <td>good morning my name is   and i appreciate it ...</td>\n",
       "      <td>good morning name xxxx xxxx appreciate could h...</td>\n",
       "      <td>morning name appreciate chase bank service ini...</td>\n",
       "      <td>morning name appreciate chase bank service ini...</td>\n",
       "      <td>Mortgages/loans</td>\n",
       "    </tr>\n",
       "    <tr>\n",
       "      <th>1</th>\n",
       "      <td>i upgraded my   card inand was told by the age...</td>\n",
       "      <td>upgraded xxxx xxxx card inand told agent upgra...</td>\n",
       "      <td>xxxx card inand agent date agent information o...</td>\n",
       "      <td>xxxx card inand agent date agent information o...</td>\n",
       "      <td>Others</td>\n",
       "    </tr>\n",
       "    <tr>\n",
       "      <th>2</th>\n",
       "      <td>chase card was reported onhowever fraudulent a...</td>\n",
       "      <td>chase card reported onhowever fraudulent appli...</td>\n",
       "      <td>chase card application identity consent servic...</td>\n",
       "      <td>chase card application identity consent servic...</td>\n",
       "      <td>Theft/Dispute reporting</td>\n",
       "    </tr>\n",
       "    <tr>\n",
       "      <th>3</th>\n",
       "      <td>onwhile trying to book a     ticket i came acr...</td>\n",
       "      <td>onwhile trying book xxxx xxxx ticket came acro...</td>\n",
       "      <td>book ticket offer forto ticket card informatio...</td>\n",
       "      <td>book ticket offer forto ticket card informatio...</td>\n",
       "      <td>Theft/Dispute reporting</td>\n",
       "    </tr>\n",
       "    <tr>\n",
       "      <th>4</th>\n",
       "      <td>my grand son give me check fori deposit it int...</td>\n",
       "      <td>grand son give check fori deposit chase accoun...</td>\n",
       "      <td>son check deposit chase account fund chase ban...</td>\n",
       "      <td>son check deposit chase account fund chase ban...</td>\n",
       "      <td>Bank account services</td>\n",
       "    </tr>\n",
       "    <tr>\n",
       "      <th>...</th>\n",
       "      <td>...</td>\n",
       "      <td>...</td>\n",
       "      <td>...</td>\n",
       "      <td>...</td>\n",
       "      <td>...</td>\n",
       "    </tr>\n",
       "    <tr>\n",
       "      <th>21067</th>\n",
       "      <td>after being a chase card customer for well ove...</td>\n",
       "      <td>chase card customer well decade offered multip...</td>\n",
       "      <td>chase card customer decade solicitation credit...</td>\n",
       "      <td>chase card customer decade solicitation credit...</td>\n",
       "      <td>Theft/Dispute reporting</td>\n",
       "    </tr>\n",
       "    <tr>\n",
       "      <th>21068</th>\n",
       "      <td>on wednesday  i called chas my   visa credit c...</td>\n",
       "      <td>wednesday xxxxxxxx called chas xxxx xxxx visa ...</td>\n",
       "      <td>wednesday chas xxxx credit card provider claim...</td>\n",
       "      <td>wednesday chas xxxx credit card provider claim...</td>\n",
       "      <td>Others</td>\n",
       "    </tr>\n",
       "    <tr>\n",
       "      <th>21069</th>\n",
       "      <td>i am not familiar with  pay and did not unders...</td>\n",
       "      <td>familiar xxxx pay understand great risk provid...</td>\n",
       "      <td>pay risk consumer chase bank chase banking dea...</td>\n",
       "      <td>pay risk consumer chase bank chase banking dea...</td>\n",
       "      <td>Others</td>\n",
       "    </tr>\n",
       "    <tr>\n",
       "      <th>21070</th>\n",
       "      <td>i have had flawless credit foryrs ive had chas...</td>\n",
       "      <td>flawless credit foryrs ive chase credit card c...</td>\n",
       "      <td>flawless credit chase credit card chase freedo...</td>\n",
       "      <td>flawless credit chase credit card chase freedo...</td>\n",
       "      <td>Credit card / Prepaid card</td>\n",
       "    </tr>\n",
       "    <tr>\n",
       "      <th>21071</th>\n",
       "      <td>roughlyyears ago i closed out my accounts with...</td>\n",
       "      <td>roughlyyears ago closed account jp morgan chas...</td>\n",
       "      <td>account jp bank order line credit pay account ...</td>\n",
       "      <td>account jp bank order line credit pay account ...</td>\n",
       "      <td>Credit card / Prepaid card</td>\n",
       "    </tr>\n",
       "  </tbody>\n",
       "</table>\n",
       "<p>21072 rows × 5 columns</p>\n",
       "</div>\n",
       "      <button class=\"colab-df-convert\" onclick=\"convertToInteractive('df-e2a0fceb-f619-408e-b41f-a3831d82b174')\"\n",
       "              title=\"Convert this dataframe to an interactive table.\"\n",
       "              style=\"display:none;\">\n",
       "        \n",
       "  <svg xmlns=\"http://www.w3.org/2000/svg\" height=\"24px\"viewBox=\"0 0 24 24\"\n",
       "       width=\"24px\">\n",
       "    <path d=\"M0 0h24v24H0V0z\" fill=\"none\"/>\n",
       "    <path d=\"M18.56 5.44l.94 2.06.94-2.06 2.06-.94-2.06-.94-.94-2.06-.94 2.06-2.06.94zm-11 1L8.5 8.5l.94-2.06 2.06-.94-2.06-.94L8.5 2.5l-.94 2.06-2.06.94zm10 10l.94 2.06.94-2.06 2.06-.94-2.06-.94-.94-2.06-.94 2.06-2.06.94z\"/><path d=\"M17.41 7.96l-1.37-1.37c-.4-.4-.92-.59-1.43-.59-.52 0-1.04.2-1.43.59L10.3 9.45l-7.72 7.72c-.78.78-.78 2.05 0 2.83L4 21.41c.39.39.9.59 1.41.59.51 0 1.02-.2 1.41-.59l7.78-7.78 2.81-2.81c.8-.78.8-2.07 0-2.86zM5.41 20L4 18.59l7.72-7.72 1.47 1.35L5.41 20z\"/>\n",
       "  </svg>\n",
       "      </button>\n",
       "      \n",
       "  <style>\n",
       "    .colab-df-container {\n",
       "      display:flex;\n",
       "      flex-wrap:wrap;\n",
       "      gap: 12px;\n",
       "    }\n",
       "\n",
       "    .colab-df-convert {\n",
       "      background-color: #E8F0FE;\n",
       "      border: none;\n",
       "      border-radius: 50%;\n",
       "      cursor: pointer;\n",
       "      display: none;\n",
       "      fill: #1967D2;\n",
       "      height: 32px;\n",
       "      padding: 0 0 0 0;\n",
       "      width: 32px;\n",
       "    }\n",
       "\n",
       "    .colab-df-convert:hover {\n",
       "      background-color: #E2EBFA;\n",
       "      box-shadow: 0px 1px 2px rgba(60, 64, 67, 0.3), 0px 1px 3px 1px rgba(60, 64, 67, 0.15);\n",
       "      fill: #174EA6;\n",
       "    }\n",
       "\n",
       "    [theme=dark] .colab-df-convert {\n",
       "      background-color: #3B4455;\n",
       "      fill: #D2E3FC;\n",
       "    }\n",
       "\n",
       "    [theme=dark] .colab-df-convert:hover {\n",
       "      background-color: #434B5C;\n",
       "      box-shadow: 0px 1px 3px 1px rgba(0, 0, 0, 0.15);\n",
       "      filter: drop-shadow(0px 1px 2px rgba(0, 0, 0, 0.3));\n",
       "      fill: #FFFFFF;\n",
       "    }\n",
       "  </style>\n",
       "\n",
       "      <script>\n",
       "        const buttonEl =\n",
       "          document.querySelector('#df-e2a0fceb-f619-408e-b41f-a3831d82b174 button.colab-df-convert');\n",
       "        buttonEl.style.display =\n",
       "          google.colab.kernel.accessAllowed ? 'block' : 'none';\n",
       "\n",
       "        async function convertToInteractive(key) {\n",
       "          const element = document.querySelector('#df-e2a0fceb-f619-408e-b41f-a3831d82b174');\n",
       "          const dataTable =\n",
       "            await google.colab.kernel.invokeFunction('convertToInteractive',\n",
       "                                                     [key], {});\n",
       "          if (!dataTable) return;\n",
       "\n",
       "          const docLinkHtml = 'Like what you see? Visit the ' +\n",
       "            '<a target=\"_blank\" href=https://colab.research.google.com/notebooks/data_table.ipynb>data table notebook</a>'\n",
       "            + ' to learn more about interactive tables.';\n",
       "          element.innerHTML = '';\n",
       "          dataTable['output_type'] = 'display_data';\n",
       "          await google.colab.output.renderOutput(dataTable, element);\n",
       "          const docLink = document.createElement('div');\n",
       "          docLink.innerHTML = docLinkHtml;\n",
       "          element.appendChild(docLink);\n",
       "        }\n",
       "      </script>\n",
       "    </div>\n",
       "  </div>\n",
       "  "
      ],
      "text/plain": [
       "                                    complaint_text_clean  \\\n",
       "0      good morning my name is   and i appreciate it ...   \n",
       "1      i upgraded my   card inand was told by the age...   \n",
       "2      chase card was reported onhowever fraudulent a...   \n",
       "3      onwhile trying to book a     ticket i came acr...   \n",
       "4      my grand son give me check fori deposit it int...   \n",
       "...                                                  ...   \n",
       "21067  after being a chase card customer for well ove...   \n",
       "21068  on wednesday  i called chas my   visa credit c...   \n",
       "21069  i am not familiar with  pay and did not unders...   \n",
       "21070  i have had flawless credit foryrs ive had chas...   \n",
       "21071  roughlyyears ago i closed out my accounts with...   \n",
       "\n",
       "                               complaint_text_lemmatized  \\\n",
       "0      good morning name xxxx xxxx appreciate could h...   \n",
       "1      upgraded xxxx xxxx card inand told agent upgra...   \n",
       "2      chase card reported onhowever fraudulent appli...   \n",
       "3      onwhile trying book xxxx xxxx ticket came acro...   \n",
       "4      grand son give check fori deposit chase accoun...   \n",
       "...                                                  ...   \n",
       "21067  chase card customer well decade offered multip...   \n",
       "21068  wednesday xxxxxxxx called chas xxxx xxxx visa ...   \n",
       "21069  familiar xxxx pay understand great risk provid...   \n",
       "21070  flawless credit foryrs ive chase credit card c...   \n",
       "21071  roughlyyears ago closed account jp morgan chas...   \n",
       "\n",
       "                                   complaint_POS_removed  \\\n",
       "0      morning name appreciate chase bank service ini...   \n",
       "1      xxxx card inand agent date agent information o...   \n",
       "2      chase card application identity consent servic...   \n",
       "3      book ticket offer forto ticket card informatio...   \n",
       "4      son check deposit chase account fund chase ban...   \n",
       "...                                                  ...   \n",
       "21067  chase card customer decade solicitation credit...   \n",
       "21068  wednesday chas xxxx credit card provider claim...   \n",
       "21069  pay risk consumer chase bank chase banking dea...   \n",
       "21070  flawless credit chase credit card chase freedo...   \n",
       "21071  account jp bank order line credit pay account ...   \n",
       "\n",
       "                                         Complaint_clean  \\\n",
       "0      morning name appreciate chase bank service ini...   \n",
       "1      xxxx card inand agent date agent information o...   \n",
       "2      chase card application identity consent servic...   \n",
       "3      book ticket offer forto ticket card informatio...   \n",
       "4      son check deposit chase account fund chase ban...   \n",
       "...                                                  ...   \n",
       "21067  chase card customer decade solicitation credit...   \n",
       "21068  wednesday chas xxxx credit card provider claim...   \n",
       "21069  pay risk consumer chase bank chase banking dea...   \n",
       "21070  flawless credit chase credit card chase freedo...   \n",
       "21071  account jp bank order line credit pay account ...   \n",
       "\n",
       "                            Topic  \n",
       "0                 Mortgages/loans  \n",
       "1                          Others  \n",
       "2         Theft/Dispute reporting  \n",
       "3         Theft/Dispute reporting  \n",
       "4           Bank account services  \n",
       "...                           ...  \n",
       "21067     Theft/Dispute reporting  \n",
       "21068                      Others  \n",
       "21069                      Others  \n",
       "21070  Credit card / Prepaid card  \n",
       "21071  Credit card / Prepaid card  \n",
       "\n",
       "[21072 rows x 5 columns]"
      ]
     },
     "execution_count": 56,
     "metadata": {},
     "output_type": "execute_result"
    }
   ],
   "source": [
    "df_clean"
   ]
  },
  {
   "cell_type": "markdown",
   "metadata": {
    "id": "7Mu0QBOcJrGH"
   },
   "source": [
    "## Supervised model to predict any new complaints to the relevant Topics.\n",
    "\n",
    "You have now build the model to create the topics for each complaints.Now in the below section you will use them to classify any new complaints.\n",
    "\n",
    "Since you will be using supervised learning technique we have to convert the topic names to numbers(numpy arrays only understand numbers)"
   ]
  },
  {
   "cell_type": "code",
   "execution_count": 57,
   "metadata": {
    "colab": {
     "base_uri": "https://localhost:8080/"
    },
    "executionInfo": {
     "elapsed": 357,
     "status": "ok",
     "timestamp": 1648988789788,
     "user": {
      "displayName": "Jaya Srivastava",
      "userId": "07102034494739188338"
     },
     "user_tz": -330
    },
    "id": "_U8J3J8wJrGH",
    "outputId": "a382afc4-6d11-4e69-c5c4-c9d1ea8ebda6"
   },
   "outputs": [
    {
     "name": "stderr",
     "output_type": "stream",
     "text": [
      "/usr/local/lib/python3.7/dist-packages/ipykernel_launcher.py:5: SettingWithCopyWarning:\n",
      "\n",
      "\n",
      "A value is trying to be set on a copy of a slice from a DataFrame.\n",
      "Try using .loc[row_indexer,col_indexer] = value instead\n",
      "\n",
      "See the caveats in the documentation: https://pandas.pydata.org/pandas-docs/stable/user_guide/indexing.html#returning-a-view-versus-a-copy\n",
      "\n"
     ]
    }
   ],
   "source": [
    "#Create the dictionary again of Topic names and Topics\n",
    "\n",
    "Topic_names = {  v: k for (k,v) in Topic_names.items() }\n",
    "#Replace Topics with Topic Names\n",
    "df_clean['Topic'] = df_clean['Topic'].map(Topic_names)"
   ]
  },
  {
   "cell_type": "code",
   "execution_count": 58,
   "metadata": {
    "colab": {
     "base_uri": "https://localhost:8080/",
     "height": 423
    },
    "executionInfo": {
     "elapsed": 351,
     "status": "ok",
     "timestamp": 1648988798463,
     "user": {
      "displayName": "Jaya Srivastava",
      "userId": "07102034494739188338"
     },
     "user_tz": -330
    },
    "id": "BWIgJUkQJrGH",
    "outputId": "9bccb5b5-6e5a-41c7-c723-e4aba567fed3"
   },
   "outputs": [
    {
     "data": {
      "text/html": [
       "\n",
       "  <div id=\"df-97f5ea4f-7401-48b2-9e6d-8c7a0d43cf82\">\n",
       "    <div class=\"colab-df-container\">\n",
       "      <div>\n",
       "<style scoped>\n",
       "    .dataframe tbody tr th:only-of-type {\n",
       "        vertical-align: middle;\n",
       "    }\n",
       "\n",
       "    .dataframe tbody tr th {\n",
       "        vertical-align: top;\n",
       "    }\n",
       "\n",
       "    .dataframe thead th {\n",
       "        text-align: right;\n",
       "    }\n",
       "</style>\n",
       "<table border=\"1\" class=\"dataframe\">\n",
       "  <thead>\n",
       "    <tr style=\"text-align: right;\">\n",
       "      <th></th>\n",
       "      <th>complaint_text_clean</th>\n",
       "      <th>complaint_text_lemmatized</th>\n",
       "      <th>complaint_POS_removed</th>\n",
       "      <th>Complaint_clean</th>\n",
       "      <th>Topic</th>\n",
       "    </tr>\n",
       "  </thead>\n",
       "  <tbody>\n",
       "    <tr>\n",
       "      <th>0</th>\n",
       "      <td>good morning my name is   and i appreciate it ...</td>\n",
       "      <td>good morning name xxxx xxxx appreciate could h...</td>\n",
       "      <td>morning name appreciate chase bank service ini...</td>\n",
       "      <td>morning name appreciate chase bank service ini...</td>\n",
       "      <td>2</td>\n",
       "    </tr>\n",
       "    <tr>\n",
       "      <th>1</th>\n",
       "      <td>i upgraded my   card inand was told by the age...</td>\n",
       "      <td>upgraded xxxx xxxx card inand told agent upgra...</td>\n",
       "      <td>xxxx card inand agent date agent information o...</td>\n",
       "      <td>xxxx card inand agent date agent information o...</td>\n",
       "      <td>0</td>\n",
       "    </tr>\n",
       "    <tr>\n",
       "      <th>2</th>\n",
       "      <td>chase card was reported onhowever fraudulent a...</td>\n",
       "      <td>chase card reported onhowever fraudulent appli...</td>\n",
       "      <td>chase card application identity consent servic...</td>\n",
       "      <td>chase card application identity consent servic...</td>\n",
       "      <td>1</td>\n",
       "    </tr>\n",
       "    <tr>\n",
       "      <th>3</th>\n",
       "      <td>onwhile trying to book a     ticket i came acr...</td>\n",
       "      <td>onwhile trying book xxxx xxxx ticket came acro...</td>\n",
       "      <td>book ticket offer forto ticket card informatio...</td>\n",
       "      <td>book ticket offer forto ticket card informatio...</td>\n",
       "      <td>1</td>\n",
       "    </tr>\n",
       "    <tr>\n",
       "      <th>4</th>\n",
       "      <td>my grand son give me check fori deposit it int...</td>\n",
       "      <td>grand son give check fori deposit chase accoun...</td>\n",
       "      <td>son check deposit chase account fund chase ban...</td>\n",
       "      <td>son check deposit chase account fund chase ban...</td>\n",
       "      <td>3</td>\n",
       "    </tr>\n",
       "    <tr>\n",
       "      <th>...</th>\n",
       "      <td>...</td>\n",
       "      <td>...</td>\n",
       "      <td>...</td>\n",
       "      <td>...</td>\n",
       "      <td>...</td>\n",
       "    </tr>\n",
       "    <tr>\n",
       "      <th>21067</th>\n",
       "      <td>after being a chase card customer for well ove...</td>\n",
       "      <td>chase card customer well decade offered multip...</td>\n",
       "      <td>chase card customer decade solicitation credit...</td>\n",
       "      <td>chase card customer decade solicitation credit...</td>\n",
       "      <td>1</td>\n",
       "    </tr>\n",
       "    <tr>\n",
       "      <th>21068</th>\n",
       "      <td>on wednesday  i called chas my   visa credit c...</td>\n",
       "      <td>wednesday xxxxxxxx called chas xxxx xxxx visa ...</td>\n",
       "      <td>wednesday chas xxxx credit card provider claim...</td>\n",
       "      <td>wednesday chas xxxx credit card provider claim...</td>\n",
       "      <td>0</td>\n",
       "    </tr>\n",
       "    <tr>\n",
       "      <th>21069</th>\n",
       "      <td>i am not familiar with  pay and did not unders...</td>\n",
       "      <td>familiar xxxx pay understand great risk provid...</td>\n",
       "      <td>pay risk consumer chase bank chase banking dea...</td>\n",
       "      <td>pay risk consumer chase bank chase banking dea...</td>\n",
       "      <td>0</td>\n",
       "    </tr>\n",
       "    <tr>\n",
       "      <th>21070</th>\n",
       "      <td>i have had flawless credit foryrs ive had chas...</td>\n",
       "      <td>flawless credit foryrs ive chase credit card c...</td>\n",
       "      <td>flawless credit chase credit card chase freedo...</td>\n",
       "      <td>flawless credit chase credit card chase freedo...</td>\n",
       "      <td>4</td>\n",
       "    </tr>\n",
       "    <tr>\n",
       "      <th>21071</th>\n",
       "      <td>roughlyyears ago i closed out my accounts with...</td>\n",
       "      <td>roughlyyears ago closed account jp morgan chas...</td>\n",
       "      <td>account jp bank order line credit pay account ...</td>\n",
       "      <td>account jp bank order line credit pay account ...</td>\n",
       "      <td>4</td>\n",
       "    </tr>\n",
       "  </tbody>\n",
       "</table>\n",
       "<p>21072 rows × 5 columns</p>\n",
       "</div>\n",
       "      <button class=\"colab-df-convert\" onclick=\"convertToInteractive('df-97f5ea4f-7401-48b2-9e6d-8c7a0d43cf82')\"\n",
       "              title=\"Convert this dataframe to an interactive table.\"\n",
       "              style=\"display:none;\">\n",
       "        \n",
       "  <svg xmlns=\"http://www.w3.org/2000/svg\" height=\"24px\"viewBox=\"0 0 24 24\"\n",
       "       width=\"24px\">\n",
       "    <path d=\"M0 0h24v24H0V0z\" fill=\"none\"/>\n",
       "    <path d=\"M18.56 5.44l.94 2.06.94-2.06 2.06-.94-2.06-.94-.94-2.06-.94 2.06-2.06.94zm-11 1L8.5 8.5l.94-2.06 2.06-.94-2.06-.94L8.5 2.5l-.94 2.06-2.06.94zm10 10l.94 2.06.94-2.06 2.06-.94-2.06-.94-.94-2.06-.94 2.06-2.06.94z\"/><path d=\"M17.41 7.96l-1.37-1.37c-.4-.4-.92-.59-1.43-.59-.52 0-1.04.2-1.43.59L10.3 9.45l-7.72 7.72c-.78.78-.78 2.05 0 2.83L4 21.41c.39.39.9.59 1.41.59.51 0 1.02-.2 1.41-.59l7.78-7.78 2.81-2.81c.8-.78.8-2.07 0-2.86zM5.41 20L4 18.59l7.72-7.72 1.47 1.35L5.41 20z\"/>\n",
       "  </svg>\n",
       "      </button>\n",
       "      \n",
       "  <style>\n",
       "    .colab-df-container {\n",
       "      display:flex;\n",
       "      flex-wrap:wrap;\n",
       "      gap: 12px;\n",
       "    }\n",
       "\n",
       "    .colab-df-convert {\n",
       "      background-color: #E8F0FE;\n",
       "      border: none;\n",
       "      border-radius: 50%;\n",
       "      cursor: pointer;\n",
       "      display: none;\n",
       "      fill: #1967D2;\n",
       "      height: 32px;\n",
       "      padding: 0 0 0 0;\n",
       "      width: 32px;\n",
       "    }\n",
       "\n",
       "    .colab-df-convert:hover {\n",
       "      background-color: #E2EBFA;\n",
       "      box-shadow: 0px 1px 2px rgba(60, 64, 67, 0.3), 0px 1px 3px 1px rgba(60, 64, 67, 0.15);\n",
       "      fill: #174EA6;\n",
       "    }\n",
       "\n",
       "    [theme=dark] .colab-df-convert {\n",
       "      background-color: #3B4455;\n",
       "      fill: #D2E3FC;\n",
       "    }\n",
       "\n",
       "    [theme=dark] .colab-df-convert:hover {\n",
       "      background-color: #434B5C;\n",
       "      box-shadow: 0px 1px 3px 1px rgba(0, 0, 0, 0.15);\n",
       "      filter: drop-shadow(0px 1px 2px rgba(0, 0, 0, 0.3));\n",
       "      fill: #FFFFFF;\n",
       "    }\n",
       "  </style>\n",
       "\n",
       "      <script>\n",
       "        const buttonEl =\n",
       "          document.querySelector('#df-97f5ea4f-7401-48b2-9e6d-8c7a0d43cf82 button.colab-df-convert');\n",
       "        buttonEl.style.display =\n",
       "          google.colab.kernel.accessAllowed ? 'block' : 'none';\n",
       "\n",
       "        async function convertToInteractive(key) {\n",
       "          const element = document.querySelector('#df-97f5ea4f-7401-48b2-9e6d-8c7a0d43cf82');\n",
       "          const dataTable =\n",
       "            await google.colab.kernel.invokeFunction('convertToInteractive',\n",
       "                                                     [key], {});\n",
       "          if (!dataTable) return;\n",
       "\n",
       "          const docLinkHtml = 'Like what you see? Visit the ' +\n",
       "            '<a target=\"_blank\" href=https://colab.research.google.com/notebooks/data_table.ipynb>data table notebook</a>'\n",
       "            + ' to learn more about interactive tables.';\n",
       "          element.innerHTML = '';\n",
       "          dataTable['output_type'] = 'display_data';\n",
       "          await google.colab.output.renderOutput(dataTable, element);\n",
       "          const docLink = document.createElement('div');\n",
       "          docLink.innerHTML = docLinkHtml;\n",
       "          element.appendChild(docLink);\n",
       "        }\n",
       "      </script>\n",
       "    </div>\n",
       "  </div>\n",
       "  "
      ],
      "text/plain": [
       "                                    complaint_text_clean  \\\n",
       "0      good morning my name is   and i appreciate it ...   \n",
       "1      i upgraded my   card inand was told by the age...   \n",
       "2      chase card was reported onhowever fraudulent a...   \n",
       "3      onwhile trying to book a     ticket i came acr...   \n",
       "4      my grand son give me check fori deposit it int...   \n",
       "...                                                  ...   \n",
       "21067  after being a chase card customer for well ove...   \n",
       "21068  on wednesday  i called chas my   visa credit c...   \n",
       "21069  i am not familiar with  pay and did not unders...   \n",
       "21070  i have had flawless credit foryrs ive had chas...   \n",
       "21071  roughlyyears ago i closed out my accounts with...   \n",
       "\n",
       "                               complaint_text_lemmatized  \\\n",
       "0      good morning name xxxx xxxx appreciate could h...   \n",
       "1      upgraded xxxx xxxx card inand told agent upgra...   \n",
       "2      chase card reported onhowever fraudulent appli...   \n",
       "3      onwhile trying book xxxx xxxx ticket came acro...   \n",
       "4      grand son give check fori deposit chase accoun...   \n",
       "...                                                  ...   \n",
       "21067  chase card customer well decade offered multip...   \n",
       "21068  wednesday xxxxxxxx called chas xxxx xxxx visa ...   \n",
       "21069  familiar xxxx pay understand great risk provid...   \n",
       "21070  flawless credit foryrs ive chase credit card c...   \n",
       "21071  roughlyyears ago closed account jp morgan chas...   \n",
       "\n",
       "                                   complaint_POS_removed  \\\n",
       "0      morning name appreciate chase bank service ini...   \n",
       "1      xxxx card inand agent date agent information o...   \n",
       "2      chase card application identity consent servic...   \n",
       "3      book ticket offer forto ticket card informatio...   \n",
       "4      son check deposit chase account fund chase ban...   \n",
       "...                                                  ...   \n",
       "21067  chase card customer decade solicitation credit...   \n",
       "21068  wednesday chas xxxx credit card provider claim...   \n",
       "21069  pay risk consumer chase bank chase banking dea...   \n",
       "21070  flawless credit chase credit card chase freedo...   \n",
       "21071  account jp bank order line credit pay account ...   \n",
       "\n",
       "                                         Complaint_clean  Topic  \n",
       "0      morning name appreciate chase bank service ini...      2  \n",
       "1      xxxx card inand agent date agent information o...      0  \n",
       "2      chase card application identity consent servic...      1  \n",
       "3      book ticket offer forto ticket card informatio...      1  \n",
       "4      son check deposit chase account fund chase ban...      3  \n",
       "...                                                  ...    ...  \n",
       "21067  chase card customer decade solicitation credit...      1  \n",
       "21068  wednesday chas xxxx credit card provider claim...      0  \n",
       "21069  pay risk consumer chase bank chase banking dea...      0  \n",
       "21070  flawless credit chase credit card chase freedo...      4  \n",
       "21071  account jp bank order line credit pay account ...      4  \n",
       "\n",
       "[21072 rows x 5 columns]"
      ]
     },
     "execution_count": 58,
     "metadata": {},
     "output_type": "execute_result"
    }
   ],
   "source": [
    "df_clean"
   ]
  },
  {
   "cell_type": "code",
   "execution_count": 59,
   "metadata": {
    "executionInfo": {
     "elapsed": 346,
     "status": "ok",
     "timestamp": 1648988803872,
     "user": {
      "displayName": "Jaya Srivastava",
      "userId": "07102034494739188338"
     },
     "user_tz": -330
    },
    "id": "Xx-FrbkWJrGH"
   },
   "outputs": [],
   "source": [
    "#Keep the columns\"complaint_what_happened\" & \"Topic\" only in the new dataframe --> training_data\n",
    "training_data= df_clean[['complaint_text_clean', 'Topic']]"
   ]
  },
  {
   "cell_type": "code",
   "execution_count": 60,
   "metadata": {
    "colab": {
     "base_uri": "https://localhost:8080/",
     "height": 423
    },
    "executionInfo": {
     "elapsed": 375,
     "status": "ok",
     "timestamp": 1648988807257,
     "user": {
      "displayName": "Jaya Srivastava",
      "userId": "07102034494739188338"
     },
     "user_tz": -330
    },
    "id": "lVg2pa12JrGI",
    "outputId": "5fb6a0d9-449b-40ad-8ed3-1b9b734f13a8"
   },
   "outputs": [
    {
     "data": {
      "text/html": [
       "\n",
       "  <div id=\"df-6034bcdd-3dd4-41cc-90f0-a296fb95a506\">\n",
       "    <div class=\"colab-df-container\">\n",
       "      <div>\n",
       "<style scoped>\n",
       "    .dataframe tbody tr th:only-of-type {\n",
       "        vertical-align: middle;\n",
       "    }\n",
       "\n",
       "    .dataframe tbody tr th {\n",
       "        vertical-align: top;\n",
       "    }\n",
       "\n",
       "    .dataframe thead th {\n",
       "        text-align: right;\n",
       "    }\n",
       "</style>\n",
       "<table border=\"1\" class=\"dataframe\">\n",
       "  <thead>\n",
       "    <tr style=\"text-align: right;\">\n",
       "      <th></th>\n",
       "      <th>complaint_text_clean</th>\n",
       "      <th>Topic</th>\n",
       "    </tr>\n",
       "  </thead>\n",
       "  <tbody>\n",
       "    <tr>\n",
       "      <th>0</th>\n",
       "      <td>good morning my name is   and i appreciate it ...</td>\n",
       "      <td>2</td>\n",
       "    </tr>\n",
       "    <tr>\n",
       "      <th>1</th>\n",
       "      <td>i upgraded my   card inand was told by the age...</td>\n",
       "      <td>0</td>\n",
       "    </tr>\n",
       "    <tr>\n",
       "      <th>2</th>\n",
       "      <td>chase card was reported onhowever fraudulent a...</td>\n",
       "      <td>1</td>\n",
       "    </tr>\n",
       "    <tr>\n",
       "      <th>3</th>\n",
       "      <td>onwhile trying to book a     ticket i came acr...</td>\n",
       "      <td>1</td>\n",
       "    </tr>\n",
       "    <tr>\n",
       "      <th>4</th>\n",
       "      <td>my grand son give me check fori deposit it int...</td>\n",
       "      <td>3</td>\n",
       "    </tr>\n",
       "    <tr>\n",
       "      <th>...</th>\n",
       "      <td>...</td>\n",
       "      <td>...</td>\n",
       "    </tr>\n",
       "    <tr>\n",
       "      <th>21067</th>\n",
       "      <td>after being a chase card customer for well ove...</td>\n",
       "      <td>1</td>\n",
       "    </tr>\n",
       "    <tr>\n",
       "      <th>21068</th>\n",
       "      <td>on wednesday  i called chas my   visa credit c...</td>\n",
       "      <td>0</td>\n",
       "    </tr>\n",
       "    <tr>\n",
       "      <th>21069</th>\n",
       "      <td>i am not familiar with  pay and did not unders...</td>\n",
       "      <td>0</td>\n",
       "    </tr>\n",
       "    <tr>\n",
       "      <th>21070</th>\n",
       "      <td>i have had flawless credit foryrs ive had chas...</td>\n",
       "      <td>4</td>\n",
       "    </tr>\n",
       "    <tr>\n",
       "      <th>21071</th>\n",
       "      <td>roughlyyears ago i closed out my accounts with...</td>\n",
       "      <td>4</td>\n",
       "    </tr>\n",
       "  </tbody>\n",
       "</table>\n",
       "<p>21072 rows × 2 columns</p>\n",
       "</div>\n",
       "      <button class=\"colab-df-convert\" onclick=\"convertToInteractive('df-6034bcdd-3dd4-41cc-90f0-a296fb95a506')\"\n",
       "              title=\"Convert this dataframe to an interactive table.\"\n",
       "              style=\"display:none;\">\n",
       "        \n",
       "  <svg xmlns=\"http://www.w3.org/2000/svg\" height=\"24px\"viewBox=\"0 0 24 24\"\n",
       "       width=\"24px\">\n",
       "    <path d=\"M0 0h24v24H0V0z\" fill=\"none\"/>\n",
       "    <path d=\"M18.56 5.44l.94 2.06.94-2.06 2.06-.94-2.06-.94-.94-2.06-.94 2.06-2.06.94zm-11 1L8.5 8.5l.94-2.06 2.06-.94-2.06-.94L8.5 2.5l-.94 2.06-2.06.94zm10 10l.94 2.06.94-2.06 2.06-.94-2.06-.94-.94-2.06-.94 2.06-2.06.94z\"/><path d=\"M17.41 7.96l-1.37-1.37c-.4-.4-.92-.59-1.43-.59-.52 0-1.04.2-1.43.59L10.3 9.45l-7.72 7.72c-.78.78-.78 2.05 0 2.83L4 21.41c.39.39.9.59 1.41.59.51 0 1.02-.2 1.41-.59l7.78-7.78 2.81-2.81c.8-.78.8-2.07 0-2.86zM5.41 20L4 18.59l7.72-7.72 1.47 1.35L5.41 20z\"/>\n",
       "  </svg>\n",
       "      </button>\n",
       "      \n",
       "  <style>\n",
       "    .colab-df-container {\n",
       "      display:flex;\n",
       "      flex-wrap:wrap;\n",
       "      gap: 12px;\n",
       "    }\n",
       "\n",
       "    .colab-df-convert {\n",
       "      background-color: #E8F0FE;\n",
       "      border: none;\n",
       "      border-radius: 50%;\n",
       "      cursor: pointer;\n",
       "      display: none;\n",
       "      fill: #1967D2;\n",
       "      height: 32px;\n",
       "      padding: 0 0 0 0;\n",
       "      width: 32px;\n",
       "    }\n",
       "\n",
       "    .colab-df-convert:hover {\n",
       "      background-color: #E2EBFA;\n",
       "      box-shadow: 0px 1px 2px rgba(60, 64, 67, 0.3), 0px 1px 3px 1px rgba(60, 64, 67, 0.15);\n",
       "      fill: #174EA6;\n",
       "    }\n",
       "\n",
       "    [theme=dark] .colab-df-convert {\n",
       "      background-color: #3B4455;\n",
       "      fill: #D2E3FC;\n",
       "    }\n",
       "\n",
       "    [theme=dark] .colab-df-convert:hover {\n",
       "      background-color: #434B5C;\n",
       "      box-shadow: 0px 1px 3px 1px rgba(0, 0, 0, 0.15);\n",
       "      filter: drop-shadow(0px 1px 2px rgba(0, 0, 0, 0.3));\n",
       "      fill: #FFFFFF;\n",
       "    }\n",
       "  </style>\n",
       "\n",
       "      <script>\n",
       "        const buttonEl =\n",
       "          document.querySelector('#df-6034bcdd-3dd4-41cc-90f0-a296fb95a506 button.colab-df-convert');\n",
       "        buttonEl.style.display =\n",
       "          google.colab.kernel.accessAllowed ? 'block' : 'none';\n",
       "\n",
       "        async function convertToInteractive(key) {\n",
       "          const element = document.querySelector('#df-6034bcdd-3dd4-41cc-90f0-a296fb95a506');\n",
       "          const dataTable =\n",
       "            await google.colab.kernel.invokeFunction('convertToInteractive',\n",
       "                                                     [key], {});\n",
       "          if (!dataTable) return;\n",
       "\n",
       "          const docLinkHtml = 'Like what you see? Visit the ' +\n",
       "            '<a target=\"_blank\" href=https://colab.research.google.com/notebooks/data_table.ipynb>data table notebook</a>'\n",
       "            + ' to learn more about interactive tables.';\n",
       "          element.innerHTML = '';\n",
       "          dataTable['output_type'] = 'display_data';\n",
       "          await google.colab.output.renderOutput(dataTable, element);\n",
       "          const docLink = document.createElement('div');\n",
       "          docLink.innerHTML = docLinkHtml;\n",
       "          element.appendChild(docLink);\n",
       "        }\n",
       "      </script>\n",
       "    </div>\n",
       "  </div>\n",
       "  "
      ],
      "text/plain": [
       "                                    complaint_text_clean  Topic\n",
       "0      good morning my name is   and i appreciate it ...      2\n",
       "1      i upgraded my   card inand was told by the age...      0\n",
       "2      chase card was reported onhowever fraudulent a...      1\n",
       "3      onwhile trying to book a     ticket i came acr...      1\n",
       "4      my grand son give me check fori deposit it int...      3\n",
       "...                                                  ...    ...\n",
       "21067  after being a chase card customer for well ove...      1\n",
       "21068  on wednesday  i called chas my   visa credit c...      0\n",
       "21069  i am not familiar with  pay and did not unders...      0\n",
       "21070  i have had flawless credit foryrs ive had chas...      4\n",
       "21071  roughlyyears ago i closed out my accounts with...      4\n",
       "\n",
       "[21072 rows x 2 columns]"
      ]
     },
     "execution_count": 60,
     "metadata": {},
     "output_type": "execute_result"
    }
   ],
   "source": [
    "training_data"
   ]
  },
  {
   "cell_type": "markdown",
   "metadata": {
    "id": "280Vbqk-7a8M"
   },
   "source": [
    "####Apply the supervised models on the training data created. In this process, you have to do the following:\n",
    "* Create the vector counts using Count Vectoriser\n",
    "* Transform the word vecotr to tf-idf\n",
    "* Create the train & test data using the train_test_split on the tf-idf & topics\n"
   ]
  },
  {
   "cell_type": "code",
   "execution_count": 61,
   "metadata": {
    "executionInfo": {
     "elapsed": 3980,
     "status": "ok",
     "timestamp": 1648988815617,
     "user": {
      "displayName": "Jaya Srivastava",
      "userId": "07102034494739188338"
     },
     "user_tz": -330
    },
    "id": "oUlQpgkzJrGI"
   },
   "outputs": [],
   "source": [
    "#Write your code to get the Vector count\n",
    "count_vect = CountVectorizer()\n",
    "train_counts = count_vect.fit_transform(training_data['complaint_text_clean'])\n",
    "\n",
    "#Write your code here to transform the word vector to tf-idf\n",
    "tfidf_transformer = TfidfTransformer()\n",
    "train_data_tfidf = tfidf_transformer.fit_transform(train_counts)"
   ]
  },
  {
   "cell_type": "code",
   "execution_count": 63,
   "metadata": {
    "executionInfo": {
     "elapsed": 2,
     "status": "ok",
     "timestamp": 1648988817012,
     "user": {
      "displayName": "Jaya Srivastava",
      "userId": "07102034494739188338"
     },
     "user_tz": -330
    },
    "id": "iWwtpiBPF8Lq"
   },
   "outputs": [],
   "source": [
    "X_train, X_test, y_train, y_test = train_test_split(train_data_tfidf, training_data.Topic, test_size=0.25, random_state=50)"
   ]
  },
  {
   "cell_type": "code",
   "execution_count": 64,
   "metadata": {
    "colab": {
     "base_uri": "https://localhost:8080/"
    },
    "executionInfo": {
     "elapsed": 590,
     "status": "ok",
     "timestamp": 1648988820730,
     "user": {
      "displayName": "Jaya Srivastava",
      "userId": "07102034494739188338"
     },
     "user_tz": -330
    },
    "id": "vr4h7iDuF81E",
    "outputId": "d069aa12-149e-4cca-e93c-41052ae8419d"
   },
   "outputs": [
    {
     "name": "stdout",
     "output_type": "stream",
     "text": [
      "X_train (15804, 48934)\n",
      "X_test (5268, 48934)\n",
      "y_train (15804,)\n",
      "y_test (5268,)\n"
     ]
    }
   ],
   "source": [
    "print('X_train', X_train.shape)\n",
    "print('X_test', X_test.shape)\n",
    "print('y_train', y_train.shape)\n",
    "print('y_test', y_test.shape)"
   ]
  },
  {
   "cell_type": "markdown",
   "metadata": {
    "id": "uMU3vj6w-wqL"
   },
   "source": [
    "You have to try atleast 3 models on the train & test data from these options:\n",
    "* Logistic regression\n",
    "* Decision Tree\n",
    "* Random Forest\n",
    "* Naive Bayes (optional)\n",
    "\n",
    "**Using the required evaluation metrics judge the tried models and select the ones performing the best**"
   ]
  },
  {
   "cell_type": "code",
   "execution_count": null,
   "metadata": {
    "id": "udLHpPsZJrGI"
   },
   "outputs": [],
   "source": [
    "# Write your code here to build any 3 models and evaluate them using the required metrics"
   ]
  },
  {
   "cell_type": "code",
   "execution_count": null,
   "metadata": {
    "id": "N2OznsObJrGP"
   },
   "outputs": [],
   "source": []
  },
  {
   "cell_type": "markdown",
   "metadata": {
    "id": "Dt2TH3GgKt3o"
   },
   "source": [
    "### Logistic regression"
   ]
  },
  {
   "cell_type": "code",
   "execution_count": 65,
   "metadata": {
    "executionInfo": {
     "elapsed": 345,
     "status": "ok",
     "timestamp": 1648988830773,
     "user": {
      "displayName": "Jaya Srivastava",
      "userId": "07102034494739188338"
     },
     "user_tz": -330
    },
    "id": "Y-sClmHCSNOv"
   },
   "outputs": [],
   "source": [
    "logistic = LogisticRegression(multi_class='multinomial', solver='saga')"
   ]
  },
  {
   "cell_type": "code",
   "execution_count": 66,
   "metadata": {
    "executionInfo": {
     "elapsed": 2444,
     "status": "ok",
     "timestamp": 1648988835891,
     "user": {
      "displayName": "Jaya Srivastava",
      "userId": "07102034494739188338"
     },
     "user_tz": -330
    },
    "id": "fkJFPLf4SNL9"
   },
   "outputs": [],
   "source": [
    "logit = logistic.fit(X_train, y_train)"
   ]
  },
  {
   "cell_type": "code",
   "execution_count": 67,
   "metadata": {
    "executionInfo": {
     "elapsed": 353,
     "status": "ok",
     "timestamp": 1648988838850,
     "user": {
      "displayName": "Jaya Srivastava",
      "userId": "07102034494739188338"
     },
     "user_tz": -330
    },
    "id": "PCvPTUlsShsQ"
   },
   "outputs": [],
   "source": [
    "y_pred= logit.predict(X_test)"
   ]
  },
  {
   "cell_type": "code",
   "execution_count": 68,
   "metadata": {
    "colab": {
     "base_uri": "https://localhost:8080/"
    },
    "executionInfo": {
     "elapsed": 341,
     "status": "ok",
     "timestamp": 1648988841751,
     "user": {
      "displayName": "Jaya Srivastava",
      "userId": "07102034494739188338"
     },
     "user_tz": -330
    },
    "id": "NDlYpmjyDFbb",
    "outputId": "a699012a-db4d-4538-bf59-4d909124d3a7"
   },
   "outputs": [
    {
     "data": {
      "text/plain": [
       "0.9470387243735763"
      ]
     },
     "execution_count": 68,
     "metadata": {},
     "output_type": "execute_result"
    }
   ],
   "source": [
    "accuracy_score(y_test, y_pred)"
   ]
  },
  {
   "cell_type": "code",
   "execution_count": 69,
   "metadata": {
    "colab": {
     "base_uri": "https://localhost:8080/"
    },
    "executionInfo": {
     "elapsed": 796,
     "status": "ok",
     "timestamp": 1648988845882,
     "user": {
      "displayName": "Jaya Srivastava",
      "userId": "07102034494739188338"
     },
     "user_tz": -330
    },
    "id": "sdJTCC29Shp0",
    "outputId": "7a119190-8fd2-4f45-8a58-7320ee0d3f59"
   },
   "outputs": [
    {
     "name": "stdout",
     "output_type": "stream",
     "text": [
      "              precision    recall  f1-score   support\n",
      "\n",
      "           0       0.92      0.96      0.94      1192\n",
      "           1       0.97      0.94      0.95      1085\n",
      "           2       0.96      0.94      0.95       945\n",
      "           3       0.94      0.98      0.96      1412\n",
      "           4       0.97      0.87      0.92       634\n",
      "\n",
      "    accuracy                           0.95      5268\n",
      "   macro avg       0.95      0.94      0.94      5268\n",
      "weighted avg       0.95      0.95      0.95      5268\n",
      "\n"
     ]
    }
   ],
   "source": [
    "print(classification_report(y_test, y_pred));"
   ]
  },
  {
   "cell_type": "markdown",
   "metadata": {
    "id": "t3KDgufcKwma"
   },
   "source": [
    "### Decision Tree"
   ]
  },
  {
   "cell_type": "code",
   "execution_count": 70,
   "metadata": {
    "executionInfo": {
     "elapsed": 412,
     "status": "ok",
     "timestamp": 1648988855149,
     "user": {
      "displayName": "Jaya Srivastava",
      "userId": "07102034494739188338"
     },
     "user_tz": -330
    },
    "id": "r9nD7aAsTLGg"
   },
   "outputs": [],
   "source": [
    "dt = DecisionTreeClassifier()"
   ]
  },
  {
   "cell_type": "code",
   "execution_count": 71,
   "metadata": {
    "executionInfo": {
     "elapsed": 364,
     "status": "ok",
     "timestamp": 1648988858991,
     "user": {
      "displayName": "Jaya Srivastava",
      "userId": "07102034494739188338"
     },
     "user_tz": -330
    },
    "id": "J8eBXSfiTLEN"
   },
   "outputs": [],
   "source": [
    "# hyper parameter tuning for Decision Tree\n",
    "params = {\n",
    "    \"criterion\": [\"gini\", \"entropy\"],\n",
    "    \"max_depth\": [10,20],\n",
    "    \"min_samples_leaf\": [5,10]\n",
    "}"
   ]
  },
  {
   "cell_type": "code",
   "execution_count": 72,
   "metadata": {
    "executionInfo": {
     "elapsed": 397,
     "status": "ok",
     "timestamp": 1648988862451,
     "user": {
      "displayName": "Jaya Srivastava",
      "userId": "07102034494739188338"
     },
     "user_tz": -330
    },
    "id": "jSOabN6RTLCC"
   },
   "outputs": [],
   "source": [
    "grid_search = GridSearchCV(estimator=dt,\n",
    "                           param_grid=params,\n",
    "                           cv=4,\n",
    "                           n_jobs=-1, verbose=1, scoring=\"f1_weighted\")"
   ]
  },
  {
   "cell_type": "code",
   "execution_count": 73,
   "metadata": {
    "colab": {
     "base_uri": "https://localhost:8080/"
    },
    "executionInfo": {
     "elapsed": 145457,
     "status": "ok",
     "timestamp": 1648989011863,
     "user": {
      "displayName": "Jaya Srivastava",
      "userId": "07102034494739188338"
     },
     "user_tz": -330
    },
    "id": "iUuSEmuOTK_V",
    "outputId": "ed514bc4-0650-4baa-8292-454b2f1547a3"
   },
   "outputs": [
    {
     "name": "stdout",
     "output_type": "stream",
     "text": [
      "Fitting 4 folds for each of 8 candidates, totalling 32 fits\n",
      "CPU times: user 9.04 s, sys: 264 ms, total: 9.31 s\n",
      "Wall time: 2min 25s\n"
     ]
    },
    {
     "data": {
      "text/plain": [
       "GridSearchCV(cv=4, estimator=DecisionTreeClassifier(), n_jobs=-1,\n",
       "             param_grid={'criterion': ['gini', 'entropy'],\n",
       "                         'max_depth': [10, 20], 'min_samples_leaf': [5, 10]},\n",
       "             scoring='f1_weighted', verbose=1)"
      ]
     },
     "execution_count": 73,
     "metadata": {},
     "output_type": "execute_result"
    }
   ],
   "source": [
    "%%time\n",
    "grid_search.fit(X_train, y_train)"
   ]
  },
  {
   "cell_type": "code",
   "execution_count": 74,
   "metadata": {
    "colab": {
     "base_uri": "https://localhost:8080/"
    },
    "executionInfo": {
     "elapsed": 377,
     "status": "ok",
     "timestamp": 1648989028811,
     "user": {
      "displayName": "Jaya Srivastava",
      "userId": "07102034494739188338"
     },
     "user_tz": -330
    },
    "id": "dEZAQGDpTk6S",
    "outputId": "88c4c3bf-2ee6-4100-9eae-bf955f9b11ac"
   },
   "outputs": [
    {
     "data": {
      "text/plain": [
       "0.7772878861216665"
      ]
     },
     "execution_count": 74,
     "metadata": {},
     "output_type": "execute_result"
    }
   ],
   "source": [
    "grid_search.best_score_"
   ]
  },
  {
   "cell_type": "code",
   "execution_count": null,
   "metadata": {
    "id": "7MAw0L5_Z7yL"
   },
   "outputs": [],
   "source": []
  },
  {
   "cell_type": "code",
   "execution_count": 75,
   "metadata": {
    "colab": {
     "base_uri": "https://localhost:8080/"
    },
    "executionInfo": {
     "elapsed": 375,
     "status": "ok",
     "timestamp": 1648989034747,
     "user": {
      "displayName": "Jaya Srivastava",
      "userId": "07102034494739188338"
     },
     "user_tz": -330
    },
    "id": "v_MHqM4HUWJZ",
    "outputId": "f5789d80-8f71-448e-c8e5-c12e8dd8574c"
   },
   "outputs": [
    {
     "data": {
      "text/plain": [
       "DecisionTreeClassifier(max_depth=20, min_samples_leaf=10)"
      ]
     },
     "execution_count": 75,
     "metadata": {},
     "output_type": "execute_result"
    }
   ],
   "source": [
    "dt_best = grid_search.best_estimator_\n",
    "dt_best"
   ]
  },
  {
   "cell_type": "code",
   "execution_count": 76,
   "metadata": {
    "executionInfo": {
     "elapsed": 3,
     "status": "ok",
     "timestamp": 1648989037811,
     "user": {
      "displayName": "Jaya Srivastava",
      "userId": "07102034494739188338"
     },
     "user_tz": -330
    },
    "id": "hL_79DEeJfhg"
   },
   "outputs": [],
   "source": [
    "y_test = dt_best.predict(X_test)"
   ]
  },
  {
   "cell_type": "code",
   "execution_count": 77,
   "metadata": {
    "colab": {
     "base_uri": "https://localhost:8080/"
    },
    "executionInfo": {
     "elapsed": 423,
     "status": "ok",
     "timestamp": 1648989043303,
     "user": {
      "displayName": "Jaya Srivastava",
      "userId": "07102034494739188338"
     },
     "user_tz": -330
    },
    "id": "LKgMZgJ-DWoq",
    "outputId": "05786575-d4e6-4a21-d55c-7f0d167b1961"
   },
   "outputs": [
    {
     "data": {
      "text/plain": [
       "0.7718299164768413"
      ]
     },
     "execution_count": 77,
     "metadata": {},
     "output_type": "execute_result"
    }
   ],
   "source": [
    "accuracy_score(y_test, y_pred)"
   ]
  },
  {
   "cell_type": "code",
   "execution_count": 78,
   "metadata": {
    "colab": {
     "base_uri": "https://localhost:8080/"
    },
    "executionInfo": {
     "elapsed": 364,
     "status": "ok",
     "timestamp": 1648989046295,
     "user": {
      "displayName": "Jaya Srivastava",
      "userId": "07102034494739188338"
     },
     "user_tz": -330
    },
    "id": "adi3JaqjDWos",
    "outputId": "c0114f6f-6d7d-4467-cbda-e961afe4a37b"
   },
   "outputs": [
    {
     "name": "stdout",
     "output_type": "stream",
     "text": [
      "              precision    recall  f1-score   support\n",
      "\n",
      "           0       0.73      0.71      0.72      1268\n",
      "           1       0.80      0.78      0.79      1074\n",
      "           2       0.81      0.80      0.80       931\n",
      "           3       0.80      0.84      0.82      1394\n",
      "           4       0.70      0.66      0.68       601\n",
      "\n",
      "    accuracy                           0.77      5268\n",
      "   macro avg       0.77      0.76      0.76      5268\n",
      "weighted avg       0.77      0.77      0.77      5268\n",
      "\n"
     ]
    }
   ],
   "source": [
    "print(classification_report(y_test, y_pred));"
   ]
  },
  {
   "cell_type": "markdown",
   "metadata": {
    "id": "mD4xOlOQKw_H"
   },
   "source": [
    "### Random Forest"
   ]
  },
  {
   "cell_type": "code",
   "execution_count": 79,
   "metadata": {
    "executionInfo": {
     "elapsed": 377,
     "status": "ok",
     "timestamp": 1648989050047,
     "user": {
      "displayName": "Jaya Srivastava",
      "userId": "07102034494739188338"
     },
     "user_tz": -330
    },
    "id": "46_Kqqy9IjAZ"
   },
   "outputs": [],
   "source": [
    "rf = RandomForestClassifier(max_depth=40, min_samples_leaf=5, n_estimators=400, n_jobs=-1)"
   ]
  },
  {
   "cell_type": "code",
   "execution_count": 80,
   "metadata": {
    "colab": {
     "base_uri": "https://localhost:8080/"
    },
    "executionInfo": {
     "elapsed": 39764,
     "status": "ok",
     "timestamp": 1648989092089,
     "user": {
      "displayName": "Jaya Srivastava",
      "userId": "07102034494739188338"
     },
     "user_tz": -330
    },
    "id": "PDEj_AEiNWRI",
    "outputId": "a50e0337-c6d9-4c9d-fcb7-bc8eca022da8"
   },
   "outputs": [
    {
     "name": "stdout",
     "output_type": "stream",
     "text": [
      "CPU times: user 1min 15s, sys: 176 ms, total: 1min 16s\n",
      "Wall time: 39.4 s\n"
     ]
    },
    {
     "data": {
      "text/plain": [
       "RandomForestClassifier(max_depth=40, min_samples_leaf=5, n_estimators=400,\n",
       "                       n_jobs=-1)"
      ]
     },
     "execution_count": 80,
     "metadata": {},
     "output_type": "execute_result"
    }
   ],
   "source": [
    "%%time\n",
    "rf.fit(X_train, y_train)"
   ]
  },
  {
   "cell_type": "code",
   "execution_count": 81,
   "metadata": {
    "executionInfo": {
     "elapsed": 1174,
     "status": "ok",
     "timestamp": 1648989093261,
     "user": {
      "displayName": "Jaya Srivastava",
      "userId": "07102034494739188338"
     },
     "user_tz": -330
    },
    "id": "y9JNH6BcPsRY"
   },
   "outputs": [],
   "source": [
    "y_pred = rf.predict(X_test)"
   ]
  },
  {
   "cell_type": "code",
   "execution_count": 82,
   "metadata": {
    "colab": {
     "base_uri": "https://localhost:8080/"
    },
    "executionInfo": {
     "elapsed": 9,
     "status": "ok",
     "timestamp": 1648989093263,
     "user": {
      "displayName": "Jaya Srivastava",
      "userId": "07102034494739188338"
     },
     "user_tz": -330
    },
    "id": "bMEldWX5DZ-0",
    "outputId": "2e3257bd-7dcb-45da-a080-2f98df857d6d"
   },
   "outputs": [
    {
     "data": {
      "text/plain": [
       "0.7055808656036446"
      ]
     },
     "execution_count": 82,
     "metadata": {},
     "output_type": "execute_result"
    }
   ],
   "source": [
    "accuracy_score(y_test, y_pred)"
   ]
  },
  {
   "cell_type": "code",
   "execution_count": 83,
   "metadata": {
    "colab": {
     "base_uri": "https://localhost:8080/"
    },
    "executionInfo": {
     "elapsed": 7,
     "status": "ok",
     "timestamp": 1648989093263,
     "user": {
      "displayName": "Jaya Srivastava",
      "userId": "07102034494739188338"
     },
     "user_tz": -330
    },
    "id": "r2js20XyDZ-2",
    "outputId": "75f6ba36-c74b-4367-d794-8f1f01f5dbcd"
   },
   "outputs": [
    {
     "name": "stdout",
     "output_type": "stream",
     "text": [
      "              precision    recall  f1-score   support\n",
      "\n",
      "           0       0.71      0.63      0.67      1268\n",
      "           1       0.69      0.72      0.70      1074\n",
      "           2       0.79      0.78      0.79       931\n",
      "           3       0.66      0.87      0.75      1394\n",
      "           4       0.78      0.33      0.47       601\n",
      "\n",
      "    accuracy                           0.71      5268\n",
      "   macro avg       0.73      0.67      0.68      5268\n",
      "weighted avg       0.71      0.71      0.70      5268\n",
      "\n"
     ]
    }
   ],
   "source": [
    "print(classification_report(y_test, y_pred));"
   ]
  },
  {
   "cell_type": "markdown",
   "metadata": {
    "id": "Q36_C6wbK2B3"
   },
   "source": [
    "### Naive Bayes"
   ]
  },
  {
   "cell_type": "code",
   "execution_count": 84,
   "metadata": {
    "executionInfo": {
     "elapsed": 473,
     "status": "ok",
     "timestamp": 1648989102349,
     "user": {
      "displayName": "Jaya Srivastava",
      "userId": "07102034494739188338"
     },
     "user_tz": -330
    },
    "id": "bmkKTYZJXGk_"
   },
   "outputs": [],
   "source": [
    "mnb = MultinomialNB()"
   ]
  },
  {
   "cell_type": "code",
   "execution_count": 85,
   "metadata": {
    "colab": {
     "base_uri": "https://localhost:8080/"
    },
    "executionInfo": {
     "elapsed": 450,
     "status": "ok",
     "timestamp": 1648989105390,
     "user": {
      "displayName": "Jaya Srivastava",
      "userId": "07102034494739188338"
     },
     "user_tz": -330
    },
    "id": "HMMmQnD_11DM",
    "outputId": "9354d05a-b662-4926-b0cc-ae327fe86230"
   },
   "outputs": [
    {
     "data": {
      "text/plain": [
       "MultinomialNB()"
      ]
     },
     "execution_count": 85,
     "metadata": {},
     "output_type": "execute_result"
    }
   ],
   "source": [
    "mnb.fit(X_train, y_train)"
   ]
  },
  {
   "cell_type": "code",
   "execution_count": 86,
   "metadata": {
    "executionInfo": {
     "elapsed": 375,
     "status": "ok",
     "timestamp": 1648989108109,
     "user": {
      "displayName": "Jaya Srivastava",
      "userId": "07102034494739188338"
     },
     "user_tz": -330
    },
    "id": "EUQyQRkO11DO"
   },
   "outputs": [],
   "source": [
    "y_pred = mnb.predict(X_test)"
   ]
  },
  {
   "cell_type": "code",
   "execution_count": 87,
   "metadata": {
    "colab": {
     "base_uri": "https://localhost:8080/"
    },
    "executionInfo": {
     "elapsed": 340,
     "status": "ok",
     "timestamp": 1648989110459,
     "user": {
      "displayName": "Jaya Srivastava",
      "userId": "07102034494739188338"
     },
     "user_tz": -330
    },
    "id": "m9ylD25xDcO9",
    "outputId": "db7a6ccf-af88-45eb-d165-92885796ef87"
   },
   "outputs": [
    {
     "data": {
      "text/plain": [
       "0.6002277904328018"
      ]
     },
     "execution_count": 87,
     "metadata": {},
     "output_type": "execute_result"
    }
   ],
   "source": [
    "accuracy_score(y_test, y_pred)"
   ]
  },
  {
   "cell_type": "code",
   "execution_count": 88,
   "metadata": {
    "colab": {
     "base_uri": "https://localhost:8080/"
    },
    "executionInfo": {
     "elapsed": 570,
     "status": "ok",
     "timestamp": 1648989113101,
     "user": {
      "displayName": "Jaya Srivastava",
      "userId": "07102034494739188338"
     },
     "user_tz": -330
    },
    "id": "bjHSKNehDcO-",
    "outputId": "3c86c773-7f22-494f-b313-5ecd5bf092ea"
   },
   "outputs": [
    {
     "name": "stdout",
     "output_type": "stream",
     "text": [
      "              precision    recall  f1-score   support\n",
      "\n",
      "           0       0.64      0.56      0.60      1268\n",
      "           1       0.73      0.51      0.60      1074\n",
      "           2       0.78      0.66      0.71       931\n",
      "           3       0.49      0.91      0.63      1394\n",
      "           4       0.82      0.05      0.10       601\n",
      "\n",
      "    accuracy                           0.60      5268\n",
      "   macro avg       0.69      0.54      0.53      5268\n",
      "weighted avg       0.66      0.60      0.57      5268\n",
      "\n"
     ]
    }
   ],
   "source": [
    "print(classification_report(y_test, y_pred));"
   ]
  },
  {
   "cell_type": "markdown",
   "metadata": {
    "id": "oS3NK6vbIH0a"
   },
   "source": [
    "As observed, ***multinomial logistic regression*** has the highest metrics(accuracy, precision, recall) and has comparatively performed better than other models. "
   ]
  },
  {
   "cell_type": "markdown",
   "metadata": {
    "id": "8kyscK9h15fr"
   },
   "source": [
    "---"
   ]
  }
 ],
 "metadata": {
  "colab": {
   "collapsed_sections": [],
   "name": "5_6219641544060699823.ipynb",
   "provenance": []
  },
  "kernelspec": {
   "display_name": "Python 3",
   "language": "python",
   "name": "python3"
  },
  "language_info": {
   "codemirror_mode": {
    "name": "ipython",
    "version": 3
   },
   "file_extension": ".py",
   "mimetype": "text/x-python",
   "name": "python",
   "nbconvert_exporter": "python",
   "pygments_lexer": "ipython3",
   "version": "3.8.5"
  },
  "widgets": {
   "application/vnd.jupyter.widget-state+json": {
    "000c40fdfd174fc192ec8b9ecb8bb6f9": {
     "model_module": "@jupyter-widgets/controls",
     "model_module_version": "1.5.0",
     "model_name": "HTMLModel",
     "state": {
      "_dom_classes": [],
      "_model_module": "@jupyter-widgets/controls",
      "_model_module_version": "1.5.0",
      "_model_name": "HTMLModel",
      "_view_count": null,
      "_view_module": "@jupyter-widgets/controls",
      "_view_module_version": "1.5.0",
      "_view_name": "HTMLView",
      "description": "",
      "description_tooltip": null,
      "layout": "IPY_MODEL_55893de5836e4f6393de3e0ef062027a",
      "placeholder": "​",
      "style": "IPY_MODEL_4da02588daa846599d17ca94ac29a562",
      "value": " 21072/21072 [00:35&lt;00:00, 582.59it/s]"
     }
    },
    "04516e62ae0343bea394c900959b0d7d": {
     "model_module": "@jupyter-widgets/base",
     "model_module_version": "1.2.0",
     "model_name": "LayoutModel",
     "state": {
      "_model_module": "@jupyter-widgets/base",
      "_model_module_version": "1.2.0",
      "_model_name": "LayoutModel",
      "_view_count": null,
      "_view_module": "@jupyter-widgets/base",
      "_view_module_version": "1.2.0",
      "_view_name": "LayoutView",
      "align_content": null,
      "align_items": null,
      "align_self": null,
      "border": null,
      "bottom": null,
      "display": null,
      "flex": null,
      "flex_flow": null,
      "grid_area": null,
      "grid_auto_columns": null,
      "grid_auto_flow": null,
      "grid_auto_rows": null,
      "grid_column": null,
      "grid_gap": null,
      "grid_row": null,
      "grid_template_areas": null,
      "grid_template_columns": null,
      "grid_template_rows": null,
      "height": null,
      "justify_content": null,
      "justify_items": null,
      "left": null,
      "margin": null,
      "max_height": null,
      "max_width": null,
      "min_height": null,
      "min_width": null,
      "object_fit": null,
      "object_position": null,
      "order": null,
      "overflow": null,
      "overflow_x": null,
      "overflow_y": null,
      "padding": null,
      "right": null,
      "top": null,
      "visibility": null,
      "width": null
     }
    },
    "0843581df6334320ba57c99c3576b8ff": {
     "model_module": "@jupyter-widgets/controls",
     "model_module_version": "1.5.0",
     "model_name": "HTMLModel",
     "state": {
      "_dom_classes": [],
      "_model_module": "@jupyter-widgets/controls",
      "_model_module_version": "1.5.0",
      "_model_name": "HTMLModel",
      "_view_count": null,
      "_view_module": "@jupyter-widgets/controls",
      "_view_module_version": "1.5.0",
      "_view_name": "HTMLView",
      "description": "",
      "description_tooltip": null,
      "layout": "IPY_MODEL_2d4e4e09ddaf4633ac631e329e98c740",
      "placeholder": "​",
      "style": "IPY_MODEL_4f75aa1ce5cd44248b204fdf5132847c",
      "value": "Pandas Apply: 100%"
     }
    },
    "0c28e4f540284003bbe826ee2f354223": {
     "model_module": "@jupyter-widgets/base",
     "model_module_version": "1.2.0",
     "model_name": "LayoutModel",
     "state": {
      "_model_module": "@jupyter-widgets/base",
      "_model_module_version": "1.2.0",
      "_model_name": "LayoutModel",
      "_view_count": null,
      "_view_module": "@jupyter-widgets/base",
      "_view_module_version": "1.2.0",
      "_view_name": "LayoutView",
      "align_content": null,
      "align_items": null,
      "align_self": null,
      "border": null,
      "bottom": null,
      "display": null,
      "flex": null,
      "flex_flow": null,
      "grid_area": null,
      "grid_auto_columns": null,
      "grid_auto_flow": null,
      "grid_auto_rows": null,
      "grid_column": null,
      "grid_gap": null,
      "grid_row": null,
      "grid_template_areas": null,
      "grid_template_columns": null,
      "grid_template_rows": null,
      "height": null,
      "justify_content": null,
      "justify_items": null,
      "left": null,
      "margin": null,
      "max_height": null,
      "max_width": null,
      "min_height": null,
      "min_width": null,
      "object_fit": null,
      "object_position": null,
      "order": null,
      "overflow": null,
      "overflow_x": null,
      "overflow_y": null,
      "padding": null,
      "right": null,
      "top": null,
      "visibility": null,
      "width": null
     }
    },
    "2912d0163a0346beabbb6f4984f02c08": {
     "model_module": "@jupyter-widgets/base",
     "model_module_version": "1.2.0",
     "model_name": "LayoutModel",
     "state": {
      "_model_module": "@jupyter-widgets/base",
      "_model_module_version": "1.2.0",
      "_model_name": "LayoutModel",
      "_view_count": null,
      "_view_module": "@jupyter-widgets/base",
      "_view_module_version": "1.2.0",
      "_view_name": "LayoutView",
      "align_content": null,
      "align_items": null,
      "align_self": null,
      "border": null,
      "bottom": null,
      "display": null,
      "flex": null,
      "flex_flow": null,
      "grid_area": null,
      "grid_auto_columns": null,
      "grid_auto_flow": null,
      "grid_auto_rows": null,
      "grid_column": null,
      "grid_gap": null,
      "grid_row": null,
      "grid_template_areas": null,
      "grid_template_columns": null,
      "grid_template_rows": null,
      "height": null,
      "justify_content": null,
      "justify_items": null,
      "left": null,
      "margin": null,
      "max_height": null,
      "max_width": null,
      "min_height": null,
      "min_width": null,
      "object_fit": null,
      "object_position": null,
      "order": null,
      "overflow": null,
      "overflow_x": null,
      "overflow_y": null,
      "padding": null,
      "right": null,
      "top": null,
      "visibility": null,
      "width": null
     }
    },
    "2d4e4e09ddaf4633ac631e329e98c740": {
     "model_module": "@jupyter-widgets/base",
     "model_module_version": "1.2.0",
     "model_name": "LayoutModel",
     "state": {
      "_model_module": "@jupyter-widgets/base",
      "_model_module_version": "1.2.0",
      "_model_name": "LayoutModel",
      "_view_count": null,
      "_view_module": "@jupyter-widgets/base",
      "_view_module_version": "1.2.0",
      "_view_name": "LayoutView",
      "align_content": null,
      "align_items": null,
      "align_self": null,
      "border": null,
      "bottom": null,
      "display": null,
      "flex": null,
      "flex_flow": null,
      "grid_area": null,
      "grid_auto_columns": null,
      "grid_auto_flow": null,
      "grid_auto_rows": null,
      "grid_column": null,
      "grid_gap": null,
      "grid_row": null,
      "grid_template_areas": null,
      "grid_template_columns": null,
      "grid_template_rows": null,
      "height": null,
      "justify_content": null,
      "justify_items": null,
      "left": null,
      "margin": null,
      "max_height": null,
      "max_width": null,
      "min_height": null,
      "min_width": null,
      "object_fit": null,
      "object_position": null,
      "order": null,
      "overflow": null,
      "overflow_x": null,
      "overflow_y": null,
      "padding": null,
      "right": null,
      "top": null,
      "visibility": null,
      "width": null
     }
    },
    "3291ac7c0d984b2d8a9aba095fe0968c": {
     "model_module": "@jupyter-widgets/base",
     "model_module_version": "1.2.0",
     "model_name": "LayoutModel",
     "state": {
      "_model_module": "@jupyter-widgets/base",
      "_model_module_version": "1.2.0",
      "_model_name": "LayoutModel",
      "_view_count": null,
      "_view_module": "@jupyter-widgets/base",
      "_view_module_version": "1.2.0",
      "_view_name": "LayoutView",
      "align_content": null,
      "align_items": null,
      "align_self": null,
      "border": null,
      "bottom": null,
      "display": null,
      "flex": null,
      "flex_flow": null,
      "grid_area": null,
      "grid_auto_columns": null,
      "grid_auto_flow": null,
      "grid_auto_rows": null,
      "grid_column": null,
      "grid_gap": null,
      "grid_row": null,
      "grid_template_areas": null,
      "grid_template_columns": null,
      "grid_template_rows": null,
      "height": null,
      "justify_content": null,
      "justify_items": null,
      "left": null,
      "margin": null,
      "max_height": null,
      "max_width": null,
      "min_height": null,
      "min_width": null,
      "object_fit": null,
      "object_position": null,
      "order": null,
      "overflow": null,
      "overflow_x": null,
      "overflow_y": null,
      "padding": null,
      "right": null,
      "top": null,
      "visibility": null,
      "width": null
     }
    },
    "38845c97260447e5aaa3c9373cd1ba90": {
     "model_module": "@jupyter-widgets/controls",
     "model_module_version": "1.5.0",
     "model_name": "HBoxModel",
     "state": {
      "_dom_classes": [],
      "_model_module": "@jupyter-widgets/controls",
      "_model_module_version": "1.5.0",
      "_model_name": "HBoxModel",
      "_view_count": null,
      "_view_module": "@jupyter-widgets/controls",
      "_view_module_version": "1.5.0",
      "_view_name": "HBoxView",
      "box_style": "",
      "children": [
       "IPY_MODEL_5c10c0053f79469d81754d77a06674be",
       "IPY_MODEL_e1486f84a8814b9e8a5afb6e99b3a126",
       "IPY_MODEL_9e43488709b941508204dcf8c25265bd"
      ],
      "layout": "IPY_MODEL_04516e62ae0343bea394c900959b0d7d"
     }
    },
    "40f880d8bd414917b81cd76850952ced": {
     "model_module": "@jupyter-widgets/controls",
     "model_module_version": "1.5.0",
     "model_name": "ProgressStyleModel",
     "state": {
      "_model_module": "@jupyter-widgets/controls",
      "_model_module_version": "1.5.0",
      "_model_name": "ProgressStyleModel",
      "_view_count": null,
      "_view_module": "@jupyter-widgets/base",
      "_view_module_version": "1.2.0",
      "_view_name": "StyleView",
      "bar_color": null,
      "description_width": ""
     }
    },
    "4da02588daa846599d17ca94ac29a562": {
     "model_module": "@jupyter-widgets/controls",
     "model_module_version": "1.5.0",
     "model_name": "DescriptionStyleModel",
     "state": {
      "_model_module": "@jupyter-widgets/controls",
      "_model_module_version": "1.5.0",
      "_model_name": "DescriptionStyleModel",
      "_view_count": null,
      "_view_module": "@jupyter-widgets/base",
      "_view_module_version": "1.2.0",
      "_view_name": "StyleView",
      "description_width": ""
     }
    },
    "4f75aa1ce5cd44248b204fdf5132847c": {
     "model_module": "@jupyter-widgets/controls",
     "model_module_version": "1.5.0",
     "model_name": "DescriptionStyleModel",
     "state": {
      "_model_module": "@jupyter-widgets/controls",
      "_model_module_version": "1.5.0",
      "_model_name": "DescriptionStyleModel",
      "_view_count": null,
      "_view_module": "@jupyter-widgets/base",
      "_view_module_version": "1.2.0",
      "_view_name": "StyleView",
      "description_width": ""
     }
    },
    "525f2fc5bdfb4521b735605e36ad7d07": {
     "model_module": "@jupyter-widgets/base",
     "model_module_version": "1.2.0",
     "model_name": "LayoutModel",
     "state": {
      "_model_module": "@jupyter-widgets/base",
      "_model_module_version": "1.2.0",
      "_model_name": "LayoutModel",
      "_view_count": null,
      "_view_module": "@jupyter-widgets/base",
      "_view_module_version": "1.2.0",
      "_view_name": "LayoutView",
      "align_content": null,
      "align_items": null,
      "align_self": null,
      "border": null,
      "bottom": null,
      "display": null,
      "flex": null,
      "flex_flow": null,
      "grid_area": null,
      "grid_auto_columns": null,
      "grid_auto_flow": null,
      "grid_auto_rows": null,
      "grid_column": null,
      "grid_gap": null,
      "grid_row": null,
      "grid_template_areas": null,
      "grid_template_columns": null,
      "grid_template_rows": null,
      "height": null,
      "justify_content": null,
      "justify_items": null,
      "left": null,
      "margin": null,
      "max_height": null,
      "max_width": null,
      "min_height": null,
      "min_width": null,
      "object_fit": null,
      "object_position": null,
      "order": null,
      "overflow": null,
      "overflow_x": null,
      "overflow_y": null,
      "padding": null,
      "right": null,
      "top": null,
      "visibility": null,
      "width": null
     }
    },
    "55320cce741d46adae93e2adef67b4ba": {
     "model_module": "@jupyter-widgets/controls",
     "model_module_version": "1.5.0",
     "model_name": "DescriptionStyleModel",
     "state": {
      "_model_module": "@jupyter-widgets/controls",
      "_model_module_version": "1.5.0",
      "_model_name": "DescriptionStyleModel",
      "_view_count": null,
      "_view_module": "@jupyter-widgets/base",
      "_view_module_version": "1.2.0",
      "_view_name": "StyleView",
      "description_width": ""
     }
    },
    "55893de5836e4f6393de3e0ef062027a": {
     "model_module": "@jupyter-widgets/base",
     "model_module_version": "1.2.0",
     "model_name": "LayoutModel",
     "state": {
      "_model_module": "@jupyter-widgets/base",
      "_model_module_version": "1.2.0",
      "_model_name": "LayoutModel",
      "_view_count": null,
      "_view_module": "@jupyter-widgets/base",
      "_view_module_version": "1.2.0",
      "_view_name": "LayoutView",
      "align_content": null,
      "align_items": null,
      "align_self": null,
      "border": null,
      "bottom": null,
      "display": null,
      "flex": null,
      "flex_flow": null,
      "grid_area": null,
      "grid_auto_columns": null,
      "grid_auto_flow": null,
      "grid_auto_rows": null,
      "grid_column": null,
      "grid_gap": null,
      "grid_row": null,
      "grid_template_areas": null,
      "grid_template_columns": null,
      "grid_template_rows": null,
      "height": null,
      "justify_content": null,
      "justify_items": null,
      "left": null,
      "margin": null,
      "max_height": null,
      "max_width": null,
      "min_height": null,
      "min_width": null,
      "object_fit": null,
      "object_position": null,
      "order": null,
      "overflow": null,
      "overflow_x": null,
      "overflow_y": null,
      "padding": null,
      "right": null,
      "top": null,
      "visibility": null,
      "width": null
     }
    },
    "5c10c0053f79469d81754d77a06674be": {
     "model_module": "@jupyter-widgets/controls",
     "model_module_version": "1.5.0",
     "model_name": "HTMLModel",
     "state": {
      "_dom_classes": [],
      "_model_module": "@jupyter-widgets/controls",
      "_model_module_version": "1.5.0",
      "_model_name": "HTMLModel",
      "_view_count": null,
      "_view_module": "@jupyter-widgets/controls",
      "_view_module_version": "1.5.0",
      "_view_name": "HTMLView",
      "description": "",
      "description_tooltip": null,
      "layout": "IPY_MODEL_2912d0163a0346beabbb6f4984f02c08",
      "placeholder": "​",
      "style": "IPY_MODEL_6946c2515b0e43c6ab903427d16e34d4",
      "value": "Pandas Apply: 100%"
     }
    },
    "5f813fdaaec441119f2c5782ae0085b5": {
     "model_module": "@jupyter-widgets/controls",
     "model_module_version": "1.5.0",
     "model_name": "HTMLModel",
     "state": {
      "_dom_classes": [],
      "_model_module": "@jupyter-widgets/controls",
      "_model_module_version": "1.5.0",
      "_model_name": "HTMLModel",
      "_view_count": null,
      "_view_module": "@jupyter-widgets/controls",
      "_view_module_version": "1.5.0",
      "_view_name": "HTMLView",
      "description": "",
      "description_tooltip": null,
      "layout": "IPY_MODEL_e53da70adf504210887dad0dc3a645c5",
      "placeholder": "​",
      "style": "IPY_MODEL_745b60382e384bea91c34f074d739b23",
      "value": "Pandas Apply: 100%"
     }
    },
    "6021e035d42d48dbbb60effec825764f": {
     "model_module": "@jupyter-widgets/controls",
     "model_module_version": "1.5.0",
     "model_name": "HTMLModel",
     "state": {
      "_dom_classes": [],
      "_model_module": "@jupyter-widgets/controls",
      "_model_module_version": "1.5.0",
      "_model_name": "HTMLModel",
      "_view_count": null,
      "_view_module": "@jupyter-widgets/controls",
      "_view_module_version": "1.5.0",
      "_view_name": "HTMLView",
      "description": "",
      "description_tooltip": null,
      "layout": "IPY_MODEL_525f2fc5bdfb4521b735605e36ad7d07",
      "placeholder": "​",
      "style": "IPY_MODEL_bf832728174c4caa87d4fd877d559b9f",
      "value": " 21072/21072 [03:18&lt;00:00, 102.43it/s]"
     }
    },
    "6946c2515b0e43c6ab903427d16e34d4": {
     "model_module": "@jupyter-widgets/controls",
     "model_module_version": "1.5.0",
     "model_name": "DescriptionStyleModel",
     "state": {
      "_model_module": "@jupyter-widgets/controls",
      "_model_module_version": "1.5.0",
      "_model_name": "DescriptionStyleModel",
      "_view_count": null,
      "_view_module": "@jupyter-widgets/base",
      "_view_module_version": "1.2.0",
      "_view_name": "StyleView",
      "description_width": ""
     }
    },
    "73b493a658a74272a603f95b4b622cf9": {
     "model_module": "@jupyter-widgets/base",
     "model_module_version": "1.2.0",
     "model_name": "LayoutModel",
     "state": {
      "_model_module": "@jupyter-widgets/base",
      "_model_module_version": "1.2.0",
      "_model_name": "LayoutModel",
      "_view_count": null,
      "_view_module": "@jupyter-widgets/base",
      "_view_module_version": "1.2.0",
      "_view_name": "LayoutView",
      "align_content": null,
      "align_items": null,
      "align_self": null,
      "border": null,
      "bottom": null,
      "display": null,
      "flex": null,
      "flex_flow": null,
      "grid_area": null,
      "grid_auto_columns": null,
      "grid_auto_flow": null,
      "grid_auto_rows": null,
      "grid_column": null,
      "grid_gap": null,
      "grid_row": null,
      "grid_template_areas": null,
      "grid_template_columns": null,
      "grid_template_rows": null,
      "height": null,
      "justify_content": null,
      "justify_items": null,
      "left": null,
      "margin": null,
      "max_height": null,
      "max_width": null,
      "min_height": null,
      "min_width": null,
      "object_fit": null,
      "object_position": null,
      "order": null,
      "overflow": null,
      "overflow_x": null,
      "overflow_y": null,
      "padding": null,
      "right": null,
      "top": null,
      "visibility": null,
      "width": null
     }
    },
    "745b60382e384bea91c34f074d739b23": {
     "model_module": "@jupyter-widgets/controls",
     "model_module_version": "1.5.0",
     "model_name": "DescriptionStyleModel",
     "state": {
      "_model_module": "@jupyter-widgets/controls",
      "_model_module_version": "1.5.0",
      "_model_name": "DescriptionStyleModel",
      "_view_count": null,
      "_view_module": "@jupyter-widgets/base",
      "_view_module_version": "1.2.0",
      "_view_name": "StyleView",
      "description_width": ""
     }
    },
    "7ce704da10854481b5db21536566270e": {
     "model_module": "@jupyter-widgets/base",
     "model_module_version": "1.2.0",
     "model_name": "LayoutModel",
     "state": {
      "_model_module": "@jupyter-widgets/base",
      "_model_module_version": "1.2.0",
      "_model_name": "LayoutModel",
      "_view_count": null,
      "_view_module": "@jupyter-widgets/base",
      "_view_module_version": "1.2.0",
      "_view_name": "LayoutView",
      "align_content": null,
      "align_items": null,
      "align_self": null,
      "border": null,
      "bottom": null,
      "display": null,
      "flex": null,
      "flex_flow": null,
      "grid_area": null,
      "grid_auto_columns": null,
      "grid_auto_flow": null,
      "grid_auto_rows": null,
      "grid_column": null,
      "grid_gap": null,
      "grid_row": null,
      "grid_template_areas": null,
      "grid_template_columns": null,
      "grid_template_rows": null,
      "height": null,
      "justify_content": null,
      "justify_items": null,
      "left": null,
      "margin": null,
      "max_height": null,
      "max_width": null,
      "min_height": null,
      "min_width": null,
      "object_fit": null,
      "object_position": null,
      "order": null,
      "overflow": null,
      "overflow_x": null,
      "overflow_y": null,
      "padding": null,
      "right": null,
      "top": null,
      "visibility": null,
      "width": null
     }
    },
    "8066cf14057e4bda8a308c316a9ee7d2": {
     "model_module": "@jupyter-widgets/controls",
     "model_module_version": "1.5.0",
     "model_name": "HBoxModel",
     "state": {
      "_dom_classes": [],
      "_model_module": "@jupyter-widgets/controls",
      "_model_module_version": "1.5.0",
      "_model_name": "HBoxModel",
      "_view_count": null,
      "_view_module": "@jupyter-widgets/controls",
      "_view_module_version": "1.5.0",
      "_view_name": "HBoxView",
      "box_style": "",
      "children": [
       "IPY_MODEL_5f813fdaaec441119f2c5782ae0085b5",
       "IPY_MODEL_941e15aaa55c4a0e9110b40e2397d2a2",
       "IPY_MODEL_6021e035d42d48dbbb60effec825764f"
      ],
      "layout": "IPY_MODEL_73b493a658a74272a603f95b4b622cf9"
     }
    },
    "941e15aaa55c4a0e9110b40e2397d2a2": {
     "model_module": "@jupyter-widgets/controls",
     "model_module_version": "1.5.0",
     "model_name": "FloatProgressModel",
     "state": {
      "_dom_classes": [],
      "_model_module": "@jupyter-widgets/controls",
      "_model_module_version": "1.5.0",
      "_model_name": "FloatProgressModel",
      "_view_count": null,
      "_view_module": "@jupyter-widgets/controls",
      "_view_module_version": "1.5.0",
      "_view_name": "ProgressView",
      "bar_style": "success",
      "description": "",
      "description_tooltip": null,
      "layout": "IPY_MODEL_bb494dd82185486389ccecf6ae9c8d88",
      "max": 21072,
      "min": 0,
      "orientation": "horizontal",
      "style": "IPY_MODEL_40f880d8bd414917b81cd76850952ced",
      "value": 21072
     }
    },
    "9e43488709b941508204dcf8c25265bd": {
     "model_module": "@jupyter-widgets/controls",
     "model_module_version": "1.5.0",
     "model_name": "HTMLModel",
     "state": {
      "_dom_classes": [],
      "_model_module": "@jupyter-widgets/controls",
      "_model_module_version": "1.5.0",
      "_model_name": "HTMLModel",
      "_view_count": null,
      "_view_module": "@jupyter-widgets/controls",
      "_view_module_version": "1.5.0",
      "_view_name": "HTMLView",
      "description": "",
      "description_tooltip": null,
      "layout": "IPY_MODEL_3291ac7c0d984b2d8a9aba095fe0968c",
      "placeholder": "​",
      "style": "IPY_MODEL_55320cce741d46adae93e2adef67b4ba",
      "value": " 21072/21072 [00:07&lt;00:00, 2581.79it/s]"
     }
    },
    "abdbbc28910940d1ac77e9f357d25900": {
     "model_module": "@jupyter-widgets/controls",
     "model_module_version": "1.5.0",
     "model_name": "ProgressStyleModel",
     "state": {
      "_model_module": "@jupyter-widgets/controls",
      "_model_module_version": "1.5.0",
      "_model_name": "ProgressStyleModel",
      "_view_count": null,
      "_view_module": "@jupyter-widgets/base",
      "_view_module_version": "1.2.0",
      "_view_name": "StyleView",
      "bar_color": null,
      "description_width": ""
     }
    },
    "bb494dd82185486389ccecf6ae9c8d88": {
     "model_module": "@jupyter-widgets/base",
     "model_module_version": "1.2.0",
     "model_name": "LayoutModel",
     "state": {
      "_model_module": "@jupyter-widgets/base",
      "_model_module_version": "1.2.0",
      "_model_name": "LayoutModel",
      "_view_count": null,
      "_view_module": "@jupyter-widgets/base",
      "_view_module_version": "1.2.0",
      "_view_name": "LayoutView",
      "align_content": null,
      "align_items": null,
      "align_self": null,
      "border": null,
      "bottom": null,
      "display": null,
      "flex": null,
      "flex_flow": null,
      "grid_area": null,
      "grid_auto_columns": null,
      "grid_auto_flow": null,
      "grid_auto_rows": null,
      "grid_column": null,
      "grid_gap": null,
      "grid_row": null,
      "grid_template_areas": null,
      "grid_template_columns": null,
      "grid_template_rows": null,
      "height": null,
      "justify_content": null,
      "justify_items": null,
      "left": null,
      "margin": null,
      "max_height": null,
      "max_width": null,
      "min_height": null,
      "min_width": null,
      "object_fit": null,
      "object_position": null,
      "order": null,
      "overflow": null,
      "overflow_x": null,
      "overflow_y": null,
      "padding": null,
      "right": null,
      "top": null,
      "visibility": null,
      "width": null
     }
    },
    "bf832728174c4caa87d4fd877d559b9f": {
     "model_module": "@jupyter-widgets/controls",
     "model_module_version": "1.5.0",
     "model_name": "DescriptionStyleModel",
     "state": {
      "_model_module": "@jupyter-widgets/controls",
      "_model_module_version": "1.5.0",
      "_model_name": "DescriptionStyleModel",
      "_view_count": null,
      "_view_module": "@jupyter-widgets/base",
      "_view_module_version": "1.2.0",
      "_view_name": "StyleView",
      "description_width": ""
     }
    },
    "c629667ec09e425b9152dfd3afcaaa72": {
     "model_module": "@jupyter-widgets/controls",
     "model_module_version": "1.5.0",
     "model_name": "HBoxModel",
     "state": {
      "_dom_classes": [],
      "_model_module": "@jupyter-widgets/controls",
      "_model_module_version": "1.5.0",
      "_model_name": "HBoxModel",
      "_view_count": null,
      "_view_module": "@jupyter-widgets/controls",
      "_view_module_version": "1.5.0",
      "_view_name": "HBoxView",
      "box_style": "",
      "children": [
       "IPY_MODEL_0843581df6334320ba57c99c3576b8ff",
       "IPY_MODEL_f7ac165df969419b8e4b19e625a5523d",
       "IPY_MODEL_000c40fdfd174fc192ec8b9ecb8bb6f9"
      ],
      "layout": "IPY_MODEL_7ce704da10854481b5db21536566270e"
     }
    },
    "ca154139b4774c90b1a5e9062df8ca09": {
     "model_module": "@jupyter-widgets/controls",
     "model_module_version": "1.5.0",
     "model_name": "ProgressStyleModel",
     "state": {
      "_model_module": "@jupyter-widgets/controls",
      "_model_module_version": "1.5.0",
      "_model_name": "ProgressStyleModel",
      "_view_count": null,
      "_view_module": "@jupyter-widgets/base",
      "_view_module_version": "1.2.0",
      "_view_name": "StyleView",
      "bar_color": null,
      "description_width": ""
     }
    },
    "e1486f84a8814b9e8a5afb6e99b3a126": {
     "model_module": "@jupyter-widgets/controls",
     "model_module_version": "1.5.0",
     "model_name": "FloatProgressModel",
     "state": {
      "_dom_classes": [],
      "_model_module": "@jupyter-widgets/controls",
      "_model_module_version": "1.5.0",
      "_model_name": "FloatProgressModel",
      "_view_count": null,
      "_view_module": "@jupyter-widgets/controls",
      "_view_module_version": "1.5.0",
      "_view_name": "ProgressView",
      "bar_style": "success",
      "description": "",
      "description_tooltip": null,
      "layout": "IPY_MODEL_f5edaac2c4324673b5552e8316ae6716",
      "max": 21072,
      "min": 0,
      "orientation": "horizontal",
      "style": "IPY_MODEL_ca154139b4774c90b1a5e9062df8ca09",
      "value": 21072
     }
    },
    "e53da70adf504210887dad0dc3a645c5": {
     "model_module": "@jupyter-widgets/base",
     "model_module_version": "1.2.0",
     "model_name": "LayoutModel",
     "state": {
      "_model_module": "@jupyter-widgets/base",
      "_model_module_version": "1.2.0",
      "_model_name": "LayoutModel",
      "_view_count": null,
      "_view_module": "@jupyter-widgets/base",
      "_view_module_version": "1.2.0",
      "_view_name": "LayoutView",
      "align_content": null,
      "align_items": null,
      "align_self": null,
      "border": null,
      "bottom": null,
      "display": null,
      "flex": null,
      "flex_flow": null,
      "grid_area": null,
      "grid_auto_columns": null,
      "grid_auto_flow": null,
      "grid_auto_rows": null,
      "grid_column": null,
      "grid_gap": null,
      "grid_row": null,
      "grid_template_areas": null,
      "grid_template_columns": null,
      "grid_template_rows": null,
      "height": null,
      "justify_content": null,
      "justify_items": null,
      "left": null,
      "margin": null,
      "max_height": null,
      "max_width": null,
      "min_height": null,
      "min_width": null,
      "object_fit": null,
      "object_position": null,
      "order": null,
      "overflow": null,
      "overflow_x": null,
      "overflow_y": null,
      "padding": null,
      "right": null,
      "top": null,
      "visibility": null,
      "width": null
     }
    },
    "f5edaac2c4324673b5552e8316ae6716": {
     "model_module": "@jupyter-widgets/base",
     "model_module_version": "1.2.0",
     "model_name": "LayoutModel",
     "state": {
      "_model_module": "@jupyter-widgets/base",
      "_model_module_version": "1.2.0",
      "_model_name": "LayoutModel",
      "_view_count": null,
      "_view_module": "@jupyter-widgets/base",
      "_view_module_version": "1.2.0",
      "_view_name": "LayoutView",
      "align_content": null,
      "align_items": null,
      "align_self": null,
      "border": null,
      "bottom": null,
      "display": null,
      "flex": null,
      "flex_flow": null,
      "grid_area": null,
      "grid_auto_columns": null,
      "grid_auto_flow": null,
      "grid_auto_rows": null,
      "grid_column": null,
      "grid_gap": null,
      "grid_row": null,
      "grid_template_areas": null,
      "grid_template_columns": null,
      "grid_template_rows": null,
      "height": null,
      "justify_content": null,
      "justify_items": null,
      "left": null,
      "margin": null,
      "max_height": null,
      "max_width": null,
      "min_height": null,
      "min_width": null,
      "object_fit": null,
      "object_position": null,
      "order": null,
      "overflow": null,
      "overflow_x": null,
      "overflow_y": null,
      "padding": null,
      "right": null,
      "top": null,
      "visibility": null,
      "width": null
     }
    },
    "f7ac165df969419b8e4b19e625a5523d": {
     "model_module": "@jupyter-widgets/controls",
     "model_module_version": "1.5.0",
     "model_name": "FloatProgressModel",
     "state": {
      "_dom_classes": [],
      "_model_module": "@jupyter-widgets/controls",
      "_model_module_version": "1.5.0",
      "_model_name": "FloatProgressModel",
      "_view_count": null,
      "_view_module": "@jupyter-widgets/controls",
      "_view_module_version": "1.5.0",
      "_view_name": "ProgressView",
      "bar_style": "success",
      "description": "",
      "description_tooltip": null,
      "layout": "IPY_MODEL_0c28e4f540284003bbe826ee2f354223",
      "max": 21072,
      "min": 0,
      "orientation": "horizontal",
      "style": "IPY_MODEL_abdbbc28910940d1ac77e9f357d25900",
      "value": 21072
     }
    }
   }
  }
 },
 "nbformat": 4,
 "nbformat_minor": 1
}
